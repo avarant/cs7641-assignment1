{
  "nbformat": 4,
  "nbformat_minor": 0,
  "metadata": {
    "colab": {
      "provenance": [],
      "collapsed_sections": [
        "Wu3ByE0zi2lx",
        "o7wWP1bpK_Bx"
      ],
      "toc_visible": true
    },
    "kernelspec": {
      "name": "python3",
      "display_name": "Python 3"
    },
    "language_info": {
      "name": "python"
    }
  },
  "cells": [
    {
      "cell_type": "markdown",
      "source": [
        "# CS7641 Asignment 1 Breast Cancer Wisconsin dataset\n",
        "\n",
        "by Varant Arabian (varabian3)"
      ],
      "metadata": {
        "id": "jTfWtZhGAUQ7"
      }
    },
    {
      "cell_type": "code",
      "source": [
        "# # mount google drive\n",
        "# from google.colab import drive\n",
        "# drive.mount('/content/gdrive')"
      ],
      "metadata": {
        "id": "BHOO5YA1iqQ7"
      },
      "execution_count": null,
      "outputs": []
    },
    {
      "cell_type": "code",
      "source": [
        "!mkdir -p plots\n",
        "!mkdir -p plots/titanic\n",
        "!mkdir -p plots/breast_cancer"
      ],
      "metadata": {
        "id": "9Tt4RgFiWZdQ"
      },
      "execution_count": null,
      "outputs": []
    },
    {
      "cell_type": "markdown",
      "source": [
        "# Import dependencies"
      ],
      "metadata": {
        "id": "UV_pKf0g4pJp"
      }
    },
    {
      "cell_type": "code",
      "execution_count": null,
      "metadata": {
        "id": "1asyaqD9pMSG"
      },
      "outputs": [],
      "source": [
        "import os\n",
        "import warnings\n",
        "import numpy as np\n",
        "import pandas as pd\n",
        "import time\n",
        "\n",
        "import seaborn as sns\n",
        "import matplotlib.pyplot as plt\n",
        "%matplotlib inline\n",
        "\n",
        "from sklearn.datasets import fetch_openml\n",
        "from sklearn.preprocessing import LabelEncoder, StandardScaler\n",
        "from sklearn.pipeline import make_pipeline\n",
        "from sklearn.model_selection import train_test_split, cross_validate, GridSearchCV, learning_curve, validation_curve, StratifiedKFold, KFold\n",
        "from sklearn.metrics import accuracy_score, classification_report, confusion_matrix\n",
        "from sklearn.utils import check_random_state\n",
        "from sklearn.tree import DecisionTreeClassifier\n",
        "from sklearn.svm import SVC, LinearSVC\n",
        "from sklearn.neighbors import KNeighborsClassifier\n",
        "from sklearn.ensemble import AdaBoostClassifier\n",
        "from sklearn.neural_network import MLPClassifier\n",
        "from sklearn.exceptions import ConvergenceWarning\n",
        "from sklearn.datasets import load_breast_cancer\n",
        "\n",
        "from IPython.display import clear_output \n",
        "\n",
        "sns.set_theme(style=\"darkgrid\")"
      ]
    },
    {
      "cell_type": "markdown",
      "source": [
        "# Breast Cancer Wisconsin dataset"
      ],
      "metadata": {
        "id": "Wu3ByE0zi2lx"
      }
    },
    {
      "cell_type": "code",
      "source": [
        "dataset_name = \"breast_cancer\""
      ],
      "metadata": {
        "id": "rmroZ6B2i_XQ"
      },
      "execution_count": null,
      "outputs": []
    },
    {
      "cell_type": "code",
      "source": [
        "data = load_breast_cancer()\n",
        "df = pd.DataFrame(data.data, columns=data.feature_names)\n",
        "df['target'] = data.target\n",
        "df.head()"
      ],
      "metadata": {
        "colab": {
          "base_uri": "https://localhost:8080/"
        },
        "id": "ebJr43XZi06p",
        "outputId": "f9f201f5-49d6-4b08-a59a-29a7ba33efe1"
      },
      "execution_count": null,
      "outputs": [
        {
          "output_type": "execute_result",
          "data": {
            "text/plain": [
              "   mean radius  mean texture  mean perimeter  mean area  mean smoothness  \\\n",
              "0        17.99         10.38          122.80     1001.0          0.11840   \n",
              "1        20.57         17.77          132.90     1326.0          0.08474   \n",
              "2        19.69         21.25          130.00     1203.0          0.10960   \n",
              "3        11.42         20.38           77.58      386.1          0.14250   \n",
              "4        20.29         14.34          135.10     1297.0          0.10030   \n",
              "\n",
              "   mean compactness  mean concavity  mean concave points  mean symmetry  \\\n",
              "0           0.27760          0.3001              0.14710         0.2419   \n",
              "1           0.07864          0.0869              0.07017         0.1812   \n",
              "2           0.15990          0.1974              0.12790         0.2069   \n",
              "3           0.28390          0.2414              0.10520         0.2597   \n",
              "4           0.13280          0.1980              0.10430         0.1809   \n",
              "\n",
              "   mean fractal dimension  ...  worst texture  worst perimeter  worst area  \\\n",
              "0                 0.07871  ...          17.33           184.60      2019.0   \n",
              "1                 0.05667  ...          23.41           158.80      1956.0   \n",
              "2                 0.05999  ...          25.53           152.50      1709.0   \n",
              "3                 0.09744  ...          26.50            98.87       567.7   \n",
              "4                 0.05883  ...          16.67           152.20      1575.0   \n",
              "\n",
              "   worst smoothness  worst compactness  worst concavity  worst concave points  \\\n",
              "0            0.1622             0.6656           0.7119                0.2654   \n",
              "1            0.1238             0.1866           0.2416                0.1860   \n",
              "2            0.1444             0.4245           0.4504                0.2430   \n",
              "3            0.2098             0.8663           0.6869                0.2575   \n",
              "4            0.1374             0.2050           0.4000                0.1625   \n",
              "\n",
              "   worst symmetry  worst fractal dimension  target  \n",
              "0          0.4601                  0.11890       0  \n",
              "1          0.2750                  0.08902       0  \n",
              "2          0.3613                  0.08758       0  \n",
              "3          0.6638                  0.17300       0  \n",
              "4          0.2364                  0.07678       0  \n",
              "\n",
              "[5 rows x 31 columns]"
            ],
            "text/html": [
              "\n",
              "  <div id=\"df-244e2cfb-5498-4ef0-af88-655596301bd0\">\n",
              "    <div class=\"colab-df-container\">\n",
              "      <div>\n",
              "<style scoped>\n",
              "    .dataframe tbody tr th:only-of-type {\n",
              "        vertical-align: middle;\n",
              "    }\n",
              "\n",
              "    .dataframe tbody tr th {\n",
              "        vertical-align: top;\n",
              "    }\n",
              "\n",
              "    .dataframe thead th {\n",
              "        text-align: right;\n",
              "    }\n",
              "</style>\n",
              "<table border=\"1\" class=\"dataframe\">\n",
              "  <thead>\n",
              "    <tr style=\"text-align: right;\">\n",
              "      <th></th>\n",
              "      <th>mean radius</th>\n",
              "      <th>mean texture</th>\n",
              "      <th>mean perimeter</th>\n",
              "      <th>mean area</th>\n",
              "      <th>mean smoothness</th>\n",
              "      <th>mean compactness</th>\n",
              "      <th>mean concavity</th>\n",
              "      <th>mean concave points</th>\n",
              "      <th>mean symmetry</th>\n",
              "      <th>mean fractal dimension</th>\n",
              "      <th>...</th>\n",
              "      <th>worst texture</th>\n",
              "      <th>worst perimeter</th>\n",
              "      <th>worst area</th>\n",
              "      <th>worst smoothness</th>\n",
              "      <th>worst compactness</th>\n",
              "      <th>worst concavity</th>\n",
              "      <th>worst concave points</th>\n",
              "      <th>worst symmetry</th>\n",
              "      <th>worst fractal dimension</th>\n",
              "      <th>target</th>\n",
              "    </tr>\n",
              "  </thead>\n",
              "  <tbody>\n",
              "    <tr>\n",
              "      <th>0</th>\n",
              "      <td>17.99</td>\n",
              "      <td>10.38</td>\n",
              "      <td>122.80</td>\n",
              "      <td>1001.0</td>\n",
              "      <td>0.11840</td>\n",
              "      <td>0.27760</td>\n",
              "      <td>0.3001</td>\n",
              "      <td>0.14710</td>\n",
              "      <td>0.2419</td>\n",
              "      <td>0.07871</td>\n",
              "      <td>...</td>\n",
              "      <td>17.33</td>\n",
              "      <td>184.60</td>\n",
              "      <td>2019.0</td>\n",
              "      <td>0.1622</td>\n",
              "      <td>0.6656</td>\n",
              "      <td>0.7119</td>\n",
              "      <td>0.2654</td>\n",
              "      <td>0.4601</td>\n",
              "      <td>0.11890</td>\n",
              "      <td>0</td>\n",
              "    </tr>\n",
              "    <tr>\n",
              "      <th>1</th>\n",
              "      <td>20.57</td>\n",
              "      <td>17.77</td>\n",
              "      <td>132.90</td>\n",
              "      <td>1326.0</td>\n",
              "      <td>0.08474</td>\n",
              "      <td>0.07864</td>\n",
              "      <td>0.0869</td>\n",
              "      <td>0.07017</td>\n",
              "      <td>0.1812</td>\n",
              "      <td>0.05667</td>\n",
              "      <td>...</td>\n",
              "      <td>23.41</td>\n",
              "      <td>158.80</td>\n",
              "      <td>1956.0</td>\n",
              "      <td>0.1238</td>\n",
              "      <td>0.1866</td>\n",
              "      <td>0.2416</td>\n",
              "      <td>0.1860</td>\n",
              "      <td>0.2750</td>\n",
              "      <td>0.08902</td>\n",
              "      <td>0</td>\n",
              "    </tr>\n",
              "    <tr>\n",
              "      <th>2</th>\n",
              "      <td>19.69</td>\n",
              "      <td>21.25</td>\n",
              "      <td>130.00</td>\n",
              "      <td>1203.0</td>\n",
              "      <td>0.10960</td>\n",
              "      <td>0.15990</td>\n",
              "      <td>0.1974</td>\n",
              "      <td>0.12790</td>\n",
              "      <td>0.2069</td>\n",
              "      <td>0.05999</td>\n",
              "      <td>...</td>\n",
              "      <td>25.53</td>\n",
              "      <td>152.50</td>\n",
              "      <td>1709.0</td>\n",
              "      <td>0.1444</td>\n",
              "      <td>0.4245</td>\n",
              "      <td>0.4504</td>\n",
              "      <td>0.2430</td>\n",
              "      <td>0.3613</td>\n",
              "      <td>0.08758</td>\n",
              "      <td>0</td>\n",
              "    </tr>\n",
              "    <tr>\n",
              "      <th>3</th>\n",
              "      <td>11.42</td>\n",
              "      <td>20.38</td>\n",
              "      <td>77.58</td>\n",
              "      <td>386.1</td>\n",
              "      <td>0.14250</td>\n",
              "      <td>0.28390</td>\n",
              "      <td>0.2414</td>\n",
              "      <td>0.10520</td>\n",
              "      <td>0.2597</td>\n",
              "      <td>0.09744</td>\n",
              "      <td>...</td>\n",
              "      <td>26.50</td>\n",
              "      <td>98.87</td>\n",
              "      <td>567.7</td>\n",
              "      <td>0.2098</td>\n",
              "      <td>0.8663</td>\n",
              "      <td>0.6869</td>\n",
              "      <td>0.2575</td>\n",
              "      <td>0.6638</td>\n",
              "      <td>0.17300</td>\n",
              "      <td>0</td>\n",
              "    </tr>\n",
              "    <tr>\n",
              "      <th>4</th>\n",
              "      <td>20.29</td>\n",
              "      <td>14.34</td>\n",
              "      <td>135.10</td>\n",
              "      <td>1297.0</td>\n",
              "      <td>0.10030</td>\n",
              "      <td>0.13280</td>\n",
              "      <td>0.1980</td>\n",
              "      <td>0.10430</td>\n",
              "      <td>0.1809</td>\n",
              "      <td>0.05883</td>\n",
              "      <td>...</td>\n",
              "      <td>16.67</td>\n",
              "      <td>152.20</td>\n",
              "      <td>1575.0</td>\n",
              "      <td>0.1374</td>\n",
              "      <td>0.2050</td>\n",
              "      <td>0.4000</td>\n",
              "      <td>0.1625</td>\n",
              "      <td>0.2364</td>\n",
              "      <td>0.07678</td>\n",
              "      <td>0</td>\n",
              "    </tr>\n",
              "  </tbody>\n",
              "</table>\n",
              "<p>5 rows × 31 columns</p>\n",
              "</div>\n",
              "      <button class=\"colab-df-convert\" onclick=\"convertToInteractive('df-244e2cfb-5498-4ef0-af88-655596301bd0')\"\n",
              "              title=\"Convert this dataframe to an interactive table.\"\n",
              "              style=\"display:none;\">\n",
              "        \n",
              "  <svg xmlns=\"http://www.w3.org/2000/svg\" height=\"24px\"viewBox=\"0 0 24 24\"\n",
              "       width=\"24px\">\n",
              "    <path d=\"M0 0h24v24H0V0z\" fill=\"none\"/>\n",
              "    <path d=\"M18.56 5.44l.94 2.06.94-2.06 2.06-.94-2.06-.94-.94-2.06-.94 2.06-2.06.94zm-11 1L8.5 8.5l.94-2.06 2.06-.94-2.06-.94L8.5 2.5l-.94 2.06-2.06.94zm10 10l.94 2.06.94-2.06 2.06-.94-2.06-.94-.94-2.06-.94 2.06-2.06.94z\"/><path d=\"M17.41 7.96l-1.37-1.37c-.4-.4-.92-.59-1.43-.59-.52 0-1.04.2-1.43.59L10.3 9.45l-7.72 7.72c-.78.78-.78 2.05 0 2.83L4 21.41c.39.39.9.59 1.41.59.51 0 1.02-.2 1.41-.59l7.78-7.78 2.81-2.81c.8-.78.8-2.07 0-2.86zM5.41 20L4 18.59l7.72-7.72 1.47 1.35L5.41 20z\"/>\n",
              "  </svg>\n",
              "      </button>\n",
              "      \n",
              "  <style>\n",
              "    .colab-df-container {\n",
              "      display:flex;\n",
              "      flex-wrap:wrap;\n",
              "      gap: 12px;\n",
              "    }\n",
              "\n",
              "    .colab-df-convert {\n",
              "      background-color: #E8F0FE;\n",
              "      border: none;\n",
              "      border-radius: 50%;\n",
              "      cursor: pointer;\n",
              "      display: none;\n",
              "      fill: #1967D2;\n",
              "      height: 32px;\n",
              "      padding: 0 0 0 0;\n",
              "      width: 32px;\n",
              "    }\n",
              "\n",
              "    .colab-df-convert:hover {\n",
              "      background-color: #E2EBFA;\n",
              "      box-shadow: 0px 1px 2px rgba(60, 64, 67, 0.3), 0px 1px 3px 1px rgba(60, 64, 67, 0.15);\n",
              "      fill: #174EA6;\n",
              "    }\n",
              "\n",
              "    [theme=dark] .colab-df-convert {\n",
              "      background-color: #3B4455;\n",
              "      fill: #D2E3FC;\n",
              "    }\n",
              "\n",
              "    [theme=dark] .colab-df-convert:hover {\n",
              "      background-color: #434B5C;\n",
              "      box-shadow: 0px 1px 3px 1px rgba(0, 0, 0, 0.15);\n",
              "      filter: drop-shadow(0px 1px 2px rgba(0, 0, 0, 0.3));\n",
              "      fill: #FFFFFF;\n",
              "    }\n",
              "  </style>\n",
              "\n",
              "      <script>\n",
              "        const buttonEl =\n",
              "          document.querySelector('#df-244e2cfb-5498-4ef0-af88-655596301bd0 button.colab-df-convert');\n",
              "        buttonEl.style.display =\n",
              "          google.colab.kernel.accessAllowed ? 'block' : 'none';\n",
              "\n",
              "        async function convertToInteractive(key) {\n",
              "          const element = document.querySelector('#df-244e2cfb-5498-4ef0-af88-655596301bd0');\n",
              "          const dataTable =\n",
              "            await google.colab.kernel.invokeFunction('convertToInteractive',\n",
              "                                                     [key], {});\n",
              "          if (!dataTable) return;\n",
              "\n",
              "          const docLinkHtml = 'Like what you see? Visit the ' +\n",
              "            '<a target=\"_blank\" href=https://colab.research.google.com/notebooks/data_table.ipynb>data table notebook</a>'\n",
              "            + ' to learn more about interactive tables.';\n",
              "          element.innerHTML = '';\n",
              "          dataTable['output_type'] = 'display_data';\n",
              "          await google.colab.output.renderOutput(dataTable, element);\n",
              "          const docLink = document.createElement('div');\n",
              "          docLink.innerHTML = docLinkHtml;\n",
              "          element.appendChild(docLink);\n",
              "        }\n",
              "      </script>\n",
              "    </div>\n",
              "  </div>\n",
              "  "
            ]
          },
          "metadata": {},
          "execution_count": 5
        }
      ]
    },
    {
      "cell_type": "code",
      "source": [
        "df['target'].value_counts()"
      ],
      "metadata": {
        "colab": {
          "base_uri": "https://localhost:8080/"
        },
        "id": "At86QZxki5PB",
        "outputId": "0a49a519-e521-4a88-cd59-1aa5f87210ae"
      },
      "execution_count": null,
      "outputs": [
        {
          "output_type": "execute_result",
          "data": {
            "text/plain": [
              "1    357\n",
              "0    212\n",
              "Name: target, dtype: int64"
            ]
          },
          "metadata": {},
          "execution_count": 6
        }
      ]
    },
    {
      "cell_type": "code",
      "source": [
        "X = data.data\n",
        "y = data.target\n",
        "\n",
        "scaler = StandardScaler()\n",
        "X = scaler.fit_transform(X)"
      ],
      "metadata": {
        "id": "OpqyB77wi6c6"
      },
      "execution_count": null,
      "outputs": []
    },
    {
      "cell_type": "code",
      "source": [
        "X_train, X_test, y_train, y_test = train_test_split(\n",
        "    X, y, test_size=0.3, shuffle=True, stratify=y\n",
        ")\n",
        "print(X_train.shape, X_test.shape)"
      ],
      "metadata": {
        "colab": {
          "base_uri": "https://localhost:8080/"
        },
        "id": "XQ_IhTh3i8NR",
        "outputId": "9b7556b4-b8f0-49f7-88ec-3d5197e8ea9c"
      },
      "execution_count": null,
      "outputs": [
        {
          "output_type": "stream",
          "name": "stdout",
          "text": [
            "(398, 30) (171, 30)\n"
          ]
        }
      ]
    },
    {
      "cell_type": "markdown",
      "source": [
        "# Define methods and variables"
      ],
      "metadata": {
        "id": "o7wWP1bpK_Bx"
      }
    },
    {
      "cell_type": "code",
      "source": [
        "K_FOLDS = 10"
      ],
      "metadata": {
        "id": "HHMWikzHZ1U6"
      },
      "execution_count": null,
      "outputs": []
    },
    {
      "cell_type": "code",
      "source": [
        "# adapted from https://scikit-learn.org/stable/auto_examples/model_selection/plot_learning_curve.html\n",
        "def plot_learning_curve(\n",
        "    estimator,\n",
        "    title,\n",
        "    X,\n",
        "    y,\n",
        "    ylim=None,\n",
        "    cv=None,\n",
        "    n_jobs=None,\n",
        "    scoring=None,\n",
        "    train_sizes=np.linspace(0.1, 1.0, 5),\n",
        "    save_as=None\n",
        "):\n",
        "    ax = plt.gca()\n",
        "\n",
        "    ax.set_title(title)\n",
        "    if ylim is not None:\n",
        "        ax.set_ylim(*ylim)\n",
        "    ax.set_xlabel(\"Training examples\")\n",
        "    ax.set_ylabel(\"Score\")\n",
        "\n",
        "    train_sizes, train_scores, test_scores, fit_times, _ = learning_curve(\n",
        "        estimator,\n",
        "        X,\n",
        "        y,\n",
        "        scoring=scoring,\n",
        "        cv=cv,\n",
        "        n_jobs=n_jobs,\n",
        "        train_sizes=train_sizes,\n",
        "        return_times=True,\n",
        "    )\n",
        "    train_scores_mean = np.mean(train_scores, axis=1)\n",
        "    train_scores_std = np.std(train_scores, axis=1)\n",
        "    test_scores_mean = np.mean(test_scores, axis=1)\n",
        "    test_scores_std = np.std(test_scores, axis=1)\n",
        "    fit_times_mean = np.mean(fit_times, axis=1)\n",
        "    fit_times_std = np.std(fit_times, axis=1)\n",
        "\n",
        "    ax.plot(\n",
        "        train_sizes, train_scores_mean, \"o-\", color=\"r\", label=\"Training score\"\n",
        "    )\n",
        "    ax.plot(\n",
        "        train_sizes, test_scores_mean, \"o-\", color=\"g\", label=\"Cross-validation score\"\n",
        "    )\n",
        "    ax.legend(loc=\"best\")\n",
        "\n",
        "    if save_as:\n",
        "        plt.savefig(save_as)\n",
        "\n",
        "    return plt"
      ],
      "metadata": {
        "id": "BoQzQkTFLAVf"
      },
      "execution_count": null,
      "outputs": []
    },
    {
      "cell_type": "code",
      "source": [
        "# adapted from https://scikit-learn.org/stable/auto_examples/model_selection/plot_learning_curve.html\n",
        "def plot_fit_time_vs_score(\n",
        "    estimator,\n",
        "    X,\n",
        "    y,\n",
        "    title=\"Performance of the model\",\n",
        "    axes=None,\n",
        "    ylim=None,\n",
        "    cv=None,\n",
        "    n_jobs=None,\n",
        "    scoring=None,\n",
        "    train_sizes=np.linspace(0.1, 1.0, 5),\n",
        "    save_as=None\n",
        "):\n",
        "    train_sizes, train_scores, test_scores, fit_times, _ = learning_curve(\n",
        "        estimator,\n",
        "        X,\n",
        "        y,\n",
        "        scoring=scoring,\n",
        "        cv=cv,\n",
        "        n_jobs=n_jobs,\n",
        "        train_sizes=train_sizes,\n",
        "        return_times=True,\n",
        "    )\n",
        "    train_scores_mean = np.mean(train_scores, axis=1)\n",
        "    train_scores_std = np.std(train_scores, axis=1)\n",
        "    test_scores_mean = np.mean(test_scores, axis=1)\n",
        "    test_scores_std = np.std(test_scores, axis=1)\n",
        "    fit_times_mean = np.mean(fit_times, axis=1)\n",
        "    fit_times_std = np.std(fit_times, axis=1)\n",
        "\n",
        "    ax = plt.gca()\n",
        "\n",
        "    fit_time_argsort = fit_times_mean.argsort()\n",
        "    fit_time_sorted = fit_times_mean[fit_time_argsort]\n",
        "    test_scores_mean_sorted = test_scores_mean[fit_time_argsort]\n",
        "    test_scores_std_sorted = test_scores_std[fit_time_argsort]\n",
        "    ax.plot(fit_time_sorted, test_scores_mean_sorted, \"o-\")\n",
        "\n",
        "    ax.set_xlabel(\"fit_times\")\n",
        "    ax.set_ylabel(\"Score\")\n",
        "    ax.set_title(title)\n",
        "\n",
        "    if save_as:\n",
        "        plt.savefig(save_as)\n",
        "\n",
        "    return plt"
      ],
      "metadata": {
        "id": "wmqBGiTpFd2y"
      },
      "execution_count": null,
      "outputs": []
    },
    {
      "cell_type": "code",
      "source": [
        "# adapted from https://scikit-learn.org/stable/auto_examples/model_selection/plot_validation_curve.html\n",
        "def plot_validation_curve(\n",
        "    estimator,\n",
        "    title,\n",
        "    X,\n",
        "    y,\n",
        "    param_name,\n",
        "    param_range,\n",
        "    ylim=None,\n",
        "    cv=None,\n",
        "    use_semilogx=False,\n",
        "    save_as=None\n",
        "):\n",
        "    train_scores, valid_scores = validation_curve(\n",
        "        estimator, \n",
        "        X, \n",
        "        y, \n",
        "        param_name=param_name, \n",
        "        param_range=param_range,\n",
        "        cv=cv\n",
        "    )\n",
        "\n",
        "    clear_output()\n",
        "\n",
        "    train_scores_mean = np.mean(train_scores, axis=1)\n",
        "    train_scores_std = np.std(train_scores, axis=1)\n",
        "    valid_scores_mean = np.mean(valid_scores, axis=1)\n",
        "    valid_scores_std = np.std(valid_scores, axis=1)\n",
        "\n",
        "    plt.title(title)\n",
        "    plt.xlabel(param_name)\n",
        "    plt.ylabel(\"Score\")\n",
        "\n",
        "    if ylim is not None:\n",
        "        plt.ylim(*ylim)\n",
        "    else:\n",
        "        plt.ylim(0.0, 1.1)\n",
        "\n",
        "    lw = 2\n",
        "\n",
        "    if not use_semilogx:\n",
        "        plt.plot(\n",
        "            param_range, train_scores_mean, label=\"Training score\", color=\"darkorange\", lw=lw\n",
        "        )\n",
        "        plt.plot(\n",
        "            param_range, valid_scores_mean, label=\"Cross-validation score\", color=\"navy\", lw=lw\n",
        "        )\n",
        "    else:\n",
        "        plt.semilogx(\n",
        "            param_range, train_scores_mean, label=\"Training score\", color=\"darkorange\", lw=lw\n",
        "        )\n",
        "        plt.semilogx(\n",
        "            param_range, valid_scores_mean, label=\"Cross-validation score\", color=\"navy\", lw=lw\n",
        "        )\n",
        "\n",
        "    plt.legend(loc=\"best\")\n",
        "\n",
        "    if save_as:\n",
        "        plt.savefig(save_as)\n",
        "\n",
        "    return plt"
      ],
      "metadata": {
        "id": "ZRvuQd6rKb79"
      },
      "execution_count": null,
      "outputs": []
    },
    {
      "cell_type": "code",
      "source": [
        "def find_best_params(estimator, X_train, y_train, param_grid, scoring_metric='accuracy', cv=10):\n",
        "    grid_search = GridSearchCV(estimator, param_grid, scoring=scoring_metric, cv=cv)\n",
        "    grid_search.fit(X_train, y_train)\n",
        "\n",
        "    clf = grid_search.best_estimator_\n",
        "    best_result = grid_search.best_score_\n",
        "\n",
        "    # clear output\n",
        "    from IPython.display import clear_output \n",
        "    clear_output()\n",
        "\n",
        "    print(\"Best parameters\", grid_search.best_params_)\n",
        "    print(\"Training accuracy:\", clf.score(X_train, y_train))\n",
        "    print(\"Cross-validation accuracy:\", best_result)\n",
        "\n",
        "    results_df = pd.DataFrame(grid_search.cv_results_)\n",
        "    results_df = results_df.sort_values(by=[\"rank_test_score\"])\n",
        "    results_df = results_df.set_index(\n",
        "        results_df[\"params\"].apply(lambda x: \"_\".join(str(val) for val in x.values()))\n",
        "    ).rename_axis(\"kernel\")\n",
        "\n",
        "    # print()\n",
        "    # print(results_df[[\"params\", \"rank_test_score\", \"mean_test_score\", \"std_test_score\"]])\n",
        "\n",
        "    return grid_search, results_df"
      ],
      "metadata": {
        "id": "jJyYFbsnnBXv"
      },
      "execution_count": null,
      "outputs": []
    },
    {
      "cell_type": "code",
      "source": [
        "def train_and_test(estimator):\n",
        "    estimator = KNeighborsClassifier(n_neighbors=11, metric='manhattan')\n",
        "\n",
        "    start = time.time()\n",
        "    dtree = estimator.fit(X_train, y_train)\n",
        "    end = time.time()\n",
        "    print(\"training time in seconds\", end - start)\n",
        "\n",
        "    y_pred = estimator.predict(X_test)\n",
        "    acc = accuracy_score(y_test, y_pred)\n",
        "    print(f\"test accuracy: {acc}\")\n",
        "    cm = confusion_matrix(y_test, y_pred, labels=[0, 1])\n",
        "    print(\"Confusion matrix:\")\n",
        "    print(cm)"
      ],
      "metadata": {
        "id": "HDIVlOH8fwTN"
      },
      "execution_count": null,
      "outputs": []
    },
    {
      "cell_type": "markdown",
      "source": [
        "# Support Vector Machine"
      ],
      "metadata": {
        "id": "Y4EHSOhA3qLP"
      }
    },
    {
      "cell_type": "code",
      "source": [
        "# param_grid = [\n",
        "#     {\n",
        "#         'kernel': ['rbf'],\n",
        "#         'C': [0.1, 1, 10, 100, 1000, 10000],\n",
        "#         'gamma': [1, 0.1, 0.01, 0.001, 0.0001]\n",
        "#     },\n",
        "#     {\n",
        "#         'kernel': ['poly'],\n",
        "#         'C': [0.1, 1, 10, 100, 1000, 10000],\n",
        "#         \"degree\": [2, 3, 4]\n",
        "#     }\n",
        "# ]\n",
        "\n",
        "# grid_search, results_df = find_best_params(SVC(), X_train, y_train, param_grid, cv=K_FOLDS)\n",
        "# results_df[[\"params\", \"rank_test_score\", \"mean_test_score\", \"std_test_score\"]]"
      ],
      "metadata": {
        "id": "FTSQgcW6dEDE"
      },
      "execution_count": null,
      "outputs": []
    },
    {
      "cell_type": "markdown",
      "source": [
        "## Poly Kernel"
      ],
      "metadata": {
        "id": "LhNFgOvfNLel"
      }
    },
    {
      "cell_type": "markdown",
      "source": [
        "Tune the hyperparameter C, the regularization parameter"
      ],
      "metadata": {
        "id": "wQRZKth7oMUN"
      }
    },
    {
      "cell_type": "code",
      "source": [
        "plot_validation_curve(\n",
        "    SVC(kernel='poly'), \n",
        "    \"Validation Curve for C with SVM (Poly Kernel)\", \n",
        "    X_train, \n",
        "    y_train, \n",
        "    param_name=\"C\", \n",
        "    param_range=[0.1, 1, 10, 100, 1000, 10000], \n",
        "    ylim=(0.7, 1.01), \n",
        "    cv=K_FOLDS, \n",
        "    use_semilogx=True,\n",
        "    save_as=f\"./plots/{dataset_name}/svc_poly_validation_curve_c.png\"\n",
        ")"
      ],
      "metadata": {
        "colab": {
          "base_uri": "https://localhost:8080/",
          "height": 325
        },
        "id": "APfEWxddoGUC",
        "outputId": "05a9d38e-a87c-4078-b6d4-5f476f08760a"
      },
      "execution_count": null,
      "outputs": [
        {
          "output_type": "execute_result",
          "data": {
            "text/plain": [
              "<module 'matplotlib.pyplot' from '/usr/local/lib/python3.7/dist-packages/matplotlib/pyplot.py'>"
            ]
          },
          "metadata": {},
          "execution_count": 50
        },
        {
          "output_type": "display_data",
          "data": {
            "text/plain": [
              "<Figure size 432x288 with 1 Axes>"
            ],
            "image/png": "[encoded data removed]"
          },
          "metadata": {}
        }
      ]
    },
    {
      "cell_type": "markdown",
      "source": [
        "Tune degree"
      ],
      "metadata": {
        "id": "-7_LOBrHKZEb"
      }
    },
    {
      "cell_type": "code",
      "source": [
        "plot_validation_curve(\n",
        "    SVC(kernel='poly'), \n",
        "    \"Validation Curve for degree with SVM (Poly Kernel)\", \n",
        "    X_train, \n",
        "    y_train, \n",
        "    param_name=\"degree\", \n",
        "    param_range=[2, 3, 4], \n",
        "    ylim=(0.7, 1.01), \n",
        "    cv=K_FOLDS, \n",
        "    use_semilogx=False,\n",
        "    save_as=f\"./plots/{dataset_name}/svc_poly_validation_curve_degree.png\"\n",
        ")"
      ],
      "metadata": {
        "colab": {
          "base_uri": "https://localhost:8080/",
          "height": 319
        },
        "id": "Vn9EX7Dbas_X",
        "outputId": "50fa6065-aa33-4ce0-f7e6-a37508ee1c05"
      },
      "execution_count": null,
      "outputs": [
        {
          "output_type": "execute_result",
          "data": {
            "text/plain": [
              "<module 'matplotlib.pyplot' from '/usr/local/lib/python3.7/dist-packages/matplotlib/pyplot.py'>"
            ]
          },
          "metadata": {},
          "execution_count": 17
        },
        {
          "output_type": "display_data",
          "data": {
            "text/plain": [
              "<Figure size 432x288 with 1 Axes>"
            ],
            "image/png": "[encoded data removed]"
          },
          "metadata": {}
        }
      ]
    },
    {
      "cell_type": "markdown",
      "source": [
        "Plot learning curve"
      ],
      "metadata": {
        "id": "JlmdiedEiOfe"
      }
    },
    {
      "cell_type": "code",
      "source": [
        "plot_learning_curve(\n",
        "    SVC(kernel='poly', C=100, degree=3), \n",
        "    \"Learning Curve for SVM (Poly Kernel)\", \n",
        "    X_train, \n",
        "    y_train, \n",
        "    ylim=(0.7, 1.01), \n",
        "    cv=K_FOLDS, \n",
        "    n_jobs=4,\n",
        "    save_as=f\"./plots/{dataset_name}/svc_poly_learning_curve.png\"\n",
        ")"
      ],
      "metadata": {
        "colab": {
          "base_uri": "https://localhost:8080/",
          "height": 319
        },
        "id": "TlTkwIOLoRSI",
        "outputId": "5ca6c85b-bdee-408d-868f-f7c581b84de9"
      },
      "execution_count": null,
      "outputs": [
        {
          "output_type": "execute_result",
          "data": {
            "text/plain": [
              "<module 'matplotlib.pyplot' from '/usr/local/lib/python3.7/dist-packages/matplotlib/pyplot.py'>"
            ]
          },
          "metadata": {},
          "execution_count": 51
        },
        {
          "output_type": "display_data",
          "data": {
            "text/plain": [
              "<Figure size 432x288 with 1 Axes>"
            ],
            "image/png": "[encoded data removed]"
          },
          "metadata": {}
        }
      ]
    },
    {
      "cell_type": "markdown",
      "source": [
        "Train"
      ],
      "metadata": {
        "id": "YNhaVCxdjTBh"
      }
    },
    {
      "cell_type": "code",
      "source": [
        "svc_poly = SVC(kernel='poly', C=100, degree=3)\n",
        "\n",
        "clear_output()\n",
        "\n",
        "start = time.time()\n",
        "dtree = svc_poly.fit(X_train, y_train)\n",
        "end = time.time()\n",
        "print(end - start)"
      ],
      "metadata": {
        "id": "0dyAaBfHjTsD",
        "colab": {
          "base_uri": "https://localhost:8080/"
        },
        "outputId": "8b9fb610-b8ea-4fc1-bd32-afff41e84e66"
      },
      "execution_count": null,
      "outputs": [
        {
          "output_type": "stream",
          "name": "stdout",
          "text": [
            "0.0060062408447265625\n"
          ]
        }
      ]
    },
    {
      "cell_type": "markdown",
      "source": [
        "## RBF Kernel"
      ],
      "metadata": {
        "id": "FcKpQfBEKCC4"
      }
    },
    {
      "cell_type": "markdown",
      "source": [
        "Tune the hyperparameter C, the regularization parameter"
      ],
      "metadata": {
        "id": "8WF1xaw_iptp"
      }
    },
    {
      "cell_type": "code",
      "source": [
        "plot_validation_curve(\n",
        "    SVC(kernel='rbf'), \n",
        "    \"Validation Curve for C with SVM (RBF Kernel)\", \n",
        "    X_train, \n",
        "    y_train, \n",
        "    param_name=\"C\", \n",
        "    param_range=[0.1, 1, 10, 100, 1000, 10000], \n",
        "    ylim=(0.7, 1.01), \n",
        "    cv=K_FOLDS, \n",
        "    use_semilogx=True,\n",
        "    save_as=f\"./plots/{dataset_name}/svc_rbf_validation_curve_c.png\"\n",
        ")"
      ],
      "metadata": {
        "colab": {
          "base_uri": "https://localhost:8080/",
          "height": 325
        },
        "id": "YZ0sjPLUb0E_",
        "outputId": "5a3285c3-aa7c-48f5-ba1c-da07283b2e5a"
      },
      "execution_count": null,
      "outputs": [
        {
          "output_type": "execute_result",
          "data": {
            "text/plain": [
              "<module 'matplotlib.pyplot' from '/usr/local/lib/python3.7/dist-packages/matplotlib/pyplot.py'>"
            ]
          },
          "metadata": {},
          "execution_count": 20
        },
        {
          "output_type": "display_data",
          "data": {
            "text/plain": [
              "<Figure size 432x288 with 1 Axes>"
            ],
            "image/png": "[encoded data removed]"
          },
          "metadata": {}
        }
      ]
    },
    {
      "cell_type": "markdown",
      "source": [
        "Tune the hyperparameter gamma"
      ],
      "metadata": {
        "id": "3E759zIfiyrV"
      }
    },
    {
      "cell_type": "code",
      "source": [
        "plot_validation_curve(\n",
        "    SVC(kernel='rbf'), \n",
        "    \"Validation Curve for gamma with SVM (RBF Kernel)\", \n",
        "    X_train, \n",
        "    y_train, \n",
        "    param_name=\"gamma\", \n",
        "    param_range=[1, 0.1, 0.01, 0.001, 0.0001], \n",
        "    ylim=(0.7, 1.01), \n",
        "    cv=K_FOLDS, \n",
        "    use_semilogx=True,\n",
        "    save_as=f\"./plots/{dataset_name}/svc_rbf_validation_curve_gamma.png\"\n",
        ")"
      ],
      "metadata": {
        "colab": {
          "base_uri": "https://localhost:8080/",
          "height": 325
        },
        "id": "COvtAFzjcJDe",
        "outputId": "32ae473b-238c-4e7b-be9b-03de51e4ec1a"
      },
      "execution_count": null,
      "outputs": [
        {
          "output_type": "execute_result",
          "data": {
            "text/plain": [
              "<module 'matplotlib.pyplot' from '/usr/local/lib/python3.7/dist-packages/matplotlib/pyplot.py'>"
            ]
          },
          "metadata": {},
          "execution_count": 21
        },
        {
          "output_type": "display_data",
          "data": {
            "text/plain": [
              "<Figure size 432x288 with 1 Axes>"
            ],
            "image/png": "[encoded data removed]"
          },
          "metadata": {}
        }
      ]
    },
    {
      "cell_type": "markdown",
      "source": [
        "Plot learning curve"
      ],
      "metadata": {
        "id": "nVpaBVEEjf-g"
      }
    },
    {
      "cell_type": "code",
      "source": [
        "plot_learning_curve(\n",
        "    SVC(kernel='rbf', C=10, gamma=0.01), \n",
        "    \"Learning Curve for SVM (RBF Kernel)\", \n",
        "    X_train, \n",
        "    y_train, \n",
        "    ylim=(0.7, 1.01), \n",
        "    cv=K_FOLDS, \n",
        "    n_jobs=4,\n",
        "    save_as=f\"./plots/{dataset_name}/svc_rbf_learning_curve.png\"\n",
        ")"
      ],
      "metadata": {
        "colab": {
          "base_uri": "https://localhost:8080/",
          "height": 319
        },
        "id": "-gEPo36eccT3",
        "outputId": "1b16d616-e11a-4fb5-ab71-008a612ef204"
      },
      "execution_count": null,
      "outputs": [
        {
          "output_type": "execute_result",
          "data": {
            "text/plain": [
              "<module 'matplotlib.pyplot' from '/usr/local/lib/python3.7/dist-packages/matplotlib/pyplot.py'>"
            ]
          },
          "metadata": {},
          "execution_count": 22
        },
        {
          "output_type": "display_data",
          "data": {
            "text/plain": [
              "<Figure size 432x288 with 1 Axes>"
            ],
            "image/png": "[encoded data removed]"
          },
          "metadata": {}
        }
      ]
    },
    {
      "cell_type": "markdown",
      "source": [
        "Train"
      ],
      "metadata": {
        "id": "RDgeG_F4jo2b"
      }
    },
    {
      "cell_type": "code",
      "source": [
        "svc_rbf = SVC(kernel='rbf', C=100, gamma=0.01)\n",
        "\n",
        "# clear output\n",
        "from IPython.display import clear_output \n",
        "clear_output()\n",
        "\n",
        "start = time.time()\n",
        "dtree = svc_rbf.fit(X_train, y_train)\n",
        "end = time.time()\n",
        "print(end - start)"
      ],
      "metadata": {
        "id": "JyRlaUxhjpVF",
        "colab": {
          "base_uri": "https://localhost:8080/"
        },
        "outputId": "b64b6ee1-696d-46b4-89b9-0da3d9dc57ff"
      },
      "execution_count": null,
      "outputs": [
        {
          "output_type": "stream",
          "name": "stdout",
          "text": [
            "0.006826162338256836\n"
          ]
        }
      ]
    },
    {
      "cell_type": "markdown",
      "source": [
        "## Test"
      ],
      "metadata": {
        "id": "A47lJg6SqnNT"
      }
    },
    {
      "cell_type": "code",
      "source": [
        "for name, clf in zip(['poly', 'rbf'], [svc_poly, svc_rbf]):\n",
        "    y_pred = clf.predict(X_test)\n",
        "    acc = accuracy_score(y_test, y_pred)\n",
        "    print(f\"{name} kernel test accuracy: {acc}\")\n",
        "    cm = confusion_matrix(y_test, y_pred, labels=[0, 1])\n",
        "    print(\"Confusion matrix:\")\n",
        "    print(cm)\n",
        "    print()"
      ],
      "metadata": {
        "colab": {
          "base_uri": "https://localhost:8080/"
        },
        "id": "uZjfs8Igqn8r",
        "outputId": "851a3c58-756a-4db9-f4e8-12a0764743ed"
      },
      "execution_count": null,
      "outputs": [
        {
          "output_type": "stream",
          "name": "stdout",
          "text": [
            "poly kernel test accuracy: 0.9649122807017544\n",
            "Confusion matrix:\n",
            "[[ 58   6]\n",
            " [  0 107]]\n",
            "\n",
            "rbf kernel test accuracy: 0.9766081871345029\n",
            "Confusion matrix:\n",
            "[[ 60   4]\n",
            " [  0 107]]\n",
            "\n"
          ]
        }
      ]
    },
    {
      "cell_type": "markdown",
      "source": [
        "# K-Nearest Neighbors"
      ],
      "metadata": {
        "id": "mHWauRjB3I6j"
      }
    },
    {
      "cell_type": "markdown",
      "source": [
        "## Tune hyperparameters"
      ],
      "metadata": {
        "id": "7ehKD9F_EnfR"
      }
    },
    {
      "cell_type": "markdown",
      "source": [
        "Tune the distance metric"
      ],
      "metadata": {
        "id": "pIMN-JqHeMmO"
      }
    },
    {
      "cell_type": "code",
      "source": [
        "param_grid = {\"metric\": ['euclidean', 'manhattan'], \"n_neighbors\": [3, 5, 7, 11, 19]}\n",
        "grid_search, results_df = find_best_params(KNeighborsClassifier(), X_train, y_train, param_grid, cv=K_FOLDS)\n",
        "results_df[[\"params\", \"rank_test_score\", \"mean_test_score\", \"std_test_score\"]]"
      ],
      "metadata": {
        "colab": {
          "base_uri": "https://localhost:8080/",
          "height": 448
        },
        "id": "tRNv9l6zeG8i",
        "outputId": "45b796a0-c1bd-4aa0-e124-1a84a406a584"
      },
      "execution_count": null,
      "outputs": [
        {
          "output_type": "stream",
          "name": "stdout",
          "text": [
            "Best parameters {'metric': 'euclidean', 'n_neighbors': 5}\n",
            "Training accuracy: 0.9748743718592965\n",
            "Cross-validation accuracy: 0.9698717948717949\n"
          ]
        },
        {
          "output_type": "execute_result",
          "data": {
            "text/plain": [
              "                                                  params  rank_test_score  \\\n",
              "kernel                                                                      \n",
              "euclidean_5    {'metric': 'euclidean', 'n_neighbors': 5}                1   \n",
              "euclidean_7    {'metric': 'euclidean', 'n_neighbors': 7}                1   \n",
              "manhattan_3    {'metric': 'manhattan', 'n_neighbors': 3}                3   \n",
              "euclidean_11  {'metric': 'euclidean', 'n_neighbors': 11}                4   \n",
              "manhattan_11  {'metric': 'manhattan', 'n_neighbors': 11}                4   \n",
              "euclidean_3    {'metric': 'euclidean', 'n_neighbors': 3}                6   \n",
              "manhattan_5    {'metric': 'manhattan', 'n_neighbors': 5}                6   \n",
              "manhattan_7    {'metric': 'manhattan', 'n_neighbors': 7}                6   \n",
              "euclidean_19  {'metric': 'euclidean', 'n_neighbors': 19}                9   \n",
              "manhattan_19  {'metric': 'manhattan', 'n_neighbors': 19}               10   \n",
              "\n",
              "              mean_test_score  std_test_score  \n",
              "kernel                                         \n",
              "euclidean_5          0.969872        0.014959  \n",
              "euclidean_7          0.969872        0.014959  \n",
              "manhattan_3          0.969808        0.024590  \n",
              "euclidean_11         0.962308        0.020200  \n",
              "manhattan_11         0.962308        0.030133  \n",
              "euclidean_3          0.959808        0.016608  \n",
              "manhattan_5          0.959808        0.033924  \n",
              "manhattan_7          0.959808        0.030013  \n",
              "euclidean_19         0.957372        0.022402  \n",
              "manhattan_19         0.947308        0.028324  "
            ],
            "text/html": [
              "\n",
              "  <div id=\"df-a48e108c-93ad-473e-822b-0fd9c43b6703\">\n",
              "    <div class=\"colab-df-container\">\n",
              "      <div>\n",
              "<style scoped>\n",
              "    .dataframe tbody tr th:only-of-type {\n",
              "        vertical-align: middle;\n",
              "    }\n",
              "\n",
              "    .dataframe tbody tr th {\n",
              "        vertical-align: top;\n",
              "    }\n",
              "\n",
              "    .dataframe thead th {\n",
              "        text-align: right;\n",
              "    }\n",
              "</style>\n",
              "<table border=\"1\" class=\"dataframe\">\n",
              "  <thead>\n",
              "    <tr style=\"text-align: right;\">\n",
              "      <th></th>\n",
              "      <th>params</th>\n",
              "      <th>rank_test_score</th>\n",
              "      <th>mean_test_score</th>\n",
              "      <th>std_test_score</th>\n",
              "    </tr>\n",
              "    <tr>\n",
              "      <th>kernel</th>\n",
              "      <th></th>\n",
              "      <th></th>\n",
              "      <th></th>\n",
              "      <th></th>\n",
              "    </tr>\n",
              "  </thead>\n",
              "  <tbody>\n",
              "    <tr>\n",
              "      <th>euclidean_5</th>\n",
              "      <td>{'metric': 'euclidean', 'n_neighbors': 5}</td>\n",
              "      <td>1</td>\n",
              "      <td>0.969872</td>\n",
              "      <td>0.014959</td>\n",
              "    </tr>\n",
              "    <tr>\n",
              "      <th>euclidean_7</th>\n",
              "      <td>{'metric': 'euclidean', 'n_neighbors': 7}</td>\n",
              "      <td>1</td>\n",
              "      <td>0.969872</td>\n",
              "      <td>0.014959</td>\n",
              "    </tr>\n",
              "    <tr>\n",
              "      <th>manhattan_3</th>\n",
              "      <td>{'metric': 'manhattan', 'n_neighbors': 3}</td>\n",
              "      <td>3</td>\n",
              "      <td>0.969808</td>\n",
              "      <td>0.024590</td>\n",
              "    </tr>\n",
              "    <tr>\n",
              "      <th>euclidean_11</th>\n",
              "      <td>{'metric': 'euclidean', 'n_neighbors': 11}</td>\n",
              "      <td>4</td>\n",
              "      <td>0.962308</td>\n",
              "      <td>0.020200</td>\n",
              "    </tr>\n",
              "    <tr>\n",
              "      <th>manhattan_11</th>\n",
              "      <td>{'metric': 'manhattan', 'n_neighbors': 11}</td>\n",
              "      <td>4</td>\n",
              "      <td>0.962308</td>\n",
              "      <td>0.030133</td>\n",
              "    </tr>\n",
              "    <tr>\n",
              "      <th>euclidean_3</th>\n",
              "      <td>{'metric': 'euclidean', 'n_neighbors': 3}</td>\n",
              "      <td>6</td>\n",
              "      <td>0.959808</td>\n",
              "      <td>0.016608</td>\n",
              "    </tr>\n",
              "    <tr>\n",
              "      <th>manhattan_5</th>\n",
              "      <td>{'metric': 'manhattan', 'n_neighbors': 5}</td>\n",
              "      <td>6</td>\n",
              "      <td>0.959808</td>\n",
              "      <td>0.033924</td>\n",
              "    </tr>\n",
              "    <tr>\n",
              "      <th>manhattan_7</th>\n",
              "      <td>{'metric': 'manhattan', 'n_neighbors': 7}</td>\n",
              "      <td>6</td>\n",
              "      <td>0.959808</td>\n",
              "      <td>0.030013</td>\n",
              "    </tr>\n",
              "    <tr>\n",
              "      <th>euclidean_19</th>\n",
              "      <td>{'metric': 'euclidean', 'n_neighbors': 19}</td>\n",
              "      <td>9</td>\n",
              "      <td>0.957372</td>\n",
              "      <td>0.022402</td>\n",
              "    </tr>\n",
              "    <tr>\n",
              "      <th>manhattan_19</th>\n",
              "      <td>{'metric': 'manhattan', 'n_neighbors': 19}</td>\n",
              "      <td>10</td>\n",
              "      <td>0.947308</td>\n",
              "      <td>0.028324</td>\n",
              "    </tr>\n",
              "  </tbody>\n",
              "</table>\n",
              "</div>\n",
              "      <button class=\"colab-df-convert\" onclick=\"convertToInteractive('df-a48e108c-93ad-473e-822b-0fd9c43b6703')\"\n",
              "              title=\"Convert this dataframe to an interactive table.\"\n",
              "              style=\"display:none;\">\n",
              "        \n",
              "  <svg xmlns=\"http://www.w3.org/2000/svg\" height=\"24px\"viewBox=\"0 0 24 24\"\n",
              "       width=\"24px\">\n",
              "    <path d=\"M0 0h24v24H0V0z\" fill=\"none\"/>\n",
              "    <path d=\"M18.56 5.44l.94 2.06.94-2.06 2.06-.94-2.06-.94-.94-2.06-.94 2.06-2.06.94zm-11 1L8.5 8.5l.94-2.06 2.06-.94-2.06-.94L8.5 2.5l-.94 2.06-2.06.94zm10 10l.94 2.06.94-2.06 2.06-.94-2.06-.94-.94-2.06-.94 2.06-2.06.94z\"/><path d=\"M17.41 7.96l-1.37-1.37c-.4-.4-.92-.59-1.43-.59-.52 0-1.04.2-1.43.59L10.3 9.45l-7.72 7.72c-.78.78-.78 2.05 0 2.83L4 21.41c.39.39.9.59 1.41.59.51 0 1.02-.2 1.41-.59l7.78-7.78 2.81-2.81c.8-.78.8-2.07 0-2.86zM5.41 20L4 18.59l7.72-7.72 1.47 1.35L5.41 20z\"/>\n",
              "  </svg>\n",
              "      </button>\n",
              "      \n",
              "  <style>\n",
              "    .colab-df-container {\n",
              "      display:flex;\n",
              "      flex-wrap:wrap;\n",
              "      gap: 12px;\n",
              "    }\n",
              "\n",
              "    .colab-df-convert {\n",
              "      background-color: #E8F0FE;\n",
              "      border: none;\n",
              "      border-radius: 50%;\n",
              "      cursor: pointer;\n",
              "      display: none;\n",
              "      fill: #1967D2;\n",
              "      height: 32px;\n",
              "      padding: 0 0 0 0;\n",
              "      width: 32px;\n",
              "    }\n",
              "\n",
              "    .colab-df-convert:hover {\n",
              "      background-color: #E2EBFA;\n",
              "      box-shadow: 0px 1px 2px rgba(60, 64, 67, 0.3), 0px 1px 3px 1px rgba(60, 64, 67, 0.15);\n",
              "      fill: #174EA6;\n",
              "    }\n",
              "\n",
              "    [theme=dark] .colab-df-convert {\n",
              "      background-color: #3B4455;\n",
              "      fill: #D2E3FC;\n",
              "    }\n",
              "\n",
              "    [theme=dark] .colab-df-convert:hover {\n",
              "      background-color: #434B5C;\n",
              "      box-shadow: 0px 1px 3px 1px rgba(0, 0, 0, 0.15);\n",
              "      filter: drop-shadow(0px 1px 2px rgba(0, 0, 0, 0.3));\n",
              "      fill: #FFFFFF;\n",
              "    }\n",
              "  </style>\n",
              "\n",
              "      <script>\n",
              "        const buttonEl =\n",
              "          document.querySelector('#df-a48e108c-93ad-473e-822b-0fd9c43b6703 button.colab-df-convert');\n",
              "        buttonEl.style.display =\n",
              "          google.colab.kernel.accessAllowed ? 'block' : 'none';\n",
              "\n",
              "        async function convertToInteractive(key) {\n",
              "          const element = document.querySelector('#df-a48e108c-93ad-473e-822b-0fd9c43b6703');\n",
              "          const dataTable =\n",
              "            await google.colab.kernel.invokeFunction('convertToInteractive',\n",
              "                                                     [key], {});\n",
              "          if (!dataTable) return;\n",
              "\n",
              "          const docLinkHtml = 'Like what you see? Visit the ' +\n",
              "            '<a target=\"_blank\" href=https://colab.research.google.com/notebooks/data_table.ipynb>data table notebook</a>'\n",
              "            + ' to learn more about interactive tables.';\n",
              "          element.innerHTML = '';\n",
              "          dataTable['output_type'] = 'display_data';\n",
              "          await google.colab.output.renderOutput(dataTable, element);\n",
              "          const docLink = document.createElement('div');\n",
              "          docLink.innerHTML = docLinkHtml;\n",
              "          element.appendChild(docLink);\n",
              "        }\n",
              "      </script>\n",
              "    </div>\n",
              "  </div>\n",
              "  "
            ]
          },
          "metadata": {},
          "execution_count": 25
        }
      ]
    },
    {
      "cell_type": "markdown",
      "source": [
        "Tune the hyperparameter k, the number of nearest neighbors"
      ],
      "metadata": {
        "id": "musyMM6JsNK5"
      }
    },
    {
      "cell_type": "code",
      "source": [
        "plot_validation_curve(\n",
        "    KNeighborsClassifier(), \n",
        "    \"Validation Curve with K-Nearest Neighbors\", \n",
        "    X_train, \n",
        "    y_train, \n",
        "    param_name=\"n_neighbors\", \n",
        "    param_range=[3, 5, 7, 11, 15, 19], \n",
        "    ylim=(0.7, 1.01), \n",
        "    cv=K_FOLDS, \n",
        "    use_semilogx=False,\n",
        "    save_as=f\"./plots/{dataset_name}/knn_validation_curve_k.png\"\n",
        ")"
      ],
      "metadata": {
        "colab": {
          "base_uri": "https://localhost:8080/",
          "height": 319
        },
        "id": "tNJJ8ngHd3P7",
        "outputId": "b7f90d76-752d-41e8-9585-9224462beea5"
      },
      "execution_count": null,
      "outputs": [
        {
          "output_type": "execute_result",
          "data": {
            "text/plain": [
              "<module 'matplotlib.pyplot' from '/usr/local/lib/python3.7/dist-packages/matplotlib/pyplot.py'>"
            ]
          },
          "metadata": {},
          "execution_count": 26
        },
        {
          "output_type": "display_data",
          "data": {
            "text/plain": [
              "<Figure size 432x288 with 1 Axes>"
            ],
            "image/png": "[encoded data removed]"
          },
          "metadata": {}
        }
      ]
    },
    {
      "cell_type": "markdown",
      "source": [
        "## Plot learning curve"
      ],
      "metadata": {
        "id": "OU5Wb-1As0eF"
      }
    },
    {
      "cell_type": "code",
      "source": [
        "plot_learning_curve(\n",
        "    KNeighborsClassifier(n_neighbors=11, metric='euclidean'), \n",
        "    \"Learning Curve for KNN\", \n",
        "    X_train, \n",
        "    y_train, \n",
        "    ylim=(0.7, 1.01), \n",
        "    cv=K_FOLDS, \n",
        "    n_jobs=4,\n",
        "    save_as=f\"./plots/{dataset_name}/knn_learning_curve.png\"\n",
        ")"
      ],
      "metadata": {
        "colab": {
          "base_uri": "https://localhost:8080/",
          "height": 319
        },
        "id": "ov_UqFizeTqi",
        "outputId": "4e5faa65-46ed-4a32-fd1e-525fbbcf1b88"
      },
      "execution_count": null,
      "outputs": [
        {
          "output_type": "execute_result",
          "data": {
            "text/plain": [
              "<module 'matplotlib.pyplot' from '/usr/local/lib/python3.7/dist-packages/matplotlib/pyplot.py'>"
            ]
          },
          "metadata": {},
          "execution_count": 27
        },
        {
          "output_type": "display_data",
          "data": {
            "text/plain": [
              "<Figure size 432x288 with 1 Axes>"
            ],
            "image/png": "[encoded data removed]"
          },
          "metadata": {}
        }
      ]
    },
    {
      "cell_type": "code",
      "source": [
        "# title = \"Performance of KNN\"\n",
        "# plot_fit_time_vs_score(\n",
        "#     estimator, X_train, y_train, title=title, ylim=(0.7, 1.01), cv=n_folds, n_jobs=4\n",
        "# )"
      ],
      "metadata": {
        "id": "3qJqxzKLIcJO"
      },
      "execution_count": null,
      "outputs": []
    },
    {
      "cell_type": "markdown",
      "source": [
        "## Train and test"
      ],
      "metadata": {
        "id": "MnfZpXfZubWd"
      }
    },
    {
      "cell_type": "code",
      "source": [
        "train_and_test(KNeighborsClassifier(n_neighbors=11, metric='euclidean'))"
      ],
      "metadata": {
        "colab": {
          "base_uri": "https://localhost:8080/"
        },
        "id": "KLPhowxff5EY",
        "outputId": "3acbadd9-1496-4327-9c61-2f5d7057c8c7"
      },
      "execution_count": null,
      "outputs": [
        {
          "output_type": "stream",
          "name": "stdout",
          "text": [
            "training time in seconds 0.0006864070892333984\n",
            "test accuracy: 0.9707602339181286\n",
            "Confusion matrix:\n",
            "[[ 59   5]\n",
            " [  0 107]]\n"
          ]
        }
      ]
    },
    {
      "cell_type": "markdown",
      "source": [
        "# Decision Tree"
      ],
      "metadata": {
        "id": "VfoXX9o642s2"
      }
    },
    {
      "cell_type": "code",
      "source": [
        "param_grid = {\"max_depth\": [2, 3, 5, 7, 10, 14], \"min_samples_leaf\": list(range(1, 15))}\n",
        "grid_search, results_df = find_best_params(DecisionTreeClassifier(), X_train, y_train, param_grid, cv=K_FOLDS)\n",
        "results_df[[\"params\", \"rank_test_score\", \"mean_test_score\", \"std_test_score\"]]"
      ],
      "metadata": {
        "colab": {
          "base_uri": "https://localhost:8080/",
          "height": 509
        },
        "id": "gCUHZOySe3kf",
        "outputId": "a4a88ff7-5613-4f26-b780-7500d08cfd23"
      },
      "execution_count": null,
      "outputs": [
        {
          "output_type": "stream",
          "name": "stdout",
          "text": [
            "Best parameters {'max_depth': 3, 'min_samples_leaf': 3}\n",
            "Training accuracy: 0.9748743718592965\n",
            "Cross-validation accuracy: 0.9448076923076922\n"
          ]
        },
        {
          "output_type": "execute_result",
          "data": {
            "text/plain": [
              "                                          params  rank_test_score  \\\n",
              "kernel                                                              \n",
              "3_3      {'max_depth': 3, 'min_samples_leaf': 3}                1   \n",
              "2_14    {'max_depth': 2, 'min_samples_leaf': 14}                2   \n",
              "3_12    {'max_depth': 3, 'min_samples_leaf': 12}                2   \n",
              "3_11    {'max_depth': 3, 'min_samples_leaf': 11}                2   \n",
              "3_10    {'max_depth': 3, 'min_samples_leaf': 10}                2   \n",
              "...                                          ...              ...   \n",
              "14_2    {'max_depth': 14, 'min_samples_leaf': 2}               80   \n",
              "5_11    {'max_depth': 5, 'min_samples_leaf': 11}               80   \n",
              "14_4    {'max_depth': 14, 'min_samples_leaf': 4}               82   \n",
              "14_1    {'max_depth': 14, 'min_samples_leaf': 1}               83   \n",
              "14_5    {'max_depth': 14, 'min_samples_leaf': 5}               83   \n",
              "\n",
              "        mean_test_score  std_test_score  \n",
              "kernel                                   \n",
              "3_3            0.944808        0.033091  \n",
              "2_14           0.944744        0.034967  \n",
              "3_12           0.944744        0.038376  \n",
              "3_11           0.944744        0.038376  \n",
              "3_10           0.944744        0.038376  \n",
              "...                 ...             ...  \n",
              "14_2           0.929615        0.035156  \n",
              "5_11           0.929615        0.029231  \n",
              "14_4           0.927244        0.039389  \n",
              "14_1           0.924679        0.044800  \n",
              "14_5           0.924679        0.038653  \n",
              "\n",
              "[84 rows x 4 columns]"
            ],
            "text/html": [
              "\n",
              "  <div id=\"df-61abcf38-feba-4406-b09a-fac5e7f7ba43\">\n",
              "    <div class=\"colab-df-container\">\n",
              "      <div>\n",
              "<style scoped>\n",
              "    .dataframe tbody tr th:only-of-type {\n",
              "        vertical-align: middle;\n",
              "    }\n",
              "\n",
              "    .dataframe tbody tr th {\n",
              "        vertical-align: top;\n",
              "    }\n",
              "\n",
              "    .dataframe thead th {\n",
              "        text-align: right;\n",
              "    }\n",
              "</style>\n",
              "<table border=\"1\" class=\"dataframe\">\n",
              "  <thead>\n",
              "    <tr style=\"text-align: right;\">\n",
              "      <th></th>\n",
              "      <th>params</th>\n",
              "      <th>rank_test_score</th>\n",
              "      <th>mean_test_score</th>\n",
              "      <th>std_test_score</th>\n",
              "    </tr>\n",
              "    <tr>\n",
              "      <th>kernel</th>\n",
              "      <th></th>\n",
              "      <th></th>\n",
              "      <th></th>\n",
              "      <th></th>\n",
              "    </tr>\n",
              "  </thead>\n",
              "  <tbody>\n",
              "    <tr>\n",
              "      <th>3_3</th>\n",
              "      <td>{'max_depth': 3, 'min_samples_leaf': 3}</td>\n",
              "      <td>1</td>\n",
              "      <td>0.944808</td>\n",
              "      <td>0.033091</td>\n",
              "    </tr>\n",
              "    <tr>\n",
              "      <th>2_14</th>\n",
              "      <td>{'max_depth': 2, 'min_samples_leaf': 14}</td>\n",
              "      <td>2</td>\n",
              "      <td>0.944744</td>\n",
              "      <td>0.034967</td>\n",
              "    </tr>\n",
              "    <tr>\n",
              "      <th>3_12</th>\n",
              "      <td>{'max_depth': 3, 'min_samples_leaf': 12}</td>\n",
              "      <td>2</td>\n",
              "      <td>0.944744</td>\n",
              "      <td>0.038376</td>\n",
              "    </tr>\n",
              "    <tr>\n",
              "      <th>3_11</th>\n",
              "      <td>{'max_depth': 3, 'min_samples_leaf': 11}</td>\n",
              "      <td>2</td>\n",
              "      <td>0.944744</td>\n",
              "      <td>0.038376</td>\n",
              "    </tr>\n",
              "    <tr>\n",
              "      <th>3_10</th>\n",
              "      <td>{'max_depth': 3, 'min_samples_leaf': 10}</td>\n",
              "      <td>2</td>\n",
              "      <td>0.944744</td>\n",
              "      <td>0.038376</td>\n",
              "    </tr>\n",
              "    <tr>\n",
              "      <th>...</th>\n",
              "      <td>...</td>\n",
              "      <td>...</td>\n",
              "      <td>...</td>\n",
              "      <td>...</td>\n",
              "    </tr>\n",
              "    <tr>\n",
              "      <th>14_2</th>\n",
              "      <td>{'max_depth': 14, 'min_samples_leaf': 2}</td>\n",
              "      <td>80</td>\n",
              "      <td>0.929615</td>\n",
              "      <td>0.035156</td>\n",
              "    </tr>\n",
              "    <tr>\n",
              "      <th>5_11</th>\n",
              "      <td>{'max_depth': 5, 'min_samples_leaf': 11}</td>\n",
              "      <td>80</td>\n",
              "      <td>0.929615</td>\n",
              "      <td>0.029231</td>\n",
              "    </tr>\n",
              "    <tr>\n",
              "      <th>14_4</th>\n",
              "      <td>{'max_depth': 14, 'min_samples_leaf': 4}</td>\n",
              "      <td>82</td>\n",
              "      <td>0.927244</td>\n",
              "      <td>0.039389</td>\n",
              "    </tr>\n",
              "    <tr>\n",
              "      <th>14_1</th>\n",
              "      <td>{'max_depth': 14, 'min_samples_leaf': 1}</td>\n",
              "      <td>83</td>\n",
              "      <td>0.924679</td>\n",
              "      <td>0.044800</td>\n",
              "    </tr>\n",
              "    <tr>\n",
              "      <th>14_5</th>\n",
              "      <td>{'max_depth': 14, 'min_samples_leaf': 5}</td>\n",
              "      <td>83</td>\n",
              "      <td>0.924679</td>\n",
              "      <td>0.038653</td>\n",
              "    </tr>\n",
              "  </tbody>\n",
              "</table>\n",
              "<p>84 rows × 4 columns</p>\n",
              "</div>\n",
              "      <button class=\"colab-df-convert\" onclick=\"convertToInteractive('df-61abcf38-feba-4406-b09a-fac5e7f7ba43')\"\n",
              "              title=\"Convert this dataframe to an interactive table.\"\n",
              "              style=\"display:none;\">\n",
              "        \n",
              "  <svg xmlns=\"http://www.w3.org/2000/svg\" height=\"24px\"viewBox=\"0 0 24 24\"\n",
              "       width=\"24px\">\n",
              "    <path d=\"M0 0h24v24H0V0z\" fill=\"none\"/>\n",
              "    <path d=\"M18.56 5.44l.94 2.06.94-2.06 2.06-.94-2.06-.94-.94-2.06-.94 2.06-2.06.94zm-11 1L8.5 8.5l.94-2.06 2.06-.94-2.06-.94L8.5 2.5l-.94 2.06-2.06.94zm10 10l.94 2.06.94-2.06 2.06-.94-2.06-.94-.94-2.06-.94 2.06-2.06.94z\"/><path d=\"M17.41 7.96l-1.37-1.37c-.4-.4-.92-.59-1.43-.59-.52 0-1.04.2-1.43.59L10.3 9.45l-7.72 7.72c-.78.78-.78 2.05 0 2.83L4 21.41c.39.39.9.59 1.41.59.51 0 1.02-.2 1.41-.59l7.78-7.78 2.81-2.81c.8-.78.8-2.07 0-2.86zM5.41 20L4 18.59l7.72-7.72 1.47 1.35L5.41 20z\"/>\n",
              "  </svg>\n",
              "      </button>\n",
              "      \n",
              "  <style>\n",
              "    .colab-df-container {\n",
              "      display:flex;\n",
              "      flex-wrap:wrap;\n",
              "      gap: 12px;\n",
              "    }\n",
              "\n",
              "    .colab-df-convert {\n",
              "      background-color: #E8F0FE;\n",
              "      border: none;\n",
              "      border-radius: 50%;\n",
              "      cursor: pointer;\n",
              "      display: none;\n",
              "      fill: #1967D2;\n",
              "      height: 32px;\n",
              "      padding: 0 0 0 0;\n",
              "      width: 32px;\n",
              "    }\n",
              "\n",
              "    .colab-df-convert:hover {\n",
              "      background-color: #E2EBFA;\n",
              "      box-shadow: 0px 1px 2px rgba(60, 64, 67, 0.3), 0px 1px 3px 1px rgba(60, 64, 67, 0.15);\n",
              "      fill: #174EA6;\n",
              "    }\n",
              "\n",
              "    [theme=dark] .colab-df-convert {\n",
              "      background-color: #3B4455;\n",
              "      fill: #D2E3FC;\n",
              "    }\n",
              "\n",
              "    [theme=dark] .colab-df-convert:hover {\n",
              "      background-color: #434B5C;\n",
              "      box-shadow: 0px 1px 3px 1px rgba(0, 0, 0, 0.15);\n",
              "      filter: drop-shadow(0px 1px 2px rgba(0, 0, 0, 0.3));\n",
              "      fill: #FFFFFF;\n",
              "    }\n",
              "  </style>\n",
              "\n",
              "      <script>\n",
              "        const buttonEl =\n",
              "          document.querySelector('#df-61abcf38-feba-4406-b09a-fac5e7f7ba43 button.colab-df-convert');\n",
              "        buttonEl.style.display =\n",
              "          google.colab.kernel.accessAllowed ? 'block' : 'none';\n",
              "\n",
              "        async function convertToInteractive(key) {\n",
              "          const element = document.querySelector('#df-61abcf38-feba-4406-b09a-fac5e7f7ba43');\n",
              "          const dataTable =\n",
              "            await google.colab.kernel.invokeFunction('convertToInteractive',\n",
              "                                                     [key], {});\n",
              "          if (!dataTable) return;\n",
              "\n",
              "          const docLinkHtml = 'Like what you see? Visit the ' +\n",
              "            '<a target=\"_blank\" href=https://colab.research.google.com/notebooks/data_table.ipynb>data table notebook</a>'\n",
              "            + ' to learn more about interactive tables.';\n",
              "          element.innerHTML = '';\n",
              "          dataTable['output_type'] = 'display_data';\n",
              "          await google.colab.output.renderOutput(dataTable, element);\n",
              "          const docLink = document.createElement('div');\n",
              "          docLink.innerHTML = docLinkHtml;\n",
              "          element.appendChild(docLink);\n",
              "        }\n",
              "      </script>\n",
              "    </div>\n",
              "  </div>\n",
              "  "
            ]
          },
          "metadata": {},
          "execution_count": 30
        }
      ]
    },
    {
      "cell_type": "markdown",
      "source": [
        "## Tune hyperparameters"
      ],
      "metadata": {
        "id": "yhsRTnm0FF8s"
      }
    },
    {
      "cell_type": "markdown",
      "source": [
        "Tune max_depth"
      ],
      "metadata": {
        "id": "p95Pfe7g4tPj"
      }
    },
    {
      "cell_type": "code",
      "source": [
        "plot_validation_curve(\n",
        "    DecisionTreeClassifier(),\n",
        "    \"Validation Curve for max_depth with Decision Tree\", \n",
        "    X_train, \n",
        "    y_train, \n",
        "    param_name=\"max_depth\", \n",
        "    param_range=[2, 3, 5, 7, 10, 14], \n",
        "    ylim=(0.7, 1.01), \n",
        "    cv=K_FOLDS, \n",
        "    use_semilogx=False,\n",
        "    save_as=f\"./plots/{dataset_name}/dtree_validation_curve_max_depth.png\"\n",
        ")"
      ],
      "metadata": {
        "colab": {
          "base_uri": "https://localhost:8080/",
          "height": 319
        },
        "id": "CntTd-bfe2Um",
        "outputId": "9856506c-146c-48d0-ba1d-8c70f537859c"
      },
      "execution_count": null,
      "outputs": [
        {
          "output_type": "execute_result",
          "data": {
            "text/plain": [
              "<module 'matplotlib.pyplot' from '/usr/local/lib/python3.7/dist-packages/matplotlib/pyplot.py'>"
            ]
          },
          "metadata": {},
          "execution_count": 31
        },
        {
          "output_type": "display_data",
          "data": {
            "text/plain": [
              "<Figure size 432x288 with 1 Axes>"
            ],
            "image/png": "[encoded data removed]"
          },
          "metadata": {}
        }
      ]
    },
    {
      "cell_type": "markdown",
      "source": [
        "Tune min_samples_leaf"
      ],
      "metadata": {
        "id": "vuBUv0u67qEQ"
      }
    },
    {
      "cell_type": "code",
      "source": [
        "plot_validation_curve(\n",
        "    DecisionTreeClassifier(),\n",
        "    \"Validation Curve min_samples_leaf with Decision Tree\", \n",
        "    X_train, \n",
        "    y_train, \n",
        "    param_name=\"min_samples_leaf\", \n",
        "    param_range=list(range(1, 16)), \n",
        "    ylim=(0.7, 1.01), \n",
        "    cv=K_FOLDS, \n",
        "    use_semilogx=False,\n",
        "    save_as=f\"./plots/{dataset_name}/dtree_validation_curve_min_samples_leaf.png\"\n",
        ")"
      ],
      "metadata": {
        "colab": {
          "base_uri": "https://localhost:8080/",
          "height": 319
        },
        "id": "SB7BE3O8fE9R",
        "outputId": "cdb3502c-677b-43ef-8572-8b514725f052"
      },
      "execution_count": null,
      "outputs": [
        {
          "output_type": "execute_result",
          "data": {
            "text/plain": [
              "<module 'matplotlib.pyplot' from '/usr/local/lib/python3.7/dist-packages/matplotlib/pyplot.py'>"
            ]
          },
          "metadata": {},
          "execution_count": 32
        },
        {
          "output_type": "display_data",
          "data": {
            "text/plain": [
              "<Figure size 432x288 with 1 Axes>"
            ],
            "image/png": "[encoded data removed]"
          },
          "metadata": {}
        }
      ]
    },
    {
      "cell_type": "markdown",
      "source": [
        "## Plot learning curve"
      ],
      "metadata": {
        "id": "LXU17NgdGXtB"
      }
    },
    {
      "cell_type": "code",
      "source": [
        "plot_learning_curve(\n",
        "    DecisionTreeClassifier(max_depth=10, min_samples_leaf=8), \n",
        "    \"Learning Curve for Decision Tree\", \n",
        "    X_train, \n",
        "    y_train, \n",
        "    ylim=(0.7, 1.01), \n",
        "    cv=K_FOLDS, \n",
        "    n_jobs=4,\n",
        "    save_as=f\"./plots/{dataset_name}/dtree_learning_curve.png\"\n",
        ")"
      ],
      "metadata": {
        "colab": {
          "base_uri": "https://localhost:8080/",
          "height": 319
        },
        "id": "au4MuK37fb_q",
        "outputId": "07c0564e-f5c7-4c9c-edac-20ff3bc404fb"
      },
      "execution_count": null,
      "outputs": [
        {
          "output_type": "execute_result",
          "data": {
            "text/plain": [
              "<module 'matplotlib.pyplot' from '/usr/local/lib/python3.7/dist-packages/matplotlib/pyplot.py'>"
            ]
          },
          "metadata": {},
          "execution_count": 33
        },
        {
          "output_type": "display_data",
          "data": {
            "text/plain": [
              "<Figure size 432x288 with 1 Axes>"
            ],
            "image/png": "[encoded data removed]"
          },
          "metadata": {}
        }
      ]
    },
    {
      "cell_type": "code",
      "source": [
        "# estimator = DecisionTreeClassifier(max_depth=5, min_samples_leaf=1)\n",
        "# title = \"Performance of Decision Tree\"\n",
        "# plot_fit_time_vs_score(\n",
        "#     estimator, X_train, y_train, title=title, ylim=(0.7, 1.01), cv=K_FOLDS, n_jobs=4\n",
        "# )"
      ],
      "metadata": {
        "id": "jIFpqEpmOpV7"
      },
      "execution_count": null,
      "outputs": []
    },
    {
      "cell_type": "markdown",
      "source": [
        "## Train and test"
      ],
      "metadata": {
        "id": "KjsW76sZGg6Q"
      }
    },
    {
      "cell_type": "code",
      "source": [
        "train_and_test(DecisionTreeClassifier(max_depth=10, min_samples_leaf=8))"
      ],
      "metadata": {
        "colab": {
          "base_uri": "https://localhost:8080/"
        },
        "id": "dkRy3Ll1f7tG",
        "outputId": "e807fa9b-5bc8-48dc-f460-3abc1d048600"
      },
      "execution_count": null,
      "outputs": [
        {
          "output_type": "stream",
          "name": "stdout",
          "text": [
            "training time in seconds 0.0007226467132568359\n",
            "test accuracy: 0.9707602339181286\n",
            "Confusion matrix:\n",
            "[[ 59   5]\n",
            " [  0 107]]\n"
          ]
        }
      ]
    },
    {
      "cell_type": "markdown",
      "source": [
        "# Decision Tree with AdaBoost"
      ],
      "metadata": {
        "id": "TwQfQ2YJ66Ke"
      }
    },
    {
      "cell_type": "markdown",
      "source": [
        "## Tune hyperparameters"
      ],
      "metadata": {
        "id": "VvjWupyFH_X3"
      }
    },
    {
      "cell_type": "markdown",
      "source": [
        "Tune learning rate"
      ],
      "metadata": {
        "id": "-jNxj4Tx7R5N"
      }
    },
    {
      "cell_type": "code",
      "source": [
        "plot_validation_curve(\n",
        "    AdaBoostClassifier(),\n",
        "    \"Validation Curve for learning rate with Adaboost DTree\", \n",
        "    X_train, \n",
        "    y_train, \n",
        "    param_name=\"learning_rate\", \n",
        "    param_range=np.arange(0.1, 1, 0.1).tolist(), \n",
        "    ylim=(0.7, 1.01), \n",
        "    cv=K_FOLDS, \n",
        "    use_semilogx=False,\n",
        "    save_as=f\"./plots/{dataset_name}/boosting_validation_curve_learning_rate.png\"\n",
        ")"
      ],
      "metadata": {
        "id": "BOOdKTkpgEOV",
        "colab": {
          "base_uri": "https://localhost:8080/",
          "height": 319
        },
        "outputId": "aeac12c5-a636-4855-b20a-a0a73ac86e8c"
      },
      "execution_count": null,
      "outputs": [
        {
          "output_type": "execute_result",
          "data": {
            "text/plain": [
              "<module 'matplotlib.pyplot' from '/usr/local/lib/python3.7/dist-packages/matplotlib/pyplot.py'>"
            ]
          },
          "metadata": {},
          "execution_count": 36
        },
        {
          "output_type": "display_data",
          "data": {
            "text/plain": [
              "<Figure size 432x288 with 1 Axes>"
            ],
            "image/png": "[encoded data removed]"
          },
          "metadata": {}
        }
      ]
    },
    {
      "cell_type": "markdown",
      "source": [
        "Tune n_estimators"
      ],
      "metadata": {
        "id": "tf-EQULN7TYZ"
      }
    },
    {
      "cell_type": "code",
      "source": [
        "plot_validation_curve(\n",
        "    AdaBoostClassifier(learning_rate=0.3), \n",
        "    \"Validation Curve for n estimators with Adaboost DTree\", \n",
        "    X_train, \n",
        "    y_train, \n",
        "    param_name=\"n_estimators\", \n",
        "    param_range=list(range(25, 100)), \n",
        "    ylim=(0.7, 1.01), \n",
        "    cv=K_FOLDS, \n",
        "    use_semilogx=False,\n",
        "    save_as=f\"./plots/{dataset_name}/boosting_validation_curve_n_estimators.png\"\n",
        ")"
      ],
      "metadata": {
        "id": "HPirgUQ_gUus",
        "colab": {
          "base_uri": "https://localhost:8080/",
          "height": 319
        },
        "outputId": "4c4e1a85-34b8-47fc-869b-accbffcaa113"
      },
      "execution_count": null,
      "outputs": [
        {
          "output_type": "execute_result",
          "data": {
            "text/plain": [
              "<module 'matplotlib.pyplot' from '/usr/local/lib/python3.7/dist-packages/matplotlib/pyplot.py'>"
            ]
          },
          "metadata": {},
          "execution_count": 37
        },
        {
          "output_type": "display_data",
          "data": {
            "text/plain": [
              "<Figure size 432x288 with 1 Axes>"
            ],
            "image/png": "[encoded data removed]"
          },
          "metadata": {}
        }
      ]
    },
    {
      "cell_type": "markdown",
      "source": [
        "## Plot learning curve"
      ],
      "metadata": {
        "id": "aU1EI2G2IHoA"
      }
    },
    {
      "cell_type": "code",
      "source": [
        "plot_learning_curve(\n",
        "    AdaBoostClassifier(learning_rate=0.3, n_estimators=50), \n",
        "    \"Learning Curve for Adaboost DTree\", \n",
        "    X_train, \n",
        "    y_train, \n",
        "    ylim=(0.7, 1.01), \n",
        "    cv=K_FOLDS, \n",
        "    n_jobs=4,\n",
        "    save_as=f\"./plots/{dataset_name}/boosting_learning_curve.png\"\n",
        ")"
      ],
      "metadata": {
        "id": "8-rFW_44gZsS",
        "colab": {
          "base_uri": "https://localhost:8080/",
          "height": 319
        },
        "outputId": "67efc39d-60ce-4db9-8c9e-b617f8158f44"
      },
      "execution_count": null,
      "outputs": [
        {
          "output_type": "execute_result",
          "data": {
            "text/plain": [
              "<module 'matplotlib.pyplot' from '/usr/local/lib/python3.7/dist-packages/matplotlib/pyplot.py'>"
            ]
          },
          "metadata": {},
          "execution_count": 38
        },
        {
          "output_type": "display_data",
          "data": {
            "text/plain": [
              "<Figure size 432x288 with 1 Axes>"
            ],
            "image/png": "[encoded data removed]"
          },
          "metadata": {}
        }
      ]
    },
    {
      "cell_type": "code",
      "source": [
        "# title = \"Performance of Decision Tree\"\n",
        "# plot_fit_time_vs_score(\n",
        "#     estimator, X_train, y_train, title=title, ylim=(0.7, 1.01), cv=n_folds, n_jobs=4\n",
        "# )"
      ],
      "metadata": {
        "id": "YT2adApWOyFE"
      },
      "execution_count": null,
      "outputs": []
    },
    {
      "cell_type": "markdown",
      "source": [
        "## Train and test"
      ],
      "metadata": {
        "id": "fdhDzP8X6_Ej"
      }
    },
    {
      "cell_type": "code",
      "source": [
        "train_and_test(AdaBoostClassifier(learning_rate=0.3, n_estimators=50))"
      ],
      "metadata": {
        "id": "foHedbt0goT6",
        "colab": {
          "base_uri": "https://localhost:8080/"
        },
        "outputId": "c94766a3-f62a-4de1-ec0e-ed73aad3bdbe"
      },
      "execution_count": null,
      "outputs": [
        {
          "output_type": "stream",
          "name": "stdout",
          "text": [
            "training time in seconds 0.001745462417602539\n",
            "test accuracy: 0.9707602339181286\n",
            "Confusion matrix:\n",
            "[[ 59   5]\n",
            " [  0 107]]\n"
          ]
        }
      ]
    },
    {
      "cell_type": "markdown",
      "source": [
        "# Multilayer Perceptron"
      ],
      "metadata": {
        "id": "GJGsxm1eIKwZ"
      }
    },
    {
      "cell_type": "markdown",
      "source": [
        "## Tune hyperparameters"
      ],
      "metadata": {
        "id": "rYpCsZKZ985S"
      }
    },
    {
      "cell_type": "markdown",
      "source": [
        "Tune learning_rate"
      ],
      "metadata": {
        "id": "ujF_LAmgBi0R"
      }
    },
    {
      "cell_type": "code",
      "source": [
        "estimator = MLPClassifier(random_state=1, solver='sgd')\n",
        "\n",
        "title = \"Validation Curve with Multilayer Perceptron\"\n",
        "param_name = \"learning_rate_init\"\n",
        "# param_range = np.arange(0.001, 0.01, 0.001).tolist()\n",
        "param_range = [0.001, 0.005, 0.01, 0.05, 0.1, 0.2, 0.4, 0.7]\n",
        "\n",
        "fig = None\n",
        "\n",
        "with warnings.catch_warnings():\n",
        "    warnings.filterwarnings(\n",
        "        \"ignore\", category=ConvergenceWarning, module=\"sklearn\"\n",
        "    )\n",
        "    fig = plot_validation_curve(\n",
        "        estimator, title, X_train, y_train, param_name, param_range, ylim=(0.7, 1.01), cv=K_FOLDS, use_semilogx=True\n",
        "    )\n",
        "    plt.savefig(f\"./plots/{dataset_name}/mlp_validation_curve_lr.png\")\n",
        "\n",
        "fig"
      ],
      "metadata": {
        "id": "TePBNoQD9_L6",
        "colab": {
          "base_uri": "https://localhost:8080/",
          "height": 325
        },
        "outputId": "b384bc2c-3fdc-4b40-df39-f6a28902cd5f"
      },
      "execution_count": null,
      "outputs": [
        {
          "output_type": "execute_result",
          "data": {
            "text/plain": [
              "<module 'matplotlib.pyplot' from '/usr/local/lib/python3.7/dist-packages/matplotlib/pyplot.py'>"
            ]
          },
          "metadata": {},
          "execution_count": 41
        },
        {
          "output_type": "display_data",
          "data": {
            "text/plain": [
              "<Figure size 432x288 with 1 Axes>"
            ],
            "image/png": "[encoded data removed]"
          },
          "metadata": {}
        }
      ]
    },
    {
      "cell_type": "markdown",
      "source": [
        "Tune hidden_layer_sizes"
      ],
      "metadata": {
        "id": "z5mYzkODBg4O"
      }
    },
    {
      "cell_type": "code",
      "source": [
        "estimator = MLPClassifier(random_state=1, learning_rate_init=0.001, solver='sgd')\n",
        "\n",
        "title = \"Validation Curve with Multilayer Perceptron\"\n",
        "param_name = \"hidden_layer_sizes\"\n",
        "param_range = [(n,) for n in range(40, 161, 20)]\n",
        "\n",
        "fig = None\n",
        "\n",
        "with warnings.catch_warnings():\n",
        "    warnings.filterwarnings(\n",
        "        \"ignore\", category=ConvergenceWarning, module=\"sklearn\"\n",
        "    )\n",
        "    fig = plot_validation_curve(\n",
        "        estimator, title, X_train, y_train, param_name, param_range, ylim=(0.7, 1.01)\n",
        "    )\n",
        "    plt.savefig(f\"./plots/{dataset_name}/mlp_validation_curve_hidden_layers.png\")\n",
        "\n",
        "fig"
      ],
      "metadata": {
        "id": "8Fh29kBg-paK",
        "colab": {
          "base_uri": "https://localhost:8080/",
          "height": 319
        },
        "outputId": "eff991ef-fa4a-4209-8520-cf494a1a8574"
      },
      "execution_count": null,
      "outputs": [
        {
          "output_type": "execute_result",
          "data": {
            "text/plain": [
              "<module 'matplotlib.pyplot' from '/usr/local/lib/python3.7/dist-packages/matplotlib/pyplot.py'>"
            ]
          },
          "metadata": {},
          "execution_count": 42
        },
        {
          "output_type": "display_data",
          "data": {
            "text/plain": [
              "<Figure size 432x288 with 1 Axes>"
            ],
            "image/png": "[encoded data removed]"
          },
          "metadata": {}
        }
      ]
    },
    {
      "cell_type": "markdown",
      "source": [
        "## Plot learning curve"
      ],
      "metadata": {
        "id": "dxObIa52FrYo"
      }
    },
    {
      "cell_type": "code",
      "source": [
        "mlp = MLPClassifier(random_state=1, hidden_layer_sizes=(120,), learning_rate_init=0.01, solver='sgd')\n",
        "\n",
        "title = \"Learning Curve for MLP\"\n",
        "fig = plot_learning_curve(\n",
        "    mlp, title, X_train, y_train, ylim=(0.7, 1.01), cv=K_FOLDS, n_jobs=4\n",
        ")\n",
        "plt.savefig(f\"./plots/{dataset_name}/mlp_learning_curve.png\")\n",
        "fig"
      ],
      "metadata": {
        "id": "zJFKAgfMFsz4",
        "colab": {
          "base_uri": "https://localhost:8080/",
          "height": 319
        },
        "outputId": "41c9f0e0-2cde-4230-93ba-9ba5a665a7b8"
      },
      "execution_count": null,
      "outputs": [
        {
          "output_type": "execute_result",
          "data": {
            "text/plain": [
              "<module 'matplotlib.pyplot' from '/usr/local/lib/python3.7/dist-packages/matplotlib/pyplot.py'>"
            ]
          },
          "metadata": {},
          "execution_count": 43
        },
        {
          "output_type": "display_data",
          "data": {
            "text/plain": [
              "<Figure size 432x288 with 1 Axes>"
            ],
            "image/png": "[encoded data removed]"
          },
          "metadata": {}
        }
      ]
    },
    {
      "cell_type": "code",
      "source": [
        "# title = \"Performance of MLP\"\n",
        "# plot_fit_time_vs_score(\n",
        "#     mlp, X_train, y_train, title=title, ylim=(0.7, 1.01), cv=K_FOLDS, n_jobs=4\n",
        "# )"
      ],
      "metadata": {
        "id": "1L5VpN3zGMlN"
      },
      "execution_count": null,
      "outputs": []
    },
    {
      "cell_type": "markdown",
      "source": [
        "## Plot loss curve"
      ],
      "metadata": {
        "id": "7h4kaRH79_hK"
      }
    },
    {
      "cell_type": "code",
      "source": [
        "# mlp = MLPClassifier(random_state=1, hidden_layer_sizes=(100,), learning_rate_init=0.001)\n",
        "\n",
        "# with warnings.catch_warnings():\n",
        "#     warnings.filterwarnings(\n",
        "#         \"ignore\", category=ConvergenceWarning, module=\"sklearn\"\n",
        "#     )\n",
        "#     mlp.fit(X_train, y_train)\n",
        "#     # cv_results = cross_validate(mlp, X_train, y_train, cv=n_folds)\n",
        "#     # print(sorted(cv_results.keys()))\n",
        "\n",
        "# plt.title(\"Loss Curve for Multilayer Perceptron\")\n",
        "# plt.plot(mlp.loss_curve_)"
      ],
      "metadata": {
        "id": "A0c_f0zG9_6c"
      },
      "execution_count": null,
      "outputs": []
    },
    {
      "cell_type": "code",
      "source": [
        "# lrs = [0.001, 0.005, 0.1, 0.2]\n",
        "# mlps = []\n",
        "# for lr in lrs:\n",
        "#     mlp = MLPClassifier(random_state=1, hidden_layer_sizes=(100,), learning_rate_init=lr)\n",
        "#     with warnings.catch_warnings():\n",
        "#         warnings.filterwarnings(\n",
        "#             \"ignore\", category=ConvergenceWarning, module=\"sklearn\"\n",
        "#         )\n",
        "#         mlp.fit(X_train, y_train)\n",
        "#     mlps.append(mlp)\n",
        "\n",
        "\n",
        "# fig, ax = plt.subplots()\n",
        "# plt.title(\"Loss Curve for Multilayer Perceptron\")\n",
        "# for mlp, lr in zip(mlps, lrs):\n",
        "#     ax.plot(mlp.loss_curve_, label=f\"learning_rate_init = {lr}\")\n",
        "# ax.legend(loc=\"best\")"
      ],
      "metadata": {
        "id": "DoVBvM4Alhkv"
      },
      "execution_count": null,
      "outputs": []
    },
    {
      "cell_type": "code",
      "source": [
        "# n_hidden_layers = list(range(50, 151, 20))\n",
        "# mlps = []\n",
        "# for n in n_hidden_layers:\n",
        "#     mlp = MLPClassifier(random_state=1, hidden_layer_sizes=(n,), learning_rate_init=0.005)\n",
        "#     with warnings.catch_warnings():\n",
        "#         warnings.filterwarnings(\n",
        "#             \"ignore\", category=ConvergenceWarning, module=\"sklearn\"\n",
        "#         )\n",
        "#         mlp.fit(X_train, y_train)\n",
        "#     mlps.append(mlp)\n",
        "\n",
        "\n",
        "# fig, ax = plt.subplots()\n",
        "# plt.title(\"Loss Curve for Multilayer Perceptron\")\n",
        "# for mlp, n in zip(mlps, n_hidden_layers):\n",
        "#     ax.plot(mlp.loss_curve_, label=f\"hidden_layers = {n}\")\n",
        "# ax.legend(loc=\"best\")"
      ],
      "metadata": {
        "id": "0yICHIGenDmK"
      },
      "execution_count": null,
      "outputs": []
    },
    {
      "cell_type": "markdown",
      "source": [
        "## Train and test"
      ],
      "metadata": {
        "id": "I5SSHf_7-Bcs"
      }
    },
    {
      "cell_type": "code",
      "source": [
        "mlp = MLPClassifier(random_state=1, hidden_layer_sizes=(120,), learning_rate_init=0.01, solver='sgd')\n",
        "with warnings.catch_warnings():\n",
        "    warnings.filterwarnings(\n",
        "        \"ignore\", category=ConvergenceWarning, module=\"sklearn\"\n",
        "    )\n",
        "    mlp.fit(X_train, y_train)\n",
        "\n",
        "y_pred = mlp.predict(X_test)\n",
        "acc = accuracy_score(y_test, y_pred)\n",
        "print(f\"test accuracy: {acc}\")\n",
        "cm = confusion_matrix(y_test, y_pred, labels=[0, 1])\n",
        "cm"
      ],
      "metadata": {
        "id": "2OA715N1jqi2",
        "colab": {
          "base_uri": "https://localhost:8080/"
        },
        "outputId": "54ba35b3-b21d-44ef-f149-180684957a35"
      },
      "execution_count": null,
      "outputs": [
        {
          "output_type": "stream",
          "name": "stdout",
          "text": [
            "test accuracy: 0.9883040935672515\n"
          ]
        },
        {
          "output_type": "execute_result",
          "data": {
            "text/plain": [
              "array([[ 62,   2],\n",
              "       [  0, 107]])"
            ]
          },
          "metadata": {},
          "execution_count": 48
        }
      ]
    },
    {
      "cell_type": "code",
      "source": [
        "# !cp -r plots/$dataset_name/*.png /content/gdrive/MyDrive/plots/$dataset_name"
      ],
      "metadata": {
        "id": "mUEET_U0jpTf"
      },
      "execution_count": null,
      "outputs": []
    }
  ]
}