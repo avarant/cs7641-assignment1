{
  "nbformat": 4,
  "nbformat_minor": 0,
  "metadata": {
    "colab": {
      "provenance": [],
      "collapsed_sections": [
        "UV_pKf0g4pJp",
        "0nFrX5SN7orE",
        "o7wWP1bpK_Bx",
        "7h4kaRH79_hK"
      ],
      "toc_visible": true
    },
    "kernelspec": {
      "name": "python3",
      "display_name": "Python 3"
    },
    "language_info": {
      "name": "python"
    }
  },
  "cells": [
    {
      "cell_type": "markdown",
      "source": [
        "# CS7641 Asignment 1 Titanic dataset\n",
        "\n",
        "by Varant Arabian (varabian3)"
      ],
      "metadata": {
        "id": "wlkdv2IEAGyx"
      }
    },
    {
      "cell_type": "code",
      "source": [
        "# # mount google drive\n",
        "# from google.colab import drive\n",
        "# drive.mount('/content/gdrive')"
      ],
      "metadata": {
        "id": "BHOO5YA1iqQ7"
      },
      "execution_count": null,
      "outputs": []
    },
    {
      "cell_type": "code",
      "source": [
        "!mkdir -p plots\n",
        "!mkdir -p plots/titanic\n",
        "!mkdir -p plots/breast_cancer"
      ],
      "metadata": {
        "id": "9Tt4RgFiWZdQ"
      },
      "execution_count": null,
      "outputs": []
    },
    {
      "cell_type": "markdown",
      "source": [
        "# Import dependencies"
      ],
      "metadata": {
        "id": "UV_pKf0g4pJp"
      }
    },
    {
      "cell_type": "code",
      "execution_count": null,
      "metadata": {
        "id": "1asyaqD9pMSG"
      },
      "outputs": [],
      "source": [
        "import os\n",
        "import warnings\n",
        "import numpy as np\n",
        "import pandas as pd\n",
        "import time\n",
        "\n",
        "import seaborn as sns\n",
        "import matplotlib.pyplot as plt\n",
        "%matplotlib inline\n",
        "\n",
        "from sklearn.datasets import fetch_openml\n",
        "from sklearn.preprocessing import LabelEncoder, StandardScaler\n",
        "from sklearn.pipeline import make_pipeline\n",
        "from sklearn.model_selection import train_test_split, cross_validate, GridSearchCV, learning_curve, validation_curve, StratifiedKFold, KFold\n",
        "from sklearn.metrics import accuracy_score, classification_report, confusion_matrix\n",
        "from sklearn.utils import check_random_state\n",
        "from sklearn.tree import DecisionTreeClassifier\n",
        "from sklearn.svm import SVC, LinearSVC\n",
        "from sklearn.neighbors import KNeighborsClassifier\n",
        "from sklearn.ensemble import AdaBoostClassifier\n",
        "from sklearn.neural_network import MLPClassifier\n",
        "from sklearn.exceptions import ConvergenceWarning\n",
        "from sklearn.datasets import load_breast_cancer\n",
        "\n",
        "from IPython.display import clear_output \n",
        "\n",
        "sns.set_theme(style=\"darkgrid\")"
      ]
    },
    {
      "cell_type": "markdown",
      "source": [
        "# Titanic dataset"
      ],
      "metadata": {
        "id": "0nFrX5SN7orE"
      }
    },
    {
      "cell_type": "code",
      "source": [
        "dataset_name = \"titanic\""
      ],
      "metadata": {
        "id": "z2iPJttBZGNn"
      },
      "execution_count": null,
      "outputs": []
    },
    {
      "cell_type": "markdown",
      "source": [
        "### Load data"
      ],
      "metadata": {
        "id": "k41nME_m5arS"
      }
    },
    {
      "cell_type": "markdown",
      "source": [
        "| variable | definition |\n",
        "| --- | --- |\n",
        "| survival | Survival |\n",
        "| pclass | ticket class |\n",
        "| age | age in years |\n",
        "| sibsp | # of siblings on board |\n",
        "| parch | # of parents/children on board |\n",
        "| ticket | ticket number |\n",
        "| fare | passenger fare |\n",
        "| cabin | cabin number |\n",
        "| embarked | port of embarkation |"
      ],
      "metadata": {
        "id": "GmKsR58dIHdt"
      }
    },
    {
      "cell_type": "markdown",
      "source": [
        "download the data"
      ],
      "metadata": {
        "id": "LiLLPFMZ5y8a"
      }
    },
    {
      "cell_type": "code",
      "source": [
        "!mkdir -p data/titanic\n",
        "!curl https://raw.githubusercontent.com/avarant/cs7641-assignment1/master/data/titanic/train.csv > /content/data/titanic/train.csv"
      ],
      "metadata": {
        "colab": {
          "base_uri": "https://localhost:8080/"
        },
        "id": "hgfE_5Cx5xhx",
        "outputId": "fd35d5d3-4933-4831-c023-25856ed186aa"
      },
      "execution_count": null,
      "outputs": [
        {
          "output_type": "stream",
          "name": "stdout",
          "text": [
            "  % Total    % Received % Xferd  Average Speed   Time    Time     Time  Current\n",
            "                                 Dload  Upload   Total   Spent    Left  Speed\n",
            "\r  0     0    0     0    0     0      0      0 --:--:-- --:--:-- --:--:--     0\r100 60302  100 60302    0     0   420k      0 --:--:-- --:--:-- --:--:--  420k\n"
          ]
        }
      ]
    },
    {
      "cell_type": "code",
      "source": [
        "path_to_csv = \"/content/data/titanic/train.csv\""
      ],
      "metadata": {
        "id": "EXn1qz7gERYf"
      },
      "execution_count": null,
      "outputs": []
    },
    {
      "cell_type": "code",
      "source": [
        "df = pd.read_csv(path_to_csv)\n",
        "df.head()"
      ],
      "metadata": {
        "colab": {
          "base_uri": "https://localhost:8080/"
        },
        "id": "vLcBOFtJ7naI",
        "outputId": "c6dabaf3-14f4-4b26-8859-24b5ffce0500"
      },
      "execution_count": null,
      "outputs": [
        {
          "output_type": "execute_result",
          "data": {
            "text/plain": [
              "   PassengerId  Survived  Pclass  \\\n",
              "0            1         0       3   \n",
              "1            2         1       1   \n",
              "2            3         1       3   \n",
              "3            4         1       1   \n",
              "4            5         0       3   \n",
              "\n",
              "                                                Name     Sex   Age  SibSp  \\\n",
              "0                            Braund, Mr. Owen Harris    male  22.0      1   \n",
              "1  Cumings, Mrs. John Bradley (Florence Briggs Th...  female  38.0      1   \n",
              "2                             Heikkinen, Miss. Laina  female  26.0      0   \n",
              "3       Futrelle, Mrs. Jacques Heath (Lily May Peel)  female  35.0      1   \n",
              "4                           Allen, Mr. William Henry    male  35.0      0   \n",
              "\n",
              "   Parch            Ticket     Fare Cabin Embarked  \n",
              "0      0         A/5 21171   7.2500   NaN        S  \n",
              "1      0          PC 17599  71.2833   C85        C  \n",
              "2      0  STON/O2. 3101282   7.9250   NaN        S  \n",
              "3      0            113803  53.1000  C123        S  \n",
              "4      0            373450   8.0500   NaN        S  "
            ],
            "text/html": [
              "\n",
              "  <div id=\"df-143f7836-c7b3-464c-bd7f-e1f6e93c6a02\">\n",
              "    <div class=\"colab-df-container\">\n",
              "      <div>\n",
              "<style scoped>\n",
              "    .dataframe tbody tr th:only-of-type {\n",
              "        vertical-align: middle;\n",
              "    }\n",
              "\n",
              "    .dataframe tbody tr th {\n",
              "        vertical-align: top;\n",
              "    }\n",
              "\n",
              "    .dataframe thead th {\n",
              "        text-align: right;\n",
              "    }\n",
              "</style>\n",
              "<table border=\"1\" class=\"dataframe\">\n",
              "  <thead>\n",
              "    <tr style=\"text-align: right;\">\n",
              "      <th></th>\n",
              "      <th>PassengerId</th>\n",
              "      <th>Survived</th>\n",
              "      <th>Pclass</th>\n",
              "      <th>Name</th>\n",
              "      <th>Sex</th>\n",
              "      <th>Age</th>\n",
              "      <th>SibSp</th>\n",
              "      <th>Parch</th>\n",
              "      <th>Ticket</th>\n",
              "      <th>Fare</th>\n",
              "      <th>Cabin</th>\n",
              "      <th>Embarked</th>\n",
              "    </tr>\n",
              "  </thead>\n",
              "  <tbody>\n",
              "    <tr>\n",
              "      <th>0</th>\n",
              "      <td>1</td>\n",
              "      <td>0</td>\n",
              "      <td>3</td>\n",
              "      <td>Braund, Mr. Owen Harris</td>\n",
              "      <td>male</td>\n",
              "      <td>22.0</td>\n",
              "      <td>1</td>\n",
              "      <td>0</td>\n",
              "      <td>A/5 21171</td>\n",
              "      <td>7.2500</td>\n",
              "      <td>NaN</td>\n",
              "      <td>S</td>\n",
              "    </tr>\n",
              "    <tr>\n",
              "      <th>1</th>\n",
              "      <td>2</td>\n",
              "      <td>1</td>\n",
              "      <td>1</td>\n",
              "      <td>Cumings, Mrs. John Bradley (Florence Briggs Th...</td>\n",
              "      <td>female</td>\n",
              "      <td>38.0</td>\n",
              "      <td>1</td>\n",
              "      <td>0</td>\n",
              "      <td>PC 17599</td>\n",
              "      <td>71.2833</td>\n",
              "      <td>C85</td>\n",
              "      <td>C</td>\n",
              "    </tr>\n",
              "    <tr>\n",
              "      <th>2</th>\n",
              "      <td>3</td>\n",
              "      <td>1</td>\n",
              "      <td>3</td>\n",
              "      <td>Heikkinen, Miss. Laina</td>\n",
              "      <td>female</td>\n",
              "      <td>26.0</td>\n",
              "      <td>0</td>\n",
              "      <td>0</td>\n",
              "      <td>STON/O2. 3101282</td>\n",
              "      <td>7.9250</td>\n",
              "      <td>NaN</td>\n",
              "      <td>S</td>\n",
              "    </tr>\n",
              "    <tr>\n",
              "      <th>3</th>\n",
              "      <td>4</td>\n",
              "      <td>1</td>\n",
              "      <td>1</td>\n",
              "      <td>Futrelle, Mrs. Jacques Heath (Lily May Peel)</td>\n",
              "      <td>female</td>\n",
              "      <td>35.0</td>\n",
              "      <td>1</td>\n",
              "      <td>0</td>\n",
              "      <td>113803</td>\n",
              "      <td>53.1000</td>\n",
              "      <td>C123</td>\n",
              "      <td>S</td>\n",
              "    </tr>\n",
              "    <tr>\n",
              "      <th>4</th>\n",
              "      <td>5</td>\n",
              "      <td>0</td>\n",
              "      <td>3</td>\n",
              "      <td>Allen, Mr. William Henry</td>\n",
              "      <td>male</td>\n",
              "      <td>35.0</td>\n",
              "      <td>0</td>\n",
              "      <td>0</td>\n",
              "      <td>373450</td>\n",
              "      <td>8.0500</td>\n",
              "      <td>NaN</td>\n",
              "      <td>S</td>\n",
              "    </tr>\n",
              "  </tbody>\n",
              "</table>\n",
              "</div>\n",
              "      <button class=\"colab-df-convert\" onclick=\"convertToInteractive('df-143f7836-c7b3-464c-bd7f-e1f6e93c6a02')\"\n",
              "              title=\"Convert this dataframe to an interactive table.\"\n",
              "              style=\"display:none;\">\n",
              "        \n",
              "  <svg xmlns=\"http://www.w3.org/2000/svg\" height=\"24px\"viewBox=\"0 0 24 24\"\n",
              "       width=\"24px\">\n",
              "    <path d=\"M0 0h24v24H0V0z\" fill=\"none\"/>\n",
              "    <path d=\"M18.56 5.44l.94 2.06.94-2.06 2.06-.94-2.06-.94-.94-2.06-.94 2.06-2.06.94zm-11 1L8.5 8.5l.94-2.06 2.06-.94-2.06-.94L8.5 2.5l-.94 2.06-2.06.94zm10 10l.94 2.06.94-2.06 2.06-.94-2.06-.94-.94-2.06-.94 2.06-2.06.94z\"/><path d=\"M17.41 7.96l-1.37-1.37c-.4-.4-.92-.59-1.43-.59-.52 0-1.04.2-1.43.59L10.3 9.45l-7.72 7.72c-.78.78-.78 2.05 0 2.83L4 21.41c.39.39.9.59 1.41.59.51 0 1.02-.2 1.41-.59l7.78-7.78 2.81-2.81c.8-.78.8-2.07 0-2.86zM5.41 20L4 18.59l7.72-7.72 1.47 1.35L5.41 20z\"/>\n",
              "  </svg>\n",
              "      </button>\n",
              "      \n",
              "  <style>\n",
              "    .colab-df-container {\n",
              "      display:flex;\n",
              "      flex-wrap:wrap;\n",
              "      gap: 12px;\n",
              "    }\n",
              "\n",
              "    .colab-df-convert {\n",
              "      background-color: #E8F0FE;\n",
              "      border: none;\n",
              "      border-radius: 50%;\n",
              "      cursor: pointer;\n",
              "      display: none;\n",
              "      fill: #1967D2;\n",
              "      height: 32px;\n",
              "      padding: 0 0 0 0;\n",
              "      width: 32px;\n",
              "    }\n",
              "\n",
              "    .colab-df-convert:hover {\n",
              "      background-color: #E2EBFA;\n",
              "      box-shadow: 0px 1px 2px rgba(60, 64, 67, 0.3), 0px 1px 3px 1px rgba(60, 64, 67, 0.15);\n",
              "      fill: #174EA6;\n",
              "    }\n",
              "\n",
              "    [theme=dark] .colab-df-convert {\n",
              "      background-color: #3B4455;\n",
              "      fill: #D2E3FC;\n",
              "    }\n",
              "\n",
              "    [theme=dark] .colab-df-convert:hover {\n",
              "      background-color: #434B5C;\n",
              "      box-shadow: 0px 1px 3px 1px rgba(0, 0, 0, 0.15);\n",
              "      filter: drop-shadow(0px 1px 2px rgba(0, 0, 0, 0.3));\n",
              "      fill: #FFFFFF;\n",
              "    }\n",
              "  </style>\n",
              "\n",
              "      <script>\n",
              "        const buttonEl =\n",
              "          document.querySelector('#df-143f7836-c7b3-464c-bd7f-e1f6e93c6a02 button.colab-df-convert');\n",
              "        buttonEl.style.display =\n",
              "          google.colab.kernel.accessAllowed ? 'block' : 'none';\n",
              "\n",
              "        async function convertToInteractive(key) {\n",
              "          const element = document.querySelector('#df-143f7836-c7b3-464c-bd7f-e1f6e93c6a02');\n",
              "          const dataTable =\n",
              "            await google.colab.kernel.invokeFunction('convertToInteractive',\n",
              "                                                     [key], {});\n",
              "          if (!dataTable) return;\n",
              "\n",
              "          const docLinkHtml = 'Like what you see? Visit the ' +\n",
              "            '<a target=\"_blank\" href=https://colab.research.google.com/notebooks/data_table.ipynb>data table notebook</a>'\n",
              "            + ' to learn more about interactive tables.';\n",
              "          element.innerHTML = '';\n",
              "          dataTable['output_type'] = 'display_data';\n",
              "          await google.colab.output.renderOutput(dataTable, element);\n",
              "          const docLink = document.createElement('div');\n",
              "          docLink.innerHTML = docLinkHtml;\n",
              "          element.appendChild(docLink);\n",
              "        }\n",
              "      </script>\n",
              "    </div>\n",
              "  </div>\n",
              "  "
            ]
          },
          "metadata": {},
          "execution_count": 7
        }
      ]
    },
    {
      "cell_type": "code",
      "source": [
        "df.info()"
      ],
      "metadata": {
        "colab": {
          "base_uri": "https://localhost:8080/"
        },
        "id": "iX-FpEsIGu7D",
        "outputId": "9499c4ad-f68f-49c2-b843-0c3b79898119"
      },
      "execution_count": null,
      "outputs": [
        {
          "output_type": "stream",
          "name": "stdout",
          "text": [
            "<class 'pandas.core.frame.DataFrame'>\n",
            "RangeIndex: 891 entries, 0 to 890\n",
            "Data columns (total 12 columns):\n",
            " #   Column       Non-Null Count  Dtype  \n",
            "---  ------       --------------  -----  \n",
            " 0   PassengerId  891 non-null    int64  \n",
            " 1   Survived     891 non-null    int64  \n",
            " 2   Pclass       891 non-null    int64  \n",
            " 3   Name         891 non-null    object \n",
            " 4   Sex          891 non-null    object \n",
            " 5   Age          714 non-null    float64\n",
            " 6   SibSp        891 non-null    int64  \n",
            " 7   Parch        891 non-null    int64  \n",
            " 8   Ticket       891 non-null    object \n",
            " 9   Fare         891 non-null    float64\n",
            " 10  Cabin        204 non-null    object \n",
            " 11  Embarked     889 non-null    object \n",
            "dtypes: float64(2), int64(5), object(5)\n",
            "memory usage: 83.7+ KB\n"
          ]
        }
      ]
    },
    {
      "cell_type": "code",
      "source": [
        "df.describe()"
      ],
      "metadata": {
        "colab": {
          "base_uri": "https://localhost:8080/"
        },
        "id": "5EFGb64AHGO5",
        "outputId": "bb96b26a-b836-492f-a612-968518bb2e5b"
      },
      "execution_count": null,
      "outputs": [
        {
          "output_type": "execute_result",
          "data": {
            "text/plain": [
              "       PassengerId    Survived      Pclass         Age       SibSp  \\\n",
              "count   891.000000  891.000000  891.000000  714.000000  891.000000   \n",
              "mean    446.000000    0.383838    2.308642   29.699118    0.523008   \n",
              "std     257.353842    0.486592    0.836071   14.526497    1.102743   \n",
              "min       1.000000    0.000000    1.000000    0.420000    0.000000   \n",
              "25%     223.500000    0.000000    2.000000   20.125000    0.000000   \n",
              "50%     446.000000    0.000000    3.000000   28.000000    0.000000   \n",
              "75%     668.500000    1.000000    3.000000   38.000000    1.000000   \n",
              "max     891.000000    1.000000    3.000000   80.000000    8.000000   \n",
              "\n",
              "            Parch        Fare  \n",
              "count  891.000000  891.000000  \n",
              "mean     0.381594   32.204208  \n",
              "std      0.806057   49.693429  \n",
              "min      0.000000    0.000000  \n",
              "25%      0.000000    7.910400  \n",
              "50%      0.000000   14.454200  \n",
              "75%      0.000000   31.000000  \n",
              "max      6.000000  512.329200  "
            ],
            "text/html": [
              "\n",
              "  <div id=\"df-dd443c3b-e07c-4f55-9035-e47d231a29e5\">\n",
              "    <div class=\"colab-df-container\">\n",
              "      <div>\n",
              "<style scoped>\n",
              "    .dataframe tbody tr th:only-of-type {\n",
              "        vertical-align: middle;\n",
              "    }\n",
              "\n",
              "    .dataframe tbody tr th {\n",
              "        vertical-align: top;\n",
              "    }\n",
              "\n",
              "    .dataframe thead th {\n",
              "        text-align: right;\n",
              "    }\n",
              "</style>\n",
              "<table border=\"1\" class=\"dataframe\">\n",
              "  <thead>\n",
              "    <tr style=\"text-align: right;\">\n",
              "      <th></th>\n",
              "      <th>PassengerId</th>\n",
              "      <th>Survived</th>\n",
              "      <th>Pclass</th>\n",
              "      <th>Age</th>\n",
              "      <th>SibSp</th>\n",
              "      <th>Parch</th>\n",
              "      <th>Fare</th>\n",
              "    </tr>\n",
              "  </thead>\n",
              "  <tbody>\n",
              "    <tr>\n",
              "      <th>count</th>\n",
              "      <td>891.000000</td>\n",
              "      <td>891.000000</td>\n",
              "      <td>891.000000</td>\n",
              "      <td>714.000000</td>\n",
              "      <td>891.000000</td>\n",
              "      <td>891.000000</td>\n",
              "      <td>891.000000</td>\n",
              "    </tr>\n",
              "    <tr>\n",
              "      <th>mean</th>\n",
              "      <td>446.000000</td>\n",
              "      <td>0.383838</td>\n",
              "      <td>2.308642</td>\n",
              "      <td>29.699118</td>\n",
              "      <td>0.523008</td>\n",
              "      <td>0.381594</td>\n",
              "      <td>32.204208</td>\n",
              "    </tr>\n",
              "    <tr>\n",
              "      <th>std</th>\n",
              "      <td>257.353842</td>\n",
              "      <td>0.486592</td>\n",
              "      <td>0.836071</td>\n",
              "      <td>14.526497</td>\n",
              "      <td>1.102743</td>\n",
              "      <td>0.806057</td>\n",
              "      <td>49.693429</td>\n",
              "    </tr>\n",
              "    <tr>\n",
              "      <th>min</th>\n",
              "      <td>1.000000</td>\n",
              "      <td>0.000000</td>\n",
              "      <td>1.000000</td>\n",
              "      <td>0.420000</td>\n",
              "      <td>0.000000</td>\n",
              "      <td>0.000000</td>\n",
              "      <td>0.000000</td>\n",
              "    </tr>\n",
              "    <tr>\n",
              "      <th>25%</th>\n",
              "      <td>223.500000</td>\n",
              "      <td>0.000000</td>\n",
              "      <td>2.000000</td>\n",
              "      <td>20.125000</td>\n",
              "      <td>0.000000</td>\n",
              "      <td>0.000000</td>\n",
              "      <td>7.910400</td>\n",
              "    </tr>\n",
              "    <tr>\n",
              "      <th>50%</th>\n",
              "      <td>446.000000</td>\n",
              "      <td>0.000000</td>\n",
              "      <td>3.000000</td>\n",
              "      <td>28.000000</td>\n",
              "      <td>0.000000</td>\n",
              "      <td>0.000000</td>\n",
              "      <td>14.454200</td>\n",
              "    </tr>\n",
              "    <tr>\n",
              "      <th>75%</th>\n",
              "      <td>668.500000</td>\n",
              "      <td>1.000000</td>\n",
              "      <td>3.000000</td>\n",
              "      <td>38.000000</td>\n",
              "      <td>1.000000</td>\n",
              "      <td>0.000000</td>\n",
              "      <td>31.000000</td>\n",
              "    </tr>\n",
              "    <tr>\n",
              "      <th>max</th>\n",
              "      <td>891.000000</td>\n",
              "      <td>1.000000</td>\n",
              "      <td>3.000000</td>\n",
              "      <td>80.000000</td>\n",
              "      <td>8.000000</td>\n",
              "      <td>6.000000</td>\n",
              "      <td>512.329200</td>\n",
              "    </tr>\n",
              "  </tbody>\n",
              "</table>\n",
              "</div>\n",
              "      <button class=\"colab-df-convert\" onclick=\"convertToInteractive('df-dd443c3b-e07c-4f55-9035-e47d231a29e5')\"\n",
              "              title=\"Convert this dataframe to an interactive table.\"\n",
              "              style=\"display:none;\">\n",
              "        \n",
              "  <svg xmlns=\"http://www.w3.org/2000/svg\" height=\"24px\"viewBox=\"0 0 24 24\"\n",
              "       width=\"24px\">\n",
              "    <path d=\"M0 0h24v24H0V0z\" fill=\"none\"/>\n",
              "    <path d=\"M18.56 5.44l.94 2.06.94-2.06 2.06-.94-2.06-.94-.94-2.06-.94 2.06-2.06.94zm-11 1L8.5 8.5l.94-2.06 2.06-.94-2.06-.94L8.5 2.5l-.94 2.06-2.06.94zm10 10l.94 2.06.94-2.06 2.06-.94-2.06-.94-.94-2.06-.94 2.06-2.06.94z\"/><path d=\"M17.41 7.96l-1.37-1.37c-.4-.4-.92-.59-1.43-.59-.52 0-1.04.2-1.43.59L10.3 9.45l-7.72 7.72c-.78.78-.78 2.05 0 2.83L4 21.41c.39.39.9.59 1.41.59.51 0 1.02-.2 1.41-.59l7.78-7.78 2.81-2.81c.8-.78.8-2.07 0-2.86zM5.41 20L4 18.59l7.72-7.72 1.47 1.35L5.41 20z\"/>\n",
              "  </svg>\n",
              "      </button>\n",
              "      \n",
              "  <style>\n",
              "    .colab-df-container {\n",
              "      display:flex;\n",
              "      flex-wrap:wrap;\n",
              "      gap: 12px;\n",
              "    }\n",
              "\n",
              "    .colab-df-convert {\n",
              "      background-color: #E8F0FE;\n",
              "      border: none;\n",
              "      border-radius: 50%;\n",
              "      cursor: pointer;\n",
              "      display: none;\n",
              "      fill: #1967D2;\n",
              "      height: 32px;\n",
              "      padding: 0 0 0 0;\n",
              "      width: 32px;\n",
              "    }\n",
              "\n",
              "    .colab-df-convert:hover {\n",
              "      background-color: #E2EBFA;\n",
              "      box-shadow: 0px 1px 2px rgba(60, 64, 67, 0.3), 0px 1px 3px 1px rgba(60, 64, 67, 0.15);\n",
              "      fill: #174EA6;\n",
              "    }\n",
              "\n",
              "    [theme=dark] .colab-df-convert {\n",
              "      background-color: #3B4455;\n",
              "      fill: #D2E3FC;\n",
              "    }\n",
              "\n",
              "    [theme=dark] .colab-df-convert:hover {\n",
              "      background-color: #434B5C;\n",
              "      box-shadow: 0px 1px 3px 1px rgba(0, 0, 0, 0.15);\n",
              "      filter: drop-shadow(0px 1px 2px rgba(0, 0, 0, 0.3));\n",
              "      fill: #FFFFFF;\n",
              "    }\n",
              "  </style>\n",
              "\n",
              "      <script>\n",
              "        const buttonEl =\n",
              "          document.querySelector('#df-dd443c3b-e07c-4f55-9035-e47d231a29e5 button.colab-df-convert');\n",
              "        buttonEl.style.display =\n",
              "          google.colab.kernel.accessAllowed ? 'block' : 'none';\n",
              "\n",
              "        async function convertToInteractive(key) {\n",
              "          const element = document.querySelector('#df-dd443c3b-e07c-4f55-9035-e47d231a29e5');\n",
              "          const dataTable =\n",
              "            await google.colab.kernel.invokeFunction('convertToInteractive',\n",
              "                                                     [key], {});\n",
              "          if (!dataTable) return;\n",
              "\n",
              "          const docLinkHtml = 'Like what you see? Visit the ' +\n",
              "            '<a target=\"_blank\" href=https://colab.research.google.com/notebooks/data_table.ipynb>data table notebook</a>'\n",
              "            + ' to learn more about interactive tables.';\n",
              "          element.innerHTML = '';\n",
              "          dataTable['output_type'] = 'display_data';\n",
              "          await google.colab.output.renderOutput(dataTable, element);\n",
              "          const docLink = document.createElement('div');\n",
              "          docLink.innerHTML = docLinkHtml;\n",
              "          element.appendChild(docLink);\n",
              "        }\n",
              "      </script>\n",
              "    </div>\n",
              "  </div>\n",
              "  "
            ]
          },
          "metadata": {},
          "execution_count": 9
        }
      ]
    },
    {
      "cell_type": "code",
      "source": [
        "df['Pclass'].value_counts()"
      ],
      "metadata": {
        "colab": {
          "base_uri": "https://localhost:8080/"
        },
        "id": "KrSB7Dq_HXdD",
        "outputId": "53d3ad82-175a-405f-e0d1-3f4599cb2f65"
      },
      "execution_count": null,
      "outputs": [
        {
          "output_type": "execute_result",
          "data": {
            "text/plain": [
              "3    491\n",
              "1    216\n",
              "2    184\n",
              "Name: Pclass, dtype: int64"
            ]
          },
          "metadata": {},
          "execution_count": 10
        }
      ]
    },
    {
      "cell_type": "code",
      "source": [
        "df['Sex'].value_counts()"
      ],
      "metadata": {
        "colab": {
          "base_uri": "https://localhost:8080/"
        },
        "id": "D6X1718YHMNx",
        "outputId": "9ad28550-c462-4d51-c621-cde2666f83f9"
      },
      "execution_count": null,
      "outputs": [
        {
          "output_type": "execute_result",
          "data": {
            "text/plain": [
              "male      577\n",
              "female    314\n",
              "Name: Sex, dtype: int64"
            ]
          },
          "metadata": {},
          "execution_count": 11
        }
      ]
    },
    {
      "cell_type": "code",
      "source": [
        "df['Survived'].value_counts()"
      ],
      "metadata": {
        "colab": {
          "base_uri": "https://localhost:8080/"
        },
        "id": "xhwAICjlHSZ7",
        "outputId": "2f03dbdf-ee0e-4396-ab38-09174129bd0d"
      },
      "execution_count": null,
      "outputs": [
        {
          "output_type": "execute_result",
          "data": {
            "text/plain": [
              "0    549\n",
              "1    342\n",
              "Name: Survived, dtype: int64"
            ]
          },
          "metadata": {},
          "execution_count": 12
        }
      ]
    },
    {
      "cell_type": "code",
      "source": [
        "df['Embarked'].value_counts()"
      ],
      "metadata": {
        "colab": {
          "base_uri": "https://localhost:8080/"
        },
        "id": "RifHnLTXUFir",
        "outputId": "85a08e3f-33d7-4311-ff15-ae2fd353f49e"
      },
      "execution_count": null,
      "outputs": [
        {
          "output_type": "execute_result",
          "data": {
            "text/plain": [
              "S    644\n",
              "C    168\n",
              "Q     77\n",
              "Name: Embarked, dtype: int64"
            ]
          },
          "metadata": {},
          "execution_count": 13
        }
      ]
    },
    {
      "cell_type": "markdown",
      "source": [
        "0.383838 percent survived. "
      ],
      "metadata": {
        "id": "VIu6Tx1aHjaM"
      }
    },
    {
      "cell_type": "markdown",
      "source": [
        "## Preprocess"
      ],
      "metadata": {
        "id": "f_ZKDCFjL_mV"
      }
    },
    {
      "cell_type": "markdown",
      "source": [
        "drop features\n",
        "\n"
      ],
      "metadata": {
        "id": "hEJYOCneSLKu"
      }
    },
    {
      "cell_type": "code",
      "source": [
        "df = df.drop([\"Name\", \"PassengerId\", \"Ticket\", \"Cabin\"], axis=1)"
      ],
      "metadata": {
        "id": "A8Ncdp1FOwGM"
      },
      "execution_count": null,
      "outputs": []
    },
    {
      "cell_type": "markdown",
      "source": [
        "impute missing values"
      ],
      "metadata": {
        "id": "MvHl6NCDVn0t"
      }
    },
    {
      "cell_type": "code",
      "source": [
        "mean_age = df[\"Age\"].mean()\n",
        "df[\"Age\"].fillna(mean_age, inplace=True)"
      ],
      "metadata": {
        "id": "20jEGgpoVpl-"
      },
      "execution_count": null,
      "outputs": []
    },
    {
      "cell_type": "code",
      "source": [
        "df[df['Embarked'].isnull()]"
      ],
      "metadata": {
        "colab": {
          "base_uri": "https://localhost:8080/"
        },
        "id": "6J85mdX8VmZ3",
        "outputId": "f08970f2-98dc-4d19-949a-48899a790b6f"
      },
      "execution_count": null,
      "outputs": [
        {
          "output_type": "execute_result",
          "data": {
            "text/plain": [
              "     Survived  Pclass     Sex   Age  SibSp  Parch  Fare Embarked\n",
              "61          1       1  female  38.0      0      0  80.0      NaN\n",
              "829         1       1  female  62.0      0      0  80.0      NaN"
            ],
            "text/html": [
              "\n",
              "  <div id=\"df-f1eb42a5-ebd7-4a5f-8085-9dd2a8573895\">\n",
              "    <div class=\"colab-df-container\">\n",
              "      <div>\n",
              "<style scoped>\n",
              "    .dataframe tbody tr th:only-of-type {\n",
              "        vertical-align: middle;\n",
              "    }\n",
              "\n",
              "    .dataframe tbody tr th {\n",
              "        vertical-align: top;\n",
              "    }\n",
              "\n",
              "    .dataframe thead th {\n",
              "        text-align: right;\n",
              "    }\n",
              "</style>\n",
              "<table border=\"1\" class=\"dataframe\">\n",
              "  <thead>\n",
              "    <tr style=\"text-align: right;\">\n",
              "      <th></th>\n",
              "      <th>Survived</th>\n",
              "      <th>Pclass</th>\n",
              "      <th>Sex</th>\n",
              "      <th>Age</th>\n",
              "      <th>SibSp</th>\n",
              "      <th>Parch</th>\n",
              "      <th>Fare</th>\n",
              "      <th>Embarked</th>\n",
              "    </tr>\n",
              "  </thead>\n",
              "  <tbody>\n",
              "    <tr>\n",
              "      <th>61</th>\n",
              "      <td>1</td>\n",
              "      <td>1</td>\n",
              "      <td>female</td>\n",
              "      <td>38.0</td>\n",
              "      <td>0</td>\n",
              "      <td>0</td>\n",
              "      <td>80.0</td>\n",
              "      <td>NaN</td>\n",
              "    </tr>\n",
              "    <tr>\n",
              "      <th>829</th>\n",
              "      <td>1</td>\n",
              "      <td>1</td>\n",
              "      <td>female</td>\n",
              "      <td>62.0</td>\n",
              "      <td>0</td>\n",
              "      <td>0</td>\n",
              "      <td>80.0</td>\n",
              "      <td>NaN</td>\n",
              "    </tr>\n",
              "  </tbody>\n",
              "</table>\n",
              "</div>\n",
              "      <button class=\"colab-df-convert\" onclick=\"convertToInteractive('df-f1eb42a5-ebd7-4a5f-8085-9dd2a8573895')\"\n",
              "              title=\"Convert this dataframe to an interactive table.\"\n",
              "              style=\"display:none;\">\n",
              "        \n",
              "  <svg xmlns=\"http://www.w3.org/2000/svg\" height=\"24px\"viewBox=\"0 0 24 24\"\n",
              "       width=\"24px\">\n",
              "    <path d=\"M0 0h24v24H0V0z\" fill=\"none\"/>\n",
              "    <path d=\"M18.56 5.44l.94 2.06.94-2.06 2.06-.94-2.06-.94-.94-2.06-.94 2.06-2.06.94zm-11 1L8.5 8.5l.94-2.06 2.06-.94-2.06-.94L8.5 2.5l-.94 2.06-2.06.94zm10 10l.94 2.06.94-2.06 2.06-.94-2.06-.94-.94-2.06-.94 2.06-2.06.94z\"/><path d=\"M17.41 7.96l-1.37-1.37c-.4-.4-.92-.59-1.43-.59-.52 0-1.04.2-1.43.59L10.3 9.45l-7.72 7.72c-.78.78-.78 2.05 0 2.83L4 21.41c.39.39.9.59 1.41.59.51 0 1.02-.2 1.41-.59l7.78-7.78 2.81-2.81c.8-.78.8-2.07 0-2.86zM5.41 20L4 18.59l7.72-7.72 1.47 1.35L5.41 20z\"/>\n",
              "  </svg>\n",
              "      </button>\n",
              "      \n",
              "  <style>\n",
              "    .colab-df-container {\n",
              "      display:flex;\n",
              "      flex-wrap:wrap;\n",
              "      gap: 12px;\n",
              "    }\n",
              "\n",
              "    .colab-df-convert {\n",
              "      background-color: #E8F0FE;\n",
              "      border: none;\n",
              "      border-radius: 50%;\n",
              "      cursor: pointer;\n",
              "      display: none;\n",
              "      fill: #1967D2;\n",
              "      height: 32px;\n",
              "      padding: 0 0 0 0;\n",
              "      width: 32px;\n",
              "    }\n",
              "\n",
              "    .colab-df-convert:hover {\n",
              "      background-color: #E2EBFA;\n",
              "      box-shadow: 0px 1px 2px rgba(60, 64, 67, 0.3), 0px 1px 3px 1px rgba(60, 64, 67, 0.15);\n",
              "      fill: #174EA6;\n",
              "    }\n",
              "\n",
              "    [theme=dark] .colab-df-convert {\n",
              "      background-color: #3B4455;\n",
              "      fill: #D2E3FC;\n",
              "    }\n",
              "\n",
              "    [theme=dark] .colab-df-convert:hover {\n",
              "      background-color: #434B5C;\n",
              "      box-shadow: 0px 1px 3px 1px rgba(0, 0, 0, 0.15);\n",
              "      filter: drop-shadow(0px 1px 2px rgba(0, 0, 0, 0.3));\n",
              "      fill: #FFFFFF;\n",
              "    }\n",
              "  </style>\n",
              "\n",
              "      <script>\n",
              "        const buttonEl =\n",
              "          document.querySelector('#df-f1eb42a5-ebd7-4a5f-8085-9dd2a8573895 button.colab-df-convert');\n",
              "        buttonEl.style.display =\n",
              "          google.colab.kernel.accessAllowed ? 'block' : 'none';\n",
              "\n",
              "        async function convertToInteractive(key) {\n",
              "          const element = document.querySelector('#df-f1eb42a5-ebd7-4a5f-8085-9dd2a8573895');\n",
              "          const dataTable =\n",
              "            await google.colab.kernel.invokeFunction('convertToInteractive',\n",
              "                                                     [key], {});\n",
              "          if (!dataTable) return;\n",
              "\n",
              "          const docLinkHtml = 'Like what you see? Visit the ' +\n",
              "            '<a target=\"_blank\" href=https://colab.research.google.com/notebooks/data_table.ipynb>data table notebook</a>'\n",
              "            + ' to learn more about interactive tables.';\n",
              "          element.innerHTML = '';\n",
              "          dataTable['output_type'] = 'display_data';\n",
              "          await google.colab.output.renderOutput(dataTable, element);\n",
              "          const docLink = document.createElement('div');\n",
              "          docLink.innerHTML = docLinkHtml;\n",
              "          element.appendChild(docLink);\n",
              "        }\n",
              "      </script>\n",
              "    </div>\n",
              "  </div>\n",
              "  "
            ]
          },
          "metadata": {},
          "execution_count": 16
        }
      ]
    },
    {
      "cell_type": "markdown",
      "source": [
        "combine features"
      ],
      "metadata": {
        "id": "lnJepOWESYpc"
      }
    },
    {
      "cell_type": "markdown",
      "source": [
        "combine SibSp (# of siblings on board) and Parch (# of parent/children on board) into a famly size feature"
      ],
      "metadata": {
        "id": "OiWKXGafSc8a"
      }
    },
    {
      "cell_type": "code",
      "source": [
        "df['FamilySize'] = df['SibSp'] + df['Parch']\n",
        "df = df.drop([\"SibSp\", \"Parch\"], axis=1)\n",
        "# df"
      ],
      "metadata": {
        "id": "0KktxHLSSW4w"
      },
      "execution_count": null,
      "outputs": []
    },
    {
      "cell_type": "markdown",
      "source": [
        "one-hot encode\n",
        "\n",
        "convert categorial features to one-hot encoding"
      ],
      "metadata": {
        "id": "Nl_Wg3sATKER"
      }
    },
    {
      "cell_type": "code",
      "source": [
        "# # encode categorial labels as ordinal\n",
        "# le = LabelEncoder()\n",
        "# df = df.apply(LabelEncoder().fit_transform)\n",
        "# df"
      ],
      "metadata": {
        "id": "RWYI2nCbP5GG"
      },
      "execution_count": null,
      "outputs": []
    },
    {
      "cell_type": "markdown",
      "source": [
        "one-hot encode Sex"
      ],
      "metadata": {
        "id": "A3mGs8IsUZll"
      }
    },
    {
      "cell_type": "code",
      "source": [
        "df['Sex_F'] = (df['Sex'] == 'female').astype(int)\n",
        "df['Sex_M'] = (df['Sex'] == 'male').astype(int)\n",
        "df = df.drop([\"Sex\"], axis=1)\n",
        "# df"
      ],
      "metadata": {
        "id": "nPbILzqQTL2g"
      },
      "execution_count": null,
      "outputs": []
    },
    {
      "cell_type": "markdown",
      "source": [
        "one-hot encode Embarked"
      ],
      "metadata": {
        "id": "2kcoMkqOUanu"
      }
    },
    {
      "cell_type": "code",
      "source": [
        "df['Embarked_S'] = (df['Embarked'] == 'S').astype(int)\n",
        "df['Embarked_C'] = (df['Embarked'] == 'C').astype(int)\n",
        "df['Embarked_Q'] = (df['Embarked'] == 'Q').astype(int)\n",
        "df = df.drop([\"Embarked\"], axis=1)\n",
        "# df"
      ],
      "metadata": {
        "id": "qFBXSCiJUMHn"
      },
      "execution_count": null,
      "outputs": []
    },
    {
      "cell_type": "markdown",
      "source": [
        "bin features\n",
        "\n",
        "convert continuous numerical features to ordinal"
      ],
      "metadata": {
        "id": "MVuu8Ao9NiGk"
      }
    },
    {
      "cell_type": "markdown",
      "source": [
        "bin fare"
      ],
      "metadata": {
        "id": "i71l21lGN5Wp"
      }
    },
    {
      "cell_type": "code",
      "source": [
        "df['FareBand'] = pd.qcut(df['Fare'], 4)\n",
        "df[['FareBand', 'Survived']].groupby(['FareBand'], as_index=False).mean().sort_values(by='FareBand', ascending=True)"
      ],
      "metadata": {
        "colab": {
          "base_uri": "https://localhost:8080/"
        },
        "id": "34j4TtpeNlvV",
        "outputId": "6bbcd08a-d8bc-40c4-bac4-87735bcb40a5"
      },
      "execution_count": null,
      "outputs": [
        {
          "output_type": "execute_result",
          "data": {
            "text/plain": [
              "          FareBand  Survived\n",
              "0   (-0.001, 7.91]  0.197309\n",
              "1   (7.91, 14.454]  0.303571\n",
              "2   (14.454, 31.0]  0.454955\n",
              "3  (31.0, 512.329]  0.581081"
            ],
            "text/html": [
              "\n",
              "  <div id=\"df-c88ed236-01ec-4d08-8222-214acd20ce3d\">\n",
              "    <div class=\"colab-df-container\">\n",
              "      <div>\n",
              "<style scoped>\n",
              "    .dataframe tbody tr th:only-of-type {\n",
              "        vertical-align: middle;\n",
              "    }\n",
              "\n",
              "    .dataframe tbody tr th {\n",
              "        vertical-align: top;\n",
              "    }\n",
              "\n",
              "    .dataframe thead th {\n",
              "        text-align: right;\n",
              "    }\n",
              "</style>\n",
              "<table border=\"1\" class=\"dataframe\">\n",
              "  <thead>\n",
              "    <tr style=\"text-align: right;\">\n",
              "      <th></th>\n",
              "      <th>FareBand</th>\n",
              "      <th>Survived</th>\n",
              "    </tr>\n",
              "  </thead>\n",
              "  <tbody>\n",
              "    <tr>\n",
              "      <th>0</th>\n",
              "      <td>(-0.001, 7.91]</td>\n",
              "      <td>0.197309</td>\n",
              "    </tr>\n",
              "    <tr>\n",
              "      <th>1</th>\n",
              "      <td>(7.91, 14.454]</td>\n",
              "      <td>0.303571</td>\n",
              "    </tr>\n",
              "    <tr>\n",
              "      <th>2</th>\n",
              "      <td>(14.454, 31.0]</td>\n",
              "      <td>0.454955</td>\n",
              "    </tr>\n",
              "    <tr>\n",
              "      <th>3</th>\n",
              "      <td>(31.0, 512.329]</td>\n",
              "      <td>0.581081</td>\n",
              "    </tr>\n",
              "  </tbody>\n",
              "</table>\n",
              "</div>\n",
              "      <button class=\"colab-df-convert\" onclick=\"convertToInteractive('df-c88ed236-01ec-4d08-8222-214acd20ce3d')\"\n",
              "              title=\"Convert this dataframe to an interactive table.\"\n",
              "              style=\"display:none;\">\n",
              "        \n",
              "  <svg xmlns=\"http://www.w3.org/2000/svg\" height=\"24px\"viewBox=\"0 0 24 24\"\n",
              "       width=\"24px\">\n",
              "    <path d=\"M0 0h24v24H0V0z\" fill=\"none\"/>\n",
              "    <path d=\"M18.56 5.44l.94 2.06.94-2.06 2.06-.94-2.06-.94-.94-2.06-.94 2.06-2.06.94zm-11 1L8.5 8.5l.94-2.06 2.06-.94-2.06-.94L8.5 2.5l-.94 2.06-2.06.94zm10 10l.94 2.06.94-2.06 2.06-.94-2.06-.94-.94-2.06-.94 2.06-2.06.94z\"/><path d=\"M17.41 7.96l-1.37-1.37c-.4-.4-.92-.59-1.43-.59-.52 0-1.04.2-1.43.59L10.3 9.45l-7.72 7.72c-.78.78-.78 2.05 0 2.83L4 21.41c.39.39.9.59 1.41.59.51 0 1.02-.2 1.41-.59l7.78-7.78 2.81-2.81c.8-.78.8-2.07 0-2.86zM5.41 20L4 18.59l7.72-7.72 1.47 1.35L5.41 20z\"/>\n",
              "  </svg>\n",
              "      </button>\n",
              "      \n",
              "  <style>\n",
              "    .colab-df-container {\n",
              "      display:flex;\n",
              "      flex-wrap:wrap;\n",
              "      gap: 12px;\n",
              "    }\n",
              "\n",
              "    .colab-df-convert {\n",
              "      background-color: #E8F0FE;\n",
              "      border: none;\n",
              "      border-radius: 50%;\n",
              "      cursor: pointer;\n",
              "      display: none;\n",
              "      fill: #1967D2;\n",
              "      height: 32px;\n",
              "      padding: 0 0 0 0;\n",
              "      width: 32px;\n",
              "    }\n",
              "\n",
              "    .colab-df-convert:hover {\n",
              "      background-color: #E2EBFA;\n",
              "      box-shadow: 0px 1px 2px rgba(60, 64, 67, 0.3), 0px 1px 3px 1px rgba(60, 64, 67, 0.15);\n",
              "      fill: #174EA6;\n",
              "    }\n",
              "\n",
              "    [theme=dark] .colab-df-convert {\n",
              "      background-color: #3B4455;\n",
              "      fill: #D2E3FC;\n",
              "    }\n",
              "\n",
              "    [theme=dark] .colab-df-convert:hover {\n",
              "      background-color: #434B5C;\n",
              "      box-shadow: 0px 1px 3px 1px rgba(0, 0, 0, 0.15);\n",
              "      filter: drop-shadow(0px 1px 2px rgba(0, 0, 0, 0.3));\n",
              "      fill: #FFFFFF;\n",
              "    }\n",
              "  </style>\n",
              "\n",
              "      <script>\n",
              "        const buttonEl =\n",
              "          document.querySelector('#df-c88ed236-01ec-4d08-8222-214acd20ce3d button.colab-df-convert');\n",
              "        buttonEl.style.display =\n",
              "          google.colab.kernel.accessAllowed ? 'block' : 'none';\n",
              "\n",
              "        async function convertToInteractive(key) {\n",
              "          const element = document.querySelector('#df-c88ed236-01ec-4d08-8222-214acd20ce3d');\n",
              "          const dataTable =\n",
              "            await google.colab.kernel.invokeFunction('convertToInteractive',\n",
              "                                                     [key], {});\n",
              "          if (!dataTable) return;\n",
              "\n",
              "          const docLinkHtml = 'Like what you see? Visit the ' +\n",
              "            '<a target=\"_blank\" href=https://colab.research.google.com/notebooks/data_table.ipynb>data table notebook</a>'\n",
              "            + ' to learn more about interactive tables.';\n",
              "          element.innerHTML = '';\n",
              "          dataTable['output_type'] = 'display_data';\n",
              "          await google.colab.output.renderOutput(dataTable, element);\n",
              "          const docLink = document.createElement('div');\n",
              "          docLink.innerHTML = docLinkHtml;\n",
              "          element.appendChild(docLink);\n",
              "        }\n",
              "      </script>\n",
              "    </div>\n",
              "  </div>\n",
              "  "
            ]
          },
          "metadata": {},
          "execution_count": 21
        }
      ]
    },
    {
      "cell_type": "code",
      "source": [
        "df.loc[ df['Fare'] <= 7.91, 'Fare'] = 0\n",
        "df.loc[(df['Fare'] > 7.91) & (df['Fare'] <= 14.454), 'Fare'] = 1\n",
        "df.loc[(df['Fare'] > 14.454) & (df['Fare'] <= 31), 'Fare']   = 2\n",
        "df.loc[ df['Fare'] > 31, 'Fare'] = 3\n",
        "df['Fare'] = df['Fare'].astype(int)\n",
        "df = df.drop(['FareBand'], axis=1)\n",
        "# df"
      ],
      "metadata": {
        "id": "LDeULcqKOyw6"
      },
      "execution_count": null,
      "outputs": []
    },
    {
      "cell_type": "markdown",
      "source": [
        "bin age"
      ],
      "metadata": {
        "id": "lrfk99rmN6Xk"
      }
    },
    {
      "cell_type": "code",
      "source": [
        "df['AgeBand'] = pd.cut(df['Age'], 5)\n",
        "df[['AgeBand', 'Survived']].groupby(['AgeBand'], as_index=False).mean().sort_values(by='AgeBand', ascending=True)"
      ],
      "metadata": {
        "colab": {
          "base_uri": "https://localhost:8080/"
        },
        "id": "A9dYHbYcN9oE",
        "outputId": "e168d91b-7c12-4dfd-c0c9-eb9ce4e10a91"
      },
      "execution_count": null,
      "outputs": [
        {
          "output_type": "execute_result",
          "data": {
            "text/plain": [
              "            AgeBand  Survived\n",
              "0    (0.34, 16.336]  0.550000\n",
              "1  (16.336, 32.252]  0.344168\n",
              "2  (32.252, 48.168]  0.404255\n",
              "3  (48.168, 64.084]  0.434783\n",
              "4    (64.084, 80.0]  0.090909"
            ],
            "text/html": [
              "\n",
              "  <div id=\"df-b66ee584-bccb-404a-a0f6-d0a1aaae14a0\">\n",
              "    <div class=\"colab-df-container\">\n",
              "      <div>\n",
              "<style scoped>\n",
              "    .dataframe tbody tr th:only-of-type {\n",
              "        vertical-align: middle;\n",
              "    }\n",
              "\n",
              "    .dataframe tbody tr th {\n",
              "        vertical-align: top;\n",
              "    }\n",
              "\n",
              "    .dataframe thead th {\n",
              "        text-align: right;\n",
              "    }\n",
              "</style>\n",
              "<table border=\"1\" class=\"dataframe\">\n",
              "  <thead>\n",
              "    <tr style=\"text-align: right;\">\n",
              "      <th></th>\n",
              "      <th>AgeBand</th>\n",
              "      <th>Survived</th>\n",
              "    </tr>\n",
              "  </thead>\n",
              "  <tbody>\n",
              "    <tr>\n",
              "      <th>0</th>\n",
              "      <td>(0.34, 16.336]</td>\n",
              "      <td>0.550000</td>\n",
              "    </tr>\n",
              "    <tr>\n",
              "      <th>1</th>\n",
              "      <td>(16.336, 32.252]</td>\n",
              "      <td>0.344168</td>\n",
              "    </tr>\n",
              "    <tr>\n",
              "      <th>2</th>\n",
              "      <td>(32.252, 48.168]</td>\n",
              "      <td>0.404255</td>\n",
              "    </tr>\n",
              "    <tr>\n",
              "      <th>3</th>\n",
              "      <td>(48.168, 64.084]</td>\n",
              "      <td>0.434783</td>\n",
              "    </tr>\n",
              "    <tr>\n",
              "      <th>4</th>\n",
              "      <td>(64.084, 80.0]</td>\n",
              "      <td>0.090909</td>\n",
              "    </tr>\n",
              "  </tbody>\n",
              "</table>\n",
              "</div>\n",
              "      <button class=\"colab-df-convert\" onclick=\"convertToInteractive('df-b66ee584-bccb-404a-a0f6-d0a1aaae14a0')\"\n",
              "              title=\"Convert this dataframe to an interactive table.\"\n",
              "              style=\"display:none;\">\n",
              "        \n",
              "  <svg xmlns=\"http://www.w3.org/2000/svg\" height=\"24px\"viewBox=\"0 0 24 24\"\n",
              "       width=\"24px\">\n",
              "    <path d=\"M0 0h24v24H0V0z\" fill=\"none\"/>\n",
              "    <path d=\"M18.56 5.44l.94 2.06.94-2.06 2.06-.94-2.06-.94-.94-2.06-.94 2.06-2.06.94zm-11 1L8.5 8.5l.94-2.06 2.06-.94-2.06-.94L8.5 2.5l-.94 2.06-2.06.94zm10 10l.94 2.06.94-2.06 2.06-.94-2.06-.94-.94-2.06-.94 2.06-2.06.94z\"/><path d=\"M17.41 7.96l-1.37-1.37c-.4-.4-.92-.59-1.43-.59-.52 0-1.04.2-1.43.59L10.3 9.45l-7.72 7.72c-.78.78-.78 2.05 0 2.83L4 21.41c.39.39.9.59 1.41.59.51 0 1.02-.2 1.41-.59l7.78-7.78 2.81-2.81c.8-.78.8-2.07 0-2.86zM5.41 20L4 18.59l7.72-7.72 1.47 1.35L5.41 20z\"/>\n",
              "  </svg>\n",
              "      </button>\n",
              "      \n",
              "  <style>\n",
              "    .colab-df-container {\n",
              "      display:flex;\n",
              "      flex-wrap:wrap;\n",
              "      gap: 12px;\n",
              "    }\n",
              "\n",
              "    .colab-df-convert {\n",
              "      background-color: #E8F0FE;\n",
              "      border: none;\n",
              "      border-radius: 50%;\n",
              "      cursor: pointer;\n",
              "      display: none;\n",
              "      fill: #1967D2;\n",
              "      height: 32px;\n",
              "      padding: 0 0 0 0;\n",
              "      width: 32px;\n",
              "    }\n",
              "\n",
              "    .colab-df-convert:hover {\n",
              "      background-color: #E2EBFA;\n",
              "      box-shadow: 0px 1px 2px rgba(60, 64, 67, 0.3), 0px 1px 3px 1px rgba(60, 64, 67, 0.15);\n",
              "      fill: #174EA6;\n",
              "    }\n",
              "\n",
              "    [theme=dark] .colab-df-convert {\n",
              "      background-color: #3B4455;\n",
              "      fill: #D2E3FC;\n",
              "    }\n",
              "\n",
              "    [theme=dark] .colab-df-convert:hover {\n",
              "      background-color: #434B5C;\n",
              "      box-shadow: 0px 1px 3px 1px rgba(0, 0, 0, 0.15);\n",
              "      filter: drop-shadow(0px 1px 2px rgba(0, 0, 0, 0.3));\n",
              "      fill: #FFFFFF;\n",
              "    }\n",
              "  </style>\n",
              "\n",
              "      <script>\n",
              "        const buttonEl =\n",
              "          document.querySelector('#df-b66ee584-bccb-404a-a0f6-d0a1aaae14a0 button.colab-df-convert');\n",
              "        buttonEl.style.display =\n",
              "          google.colab.kernel.accessAllowed ? 'block' : 'none';\n",
              "\n",
              "        async function convertToInteractive(key) {\n",
              "          const element = document.querySelector('#df-b66ee584-bccb-404a-a0f6-d0a1aaae14a0');\n",
              "          const dataTable =\n",
              "            await google.colab.kernel.invokeFunction('convertToInteractive',\n",
              "                                                     [key], {});\n",
              "          if (!dataTable) return;\n",
              "\n",
              "          const docLinkHtml = 'Like what you see? Visit the ' +\n",
              "            '<a target=\"_blank\" href=https://colab.research.google.com/notebooks/data_table.ipynb>data table notebook</a>'\n",
              "            + ' to learn more about interactive tables.';\n",
              "          element.innerHTML = '';\n",
              "          dataTable['output_type'] = 'display_data';\n",
              "          await google.colab.output.renderOutput(dataTable, element);\n",
              "          const docLink = document.createElement('div');\n",
              "          docLink.innerHTML = docLinkHtml;\n",
              "          element.appendChild(docLink);\n",
              "        }\n",
              "      </script>\n",
              "    </div>\n",
              "  </div>\n",
              "  "
            ]
          },
          "metadata": {},
          "execution_count": 23
        }
      ]
    },
    {
      "cell_type": "code",
      "source": [
        "df.loc[ df['Age'] <= 16, 'Age'] = 0\n",
        "df.loc[(df['Age'] > 16) & (df['Age'] <= 32), 'Age'] = 1\n",
        "df.loc[(df['Age'] > 32) & (df['Age'] <= 48), 'Age'] = 2\n",
        "df.loc[(df['Age'] > 48) & (df['Age'] <= 64), 'Age'] = 3\n",
        "df.loc[ df['Age'] > 64, 'Age'] = 4\n",
        "df['Age'] = df['Age'].astype(int)\n",
        "\n",
        "df = df.drop(['AgeBand'], axis=1)\n",
        "# df"
      ],
      "metadata": {
        "id": "LRz2M2J4N9lk"
      },
      "execution_count": null,
      "outputs": []
    },
    {
      "cell_type": "markdown",
      "source": [
        "scale"
      ],
      "metadata": {
        "id": "gHzPo8GfP0dr"
      }
    },
    {
      "cell_type": "code",
      "source": [
        "scaler = StandardScaler()\n",
        "\n",
        "y = (df['Survived']).values\n",
        "X = (df.drop(['Survived'], axis=1)).values\n",
        "\n",
        "X = scaler.fit_transform(X)\n",
        "X = pd.DataFrame(X)\n",
        "X.columns = (df.drop(['Survived'], axis=1)).columns\n",
        "X.head()"
      ],
      "metadata": {
        "colab": {
          "base_uri": "https://localhost:8080/"
        },
        "id": "qKboAxseP0NZ",
        "outputId": "e997a3c5-4120-44d3-b42f-5c06fa40c1c8"
      },
      "execution_count": null,
      "outputs": [
        {
          "output_type": "execute_result",
          "data": {
            "text/plain": [
              "     Pclass       Age      Fare  FamilySize     Sex_F     Sex_M  Embarked_S  \\\n",
              "0  0.827377 -0.357914 -1.346777    0.059160 -0.737695  0.737695    0.619306   \n",
              "1 -1.566107  0.873365  1.337738    0.059160  1.355574 -1.355574   -1.614710   \n",
              "2  0.827377 -0.357914 -0.451938   -0.560975  1.355574 -1.355574    0.619306   \n",
              "3 -1.566107  0.873365  1.337738    0.059160  1.355574 -1.355574    0.619306   \n",
              "4  0.827377  0.873365 -0.451938   -0.560975 -0.737695  0.737695    0.619306   \n",
              "\n",
              "   Embarked_C  Embarked_Q  \n",
              "0   -0.482043   -0.307562  \n",
              "1    2.074505   -0.307562  \n",
              "2   -0.482043   -0.307562  \n",
              "3   -0.482043   -0.307562  \n",
              "4   -0.482043   -0.307562  "
            ],
            "text/html": [
              "\n",
              "  <div id=\"df-c8154b5b-d7cb-452b-8171-a63d53dd1a41\">\n",
              "    <div class=\"colab-df-container\">\n",
              "      <div>\n",
              "<style scoped>\n",
              "    .dataframe tbody tr th:only-of-type {\n",
              "        vertical-align: middle;\n",
              "    }\n",
              "\n",
              "    .dataframe tbody tr th {\n",
              "        vertical-align: top;\n",
              "    }\n",
              "\n",
              "    .dataframe thead th {\n",
              "        text-align: right;\n",
              "    }\n",
              "</style>\n",
              "<table border=\"1\" class=\"dataframe\">\n",
              "  <thead>\n",
              "    <tr style=\"text-align: right;\">\n",
              "      <th></th>\n",
              "      <th>Pclass</th>\n",
              "      <th>Age</th>\n",
              "      <th>Fare</th>\n",
              "      <th>FamilySize</th>\n",
              "      <th>Sex_F</th>\n",
              "      <th>Sex_M</th>\n",
              "      <th>Embarked_S</th>\n",
              "      <th>Embarked_C</th>\n",
              "      <th>Embarked_Q</th>\n",
              "    </tr>\n",
              "  </thead>\n",
              "  <tbody>\n",
              "    <tr>\n",
              "      <th>0</th>\n",
              "      <td>0.827377</td>\n",
              "      <td>-0.357914</td>\n",
              "      <td>-1.346777</td>\n",
              "      <td>0.059160</td>\n",
              "      <td>-0.737695</td>\n",
              "      <td>0.737695</td>\n",
              "      <td>0.619306</td>\n",
              "      <td>-0.482043</td>\n",
              "      <td>-0.307562</td>\n",
              "    </tr>\n",
              "    <tr>\n",
              "      <th>1</th>\n",
              "      <td>-1.566107</td>\n",
              "      <td>0.873365</td>\n",
              "      <td>1.337738</td>\n",
              "      <td>0.059160</td>\n",
              "      <td>1.355574</td>\n",
              "      <td>-1.355574</td>\n",
              "      <td>-1.614710</td>\n",
              "      <td>2.074505</td>\n",
              "      <td>-0.307562</td>\n",
              "    </tr>\n",
              "    <tr>\n",
              "      <th>2</th>\n",
              "      <td>0.827377</td>\n",
              "      <td>-0.357914</td>\n",
              "      <td>-0.451938</td>\n",
              "      <td>-0.560975</td>\n",
              "      <td>1.355574</td>\n",
              "      <td>-1.355574</td>\n",
              "      <td>0.619306</td>\n",
              "      <td>-0.482043</td>\n",
              "      <td>-0.307562</td>\n",
              "    </tr>\n",
              "    <tr>\n",
              "      <th>3</th>\n",
              "      <td>-1.566107</td>\n",
              "      <td>0.873365</td>\n",
              "      <td>1.337738</td>\n",
              "      <td>0.059160</td>\n",
              "      <td>1.355574</td>\n",
              "      <td>-1.355574</td>\n",
              "      <td>0.619306</td>\n",
              "      <td>-0.482043</td>\n",
              "      <td>-0.307562</td>\n",
              "    </tr>\n",
              "    <tr>\n",
              "      <th>4</th>\n",
              "      <td>0.827377</td>\n",
              "      <td>0.873365</td>\n",
              "      <td>-0.451938</td>\n",
              "      <td>-0.560975</td>\n",
              "      <td>-0.737695</td>\n",
              "      <td>0.737695</td>\n",
              "      <td>0.619306</td>\n",
              "      <td>-0.482043</td>\n",
              "      <td>-0.307562</td>\n",
              "    </tr>\n",
              "  </tbody>\n",
              "</table>\n",
              "</div>\n",
              "      <button class=\"colab-df-convert\" onclick=\"convertToInteractive('df-c8154b5b-d7cb-452b-8171-a63d53dd1a41')\"\n",
              "              title=\"Convert this dataframe to an interactive table.\"\n",
              "              style=\"display:none;\">\n",
              "        \n",
              "  <svg xmlns=\"http://www.w3.org/2000/svg\" height=\"24px\"viewBox=\"0 0 24 24\"\n",
              "       width=\"24px\">\n",
              "    <path d=\"M0 0h24v24H0V0z\" fill=\"none\"/>\n",
              "    <path d=\"M18.56 5.44l.94 2.06.94-2.06 2.06-.94-2.06-.94-.94-2.06-.94 2.06-2.06.94zm-11 1L8.5 8.5l.94-2.06 2.06-.94-2.06-.94L8.5 2.5l-.94 2.06-2.06.94zm10 10l.94 2.06.94-2.06 2.06-.94-2.06-.94-.94-2.06-.94 2.06-2.06.94z\"/><path d=\"M17.41 7.96l-1.37-1.37c-.4-.4-.92-.59-1.43-.59-.52 0-1.04.2-1.43.59L10.3 9.45l-7.72 7.72c-.78.78-.78 2.05 0 2.83L4 21.41c.39.39.9.59 1.41.59.51 0 1.02-.2 1.41-.59l7.78-7.78 2.81-2.81c.8-.78.8-2.07 0-2.86zM5.41 20L4 18.59l7.72-7.72 1.47 1.35L5.41 20z\"/>\n",
              "  </svg>\n",
              "      </button>\n",
              "      \n",
              "  <style>\n",
              "    .colab-df-container {\n",
              "      display:flex;\n",
              "      flex-wrap:wrap;\n",
              "      gap: 12px;\n",
              "    }\n",
              "\n",
              "    .colab-df-convert {\n",
              "      background-color: #E8F0FE;\n",
              "      border: none;\n",
              "      border-radius: 50%;\n",
              "      cursor: pointer;\n",
              "      display: none;\n",
              "      fill: #1967D2;\n",
              "      height: 32px;\n",
              "      padding: 0 0 0 0;\n",
              "      width: 32px;\n",
              "    }\n",
              "\n",
              "    .colab-df-convert:hover {\n",
              "      background-color: #E2EBFA;\n",
              "      box-shadow: 0px 1px 2px rgba(60, 64, 67, 0.3), 0px 1px 3px 1px rgba(60, 64, 67, 0.15);\n",
              "      fill: #174EA6;\n",
              "    }\n",
              "\n",
              "    [theme=dark] .colab-df-convert {\n",
              "      background-color: #3B4455;\n",
              "      fill: #D2E3FC;\n",
              "    }\n",
              "\n",
              "    [theme=dark] .colab-df-convert:hover {\n",
              "      background-color: #434B5C;\n",
              "      box-shadow: 0px 1px 3px 1px rgba(0, 0, 0, 0.15);\n",
              "      filter: drop-shadow(0px 1px 2px rgba(0, 0, 0, 0.3));\n",
              "      fill: #FFFFFF;\n",
              "    }\n",
              "  </style>\n",
              "\n",
              "      <script>\n",
              "        const buttonEl =\n",
              "          document.querySelector('#df-c8154b5b-d7cb-452b-8171-a63d53dd1a41 button.colab-df-convert');\n",
              "        buttonEl.style.display =\n",
              "          google.colab.kernel.accessAllowed ? 'block' : 'none';\n",
              "\n",
              "        async function convertToInteractive(key) {\n",
              "          const element = document.querySelector('#df-c8154b5b-d7cb-452b-8171-a63d53dd1a41');\n",
              "          const dataTable =\n",
              "            await google.colab.kernel.invokeFunction('convertToInteractive',\n",
              "                                                     [key], {});\n",
              "          if (!dataTable) return;\n",
              "\n",
              "          const docLinkHtml = 'Like what you see? Visit the ' +\n",
              "            '<a target=\"_blank\" href=https://colab.research.google.com/notebooks/data_table.ipynb>data table notebook</a>'\n",
              "            + ' to learn more about interactive tables.';\n",
              "          element.innerHTML = '';\n",
              "          dataTable['output_type'] = 'display_data';\n",
              "          await google.colab.output.renderOutput(dataTable, element);\n",
              "          const docLink = document.createElement('div');\n",
              "          docLink.innerHTML = docLinkHtml;\n",
              "          element.appendChild(docLink);\n",
              "        }\n",
              "      </script>\n",
              "    </div>\n",
              "  </div>\n",
              "  "
            ]
          },
          "metadata": {},
          "execution_count": 25
        }
      ]
    },
    {
      "cell_type": "markdown",
      "source": [
        "plot distribution"
      ],
      "metadata": {
        "id": "rgL8aT_jNpcr"
      }
    },
    {
      "cell_type": "code",
      "source": [
        "df.hist(bins=50, figsize=(20,15))"
      ],
      "metadata": {
        "colab": {
          "base_uri": "https://localhost:8080/"
        },
        "id": "kbn84PZRMGG1",
        "outputId": "19881c85-9975-4a67-a7bb-b715210fb1f5"
      },
      "execution_count": null,
      "outputs": [
        {
          "output_type": "execute_result",
          "data": {
            "text/plain": [
              "array([[<matplotlib.axes._subplots.AxesSubplot object at 0x7fb42c8daf10>,\n",
              "        <matplotlib.axes._subplots.AxesSubplot object at 0x7fb42c8b8490>,\n",
              "        <matplotlib.axes._subplots.AxesSubplot object at 0x7fb42c86da50>],\n",
              "       [<matplotlib.axes._subplots.AxesSubplot object at 0x7fb42c818b90>,\n",
              "        <matplotlib.axes._subplots.AxesSubplot object at 0x7fb42c7e8690>,\n",
              "        <matplotlib.axes._subplots.AxesSubplot object at 0x7fb42c79ec90>],\n",
              "       [<matplotlib.axes._subplots.AxesSubplot object at 0x7fb42c764610>,\n",
              "        <matplotlib.axes._subplots.AxesSubplot object at 0x7fb42c71cbd0>,\n",
              "        <matplotlib.axes._subplots.AxesSubplot object at 0x7fb42c71cc10>],\n",
              "       [<matplotlib.axes._subplots.AxesSubplot object at 0x7fb42c6e4890>,\n",
              "        <matplotlib.axes._subplots.AxesSubplot object at 0x7fb42c665550>,\n",
              "        <matplotlib.axes._subplots.AxesSubplot object at 0x7fb42c61ad10>]],\n",
              "      dtype=object)"
            ]
          },
          "metadata": {},
          "execution_count": 26
        },
        {
          "output_type": "display_data",
          "data": {
            "text/plain": [
              "<Figure size 1440x1080 with 12 Axes>"
            ],
            "image/png": "[encoded data removed]"
          },
          "metadata": {}
        }
      ]
    },
    {
      "cell_type": "markdown",
      "source": [
        "show correlation"
      ],
      "metadata": {
        "id": "vdv_YsDiNuZe"
      }
    },
    {
      "cell_type": "code",
      "source": [
        "corr = df.corr()\n",
        "corr"
      ],
      "metadata": {
        "colab": {
          "base_uri": "https://localhost:8080/"
        },
        "id": "jVGmthMxNN7v",
        "outputId": "2c7912c9-098e-4ed1-a19c-88f64f93e1b9"
      },
      "execution_count": null,
      "outputs": [
        {
          "output_type": "execute_result",
          "data": {
            "text/plain": [
              "            Survived    Pclass       Age      Fare  FamilySize     Sex_F  \\\n",
              "Survived    1.000000 -0.338481 -0.043800  0.295875    0.016639  0.543351   \n",
              "Pclass     -0.338481  1.000000 -0.358769 -0.628459    0.065997 -0.131900   \n",
              "Age        -0.043800 -0.358769  1.000000  0.096691   -0.217063 -0.070220   \n",
              "Fare        0.295875 -0.628459  0.096691  1.000000    0.465815  0.248940   \n",
              "FamilySize  0.016639  0.065997 -0.217063  0.465815    1.000000  0.200988   \n",
              "Sex_F       0.543351 -0.131900 -0.070220  0.248940    0.200988  1.000000   \n",
              "Sex_M      -0.543351  0.131900  0.070220 -0.248940   -0.200988 -1.000000   \n",
              "Embarked_S -0.155660  0.081720  0.014816 -0.029734    0.079977 -0.125722   \n",
              "Embarked_C  0.168240 -0.243292  0.032379  0.200659   -0.046215  0.082853   \n",
              "Embarked_Q  0.003650  0.221009 -0.080572 -0.242653   -0.058592  0.074115   \n",
              "\n",
              "               Sex_M  Embarked_S  Embarked_C  Embarked_Q  \n",
              "Survived   -0.543351   -0.155660    0.168240    0.003650  \n",
              "Pclass      0.131900    0.081720   -0.243292    0.221009  \n",
              "Age         0.070220    0.014816    0.032379   -0.080572  \n",
              "Fare       -0.248940   -0.029734    0.200659   -0.242653  \n",
              "FamilySize -0.200988    0.079977   -0.046215   -0.058592  \n",
              "Sex_F      -1.000000   -0.125722    0.082853    0.074115  \n",
              "Sex_M       1.000000    0.125722   -0.082853   -0.074115  \n",
              "Embarked_S  0.125722    1.000000   -0.778359   -0.496624  \n",
              "Embarked_C -0.082853   -0.778359    1.000000   -0.148258  \n",
              "Embarked_Q -0.074115   -0.496624   -0.148258    1.000000  "
            ],
            "text/html": [
              "\n",
              "  <div id=\"df-eacb369e-794d-476a-9720-8cc49a286bc3\">\n",
              "    <div class=\"colab-df-container\">\n",
              "      <div>\n",
              "<style scoped>\n",
              "    .dataframe tbody tr th:only-of-type {\n",
              "        vertical-align: middle;\n",
              "    }\n",
              "\n",
              "    .dataframe tbody tr th {\n",
              "        vertical-align: top;\n",
              "    }\n",
              "\n",
              "    .dataframe thead th {\n",
              "        text-align: right;\n",
              "    }\n",
              "</style>\n",
              "<table border=\"1\" class=\"dataframe\">\n",
              "  <thead>\n",
              "    <tr style=\"text-align: right;\">\n",
              "      <th></th>\n",
              "      <th>Survived</th>\n",
              "      <th>Pclass</th>\n",
              "      <th>Age</th>\n",
              "      <th>Fare</th>\n",
              "      <th>FamilySize</th>\n",
              "      <th>Sex_F</th>\n",
              "      <th>Sex_M</th>\n",
              "      <th>Embarked_S</th>\n",
              "      <th>Embarked_C</th>\n",
              "      <th>Embarked_Q</th>\n",
              "    </tr>\n",
              "  </thead>\n",
              "  <tbody>\n",
              "    <tr>\n",
              "      <th>Survived</th>\n",
              "      <td>1.000000</td>\n",
              "      <td>-0.338481</td>\n",
              "      <td>-0.043800</td>\n",
              "      <td>0.295875</td>\n",
              "      <td>0.016639</td>\n",
              "      <td>0.543351</td>\n",
              "      <td>-0.543351</td>\n",
              "      <td>-0.155660</td>\n",
              "      <td>0.168240</td>\n",
              "      <td>0.003650</td>\n",
              "    </tr>\n",
              "    <tr>\n",
              "      <th>Pclass</th>\n",
              "      <td>-0.338481</td>\n",
              "      <td>1.000000</td>\n",
              "      <td>-0.358769</td>\n",
              "      <td>-0.628459</td>\n",
              "      <td>0.065997</td>\n",
              "      <td>-0.131900</td>\n",
              "      <td>0.131900</td>\n",
              "      <td>0.081720</td>\n",
              "      <td>-0.243292</td>\n",
              "      <td>0.221009</td>\n",
              "    </tr>\n",
              "    <tr>\n",
              "      <th>Age</th>\n",
              "      <td>-0.043800</td>\n",
              "      <td>-0.358769</td>\n",
              "      <td>1.000000</td>\n",
              "      <td>0.096691</td>\n",
              "      <td>-0.217063</td>\n",
              "      <td>-0.070220</td>\n",
              "      <td>0.070220</td>\n",
              "      <td>0.014816</td>\n",
              "      <td>0.032379</td>\n",
              "      <td>-0.080572</td>\n",
              "    </tr>\n",
              "    <tr>\n",
              "      <th>Fare</th>\n",
              "      <td>0.295875</td>\n",
              "      <td>-0.628459</td>\n",
              "      <td>0.096691</td>\n",
              "      <td>1.000000</td>\n",
              "      <td>0.465815</td>\n",
              "      <td>0.248940</td>\n",
              "      <td>-0.248940</td>\n",
              "      <td>-0.029734</td>\n",
              "      <td>0.200659</td>\n",
              "      <td>-0.242653</td>\n",
              "    </tr>\n",
              "    <tr>\n",
              "      <th>FamilySize</th>\n",
              "      <td>0.016639</td>\n",
              "      <td>0.065997</td>\n",
              "      <td>-0.217063</td>\n",
              "      <td>0.465815</td>\n",
              "      <td>1.000000</td>\n",
              "      <td>0.200988</td>\n",
              "      <td>-0.200988</td>\n",
              "      <td>0.079977</td>\n",
              "      <td>-0.046215</td>\n",
              "      <td>-0.058592</td>\n",
              "    </tr>\n",
              "    <tr>\n",
              "      <th>Sex_F</th>\n",
              "      <td>0.543351</td>\n",
              "      <td>-0.131900</td>\n",
              "      <td>-0.070220</td>\n",
              "      <td>0.248940</td>\n",
              "      <td>0.200988</td>\n",
              "      <td>1.000000</td>\n",
              "      <td>-1.000000</td>\n",
              "      <td>-0.125722</td>\n",
              "      <td>0.082853</td>\n",
              "      <td>0.074115</td>\n",
              "    </tr>\n",
              "    <tr>\n",
              "      <th>Sex_M</th>\n",
              "      <td>-0.543351</td>\n",
              "      <td>0.131900</td>\n",
              "      <td>0.070220</td>\n",
              "      <td>-0.248940</td>\n",
              "      <td>-0.200988</td>\n",
              "      <td>-1.000000</td>\n",
              "      <td>1.000000</td>\n",
              "      <td>0.125722</td>\n",
              "      <td>-0.082853</td>\n",
              "      <td>-0.074115</td>\n",
              "    </tr>\n",
              "    <tr>\n",
              "      <th>Embarked_S</th>\n",
              "      <td>-0.155660</td>\n",
              "      <td>0.081720</td>\n",
              "      <td>0.014816</td>\n",
              "      <td>-0.029734</td>\n",
              "      <td>0.079977</td>\n",
              "      <td>-0.125722</td>\n",
              "      <td>0.125722</td>\n",
              "      <td>1.000000</td>\n",
              "      <td>-0.778359</td>\n",
              "      <td>-0.496624</td>\n",
              "    </tr>\n",
              "    <tr>\n",
              "      <th>Embarked_C</th>\n",
              "      <td>0.168240</td>\n",
              "      <td>-0.243292</td>\n",
              "      <td>0.032379</td>\n",
              "      <td>0.200659</td>\n",
              "      <td>-0.046215</td>\n",
              "      <td>0.082853</td>\n",
              "      <td>-0.082853</td>\n",
              "      <td>-0.778359</td>\n",
              "      <td>1.000000</td>\n",
              "      <td>-0.148258</td>\n",
              "    </tr>\n",
              "    <tr>\n",
              "      <th>Embarked_Q</th>\n",
              "      <td>0.003650</td>\n",
              "      <td>0.221009</td>\n",
              "      <td>-0.080572</td>\n",
              "      <td>-0.242653</td>\n",
              "      <td>-0.058592</td>\n",
              "      <td>0.074115</td>\n",
              "      <td>-0.074115</td>\n",
              "      <td>-0.496624</td>\n",
              "      <td>-0.148258</td>\n",
              "      <td>1.000000</td>\n",
              "    </tr>\n",
              "  </tbody>\n",
              "</table>\n",
              "</div>\n",
              "      <button class=\"colab-df-convert\" onclick=\"convertToInteractive('df-eacb369e-794d-476a-9720-8cc49a286bc3')\"\n",
              "              title=\"Convert this dataframe to an interactive table.\"\n",
              "              style=\"display:none;\">\n",
              "        \n",
              "  <svg xmlns=\"http://www.w3.org/2000/svg\" height=\"24px\"viewBox=\"0 0 24 24\"\n",
              "       width=\"24px\">\n",
              "    <path d=\"M0 0h24v24H0V0z\" fill=\"none\"/>\n",
              "    <path d=\"M18.56 5.44l.94 2.06.94-2.06 2.06-.94-2.06-.94-.94-2.06-.94 2.06-2.06.94zm-11 1L8.5 8.5l.94-2.06 2.06-.94-2.06-.94L8.5 2.5l-.94 2.06-2.06.94zm10 10l.94 2.06.94-2.06 2.06-.94-2.06-.94-.94-2.06-.94 2.06-2.06.94z\"/><path d=\"M17.41 7.96l-1.37-1.37c-.4-.4-.92-.59-1.43-.59-.52 0-1.04.2-1.43.59L10.3 9.45l-7.72 7.72c-.78.78-.78 2.05 0 2.83L4 21.41c.39.39.9.59 1.41.59.51 0 1.02-.2 1.41-.59l7.78-7.78 2.81-2.81c.8-.78.8-2.07 0-2.86zM5.41 20L4 18.59l7.72-7.72 1.47 1.35L5.41 20z\"/>\n",
              "  </svg>\n",
              "      </button>\n",
              "      \n",
              "  <style>\n",
              "    .colab-df-container {\n",
              "      display:flex;\n",
              "      flex-wrap:wrap;\n",
              "      gap: 12px;\n",
              "    }\n",
              "\n",
              "    .colab-df-convert {\n",
              "      background-color: #E8F0FE;\n",
              "      border: none;\n",
              "      border-radius: 50%;\n",
              "      cursor: pointer;\n",
              "      display: none;\n",
              "      fill: #1967D2;\n",
              "      height: 32px;\n",
              "      padding: 0 0 0 0;\n",
              "      width: 32px;\n",
              "    }\n",
              "\n",
              "    .colab-df-convert:hover {\n",
              "      background-color: #E2EBFA;\n",
              "      box-shadow: 0px 1px 2px rgba(60, 64, 67, 0.3), 0px 1px 3px 1px rgba(60, 64, 67, 0.15);\n",
              "      fill: #174EA6;\n",
              "    }\n",
              "\n",
              "    [theme=dark] .colab-df-convert {\n",
              "      background-color: #3B4455;\n",
              "      fill: #D2E3FC;\n",
              "    }\n",
              "\n",
              "    [theme=dark] .colab-df-convert:hover {\n",
              "      background-color: #434B5C;\n",
              "      box-shadow: 0px 1px 3px 1px rgba(0, 0, 0, 0.15);\n",
              "      filter: drop-shadow(0px 1px 2px rgba(0, 0, 0, 0.3));\n",
              "      fill: #FFFFFF;\n",
              "    }\n",
              "  </style>\n",
              "\n",
              "      <script>\n",
              "        const buttonEl =\n",
              "          document.querySelector('#df-eacb369e-794d-476a-9720-8cc49a286bc3 button.colab-df-convert');\n",
              "        buttonEl.style.display =\n",
              "          google.colab.kernel.accessAllowed ? 'block' : 'none';\n",
              "\n",
              "        async function convertToInteractive(key) {\n",
              "          const element = document.querySelector('#df-eacb369e-794d-476a-9720-8cc49a286bc3');\n",
              "          const dataTable =\n",
              "            await google.colab.kernel.invokeFunction('convertToInteractive',\n",
              "                                                     [key], {});\n",
              "          if (!dataTable) return;\n",
              "\n",
              "          const docLinkHtml = 'Like what you see? Visit the ' +\n",
              "            '<a target=\"_blank\" href=https://colab.research.google.com/notebooks/data_table.ipynb>data table notebook</a>'\n",
              "            + ' to learn more about interactive tables.';\n",
              "          element.innerHTML = '';\n",
              "          dataTable['output_type'] = 'display_data';\n",
              "          await google.colab.output.renderOutput(dataTable, element);\n",
              "          const docLink = document.createElement('div');\n",
              "          docLink.innerHTML = docLinkHtml;\n",
              "          element.appendChild(docLink);\n",
              "        }\n",
              "      </script>\n",
              "    </div>\n",
              "  </div>\n",
              "  "
            ]
          },
          "metadata": {},
          "execution_count": 27
        }
      ]
    },
    {
      "cell_type": "markdown",
      "source": [
        "## Split into train and test\n",
        "\n",
        "70/30 split"
      ],
      "metadata": {
        "id": "MFfBPycM30Hm"
      }
    },
    {
      "cell_type": "code",
      "source": [
        "X_train, X_test, y_train, y_test = train_test_split(\n",
        "    X, y, test_size=0.3, shuffle=True, stratify=y\n",
        ")\n",
        "print(X_train.shape, X_test.shape)"
      ],
      "metadata": {
        "colab": {
          "base_uri": "https://localhost:8080/"
        },
        "id": "tpg6sSqa31jQ",
        "outputId": "01214996-b482-45ac-ac12-6a900e0c5a92"
      },
      "execution_count": null,
      "outputs": [
        {
          "output_type": "stream",
          "name": "stdout",
          "text": [
            "(623, 9) (268, 9)\n"
          ]
        }
      ]
    },
    {
      "cell_type": "code",
      "source": [
        "np.unique(y_test, return_counts=True)"
      ],
      "metadata": {
        "colab": {
          "base_uri": "https://localhost:8080/"
        },
        "id": "Hmmp4fHi4LPY",
        "outputId": "a5ff4cdc-f2e8-4198-e850-7f3db99c98ef"
      },
      "execution_count": null,
      "outputs": [
        {
          "output_type": "execute_result",
          "data": {
            "text/plain": [
              "(array([0, 1]), array([165, 103]))"
            ]
          },
          "metadata": {},
          "execution_count": 29
        }
      ]
    },
    {
      "cell_type": "markdown",
      "source": [
        "# Define methods and variables"
      ],
      "metadata": {
        "id": "o7wWP1bpK_Bx"
      }
    },
    {
      "cell_type": "code",
      "source": [
        "K_FOLDS = 10"
      ],
      "metadata": {
        "id": "HHMWikzHZ1U6"
      },
      "execution_count": null,
      "outputs": []
    },
    {
      "cell_type": "code",
      "source": [
        "# adapted from https://scikit-learn.org/stable/auto_examples/model_selection/plot_learning_curve.html\n",
        "def plot_learning_curve(\n",
        "    estimator,\n",
        "    title,\n",
        "    X,\n",
        "    y,\n",
        "    ylim=None,\n",
        "    cv=None,\n",
        "    n_jobs=None,\n",
        "    scoring=None,\n",
        "    train_sizes=np.linspace(0.1, 1.0, 5),\n",
        "    save_as=None\n",
        "):\n",
        "    ax = plt.gca()\n",
        "\n",
        "    ax.set_title(title)\n",
        "    if ylim is not None:\n",
        "        ax.set_ylim(*ylim)\n",
        "    ax.set_xlabel(\"Training examples\")\n",
        "    ax.set_ylabel(\"Score\")\n",
        "\n",
        "    train_sizes, train_scores, test_scores, fit_times, _ = learning_curve(\n",
        "        estimator,\n",
        "        X,\n",
        "        y,\n",
        "        scoring=scoring,\n",
        "        cv=cv,\n",
        "        n_jobs=n_jobs,\n",
        "        train_sizes=train_sizes,\n",
        "        return_times=True,\n",
        "    )\n",
        "    train_scores_mean = np.mean(train_scores, axis=1)\n",
        "    train_scores_std = np.std(train_scores, axis=1)\n",
        "    test_scores_mean = np.mean(test_scores, axis=1)\n",
        "    test_scores_std = np.std(test_scores, axis=1)\n",
        "    fit_times_mean = np.mean(fit_times, axis=1)\n",
        "    fit_times_std = np.std(fit_times, axis=1)\n",
        "\n",
        "    ax.plot(\n",
        "        train_sizes, train_scores_mean, \"o-\", color=\"r\", label=\"Training score\"\n",
        "    )\n",
        "    ax.plot(\n",
        "        train_sizes, test_scores_mean, \"o-\", color=\"g\", label=\"Cross-validation score\"\n",
        "    )\n",
        "    ax.legend(loc=\"best\")\n",
        "\n",
        "    if save_as:\n",
        "        plt.savefig(save_as)\n",
        "\n",
        "    return plt"
      ],
      "metadata": {
        "id": "BoQzQkTFLAVf"
      },
      "execution_count": null,
      "outputs": []
    },
    {
      "cell_type": "code",
      "source": [
        "# adapted from https://scikit-learn.org/stable/auto_examples/model_selection/plot_learning_curve.html\n",
        "def plot_fit_time_vs_score(\n",
        "    estimator,\n",
        "    X,\n",
        "    y,\n",
        "    title=\"Performance of the model\",\n",
        "    axes=None,\n",
        "    ylim=None,\n",
        "    cv=None,\n",
        "    n_jobs=None,\n",
        "    scoring=None,\n",
        "    train_sizes=np.linspace(0.1, 1.0, 5),\n",
        "    save_as=None\n",
        "):\n",
        "    train_sizes, train_scores, test_scores, fit_times, _ = learning_curve(\n",
        "        estimator,\n",
        "        X,\n",
        "        y,\n",
        "        scoring=scoring,\n",
        "        cv=cv,\n",
        "        n_jobs=n_jobs,\n",
        "        train_sizes=train_sizes,\n",
        "        return_times=True,\n",
        "    )\n",
        "    train_scores_mean = np.mean(train_scores, axis=1)\n",
        "    train_scores_std = np.std(train_scores, axis=1)\n",
        "    test_scores_mean = np.mean(test_scores, axis=1)\n",
        "    test_scores_std = np.std(test_scores, axis=1)\n",
        "    fit_times_mean = np.mean(fit_times, axis=1)\n",
        "    fit_times_std = np.std(fit_times, axis=1)\n",
        "\n",
        "    ax = plt.gca()\n",
        "\n",
        "    fit_time_argsort = fit_times_mean.argsort()\n",
        "    fit_time_sorted = fit_times_mean[fit_time_argsort]\n",
        "    test_scores_mean_sorted = test_scores_mean[fit_time_argsort]\n",
        "    test_scores_std_sorted = test_scores_std[fit_time_argsort]\n",
        "    ax.plot(fit_time_sorted, test_scores_mean_sorted, \"o-\")\n",
        "\n",
        "    ax.set_xlabel(\"fit_times\")\n",
        "    ax.set_ylabel(\"Score\")\n",
        "    ax.set_title(title)\n",
        "\n",
        "    if save_as:\n",
        "        plt.savefig(save_as)\n",
        "\n",
        "    return plt"
      ],
      "metadata": {
        "id": "wmqBGiTpFd2y"
      },
      "execution_count": null,
      "outputs": []
    },
    {
      "cell_type": "code",
      "source": [
        "# adapted from https://scikit-learn.org/stable/auto_examples/model_selection/plot_validation_curve.html\n",
        "def plot_validation_curve(\n",
        "    estimator,\n",
        "    title,\n",
        "    X,\n",
        "    y,\n",
        "    param_name,\n",
        "    param_range,\n",
        "    ylim=None,\n",
        "    cv=None,\n",
        "    use_semilogx=False,\n",
        "    save_as=None\n",
        "):\n",
        "    train_scores, valid_scores = validation_curve(\n",
        "        estimator, \n",
        "        X, \n",
        "        y, \n",
        "        param_name=param_name, \n",
        "        param_range=param_range,\n",
        "        cv=cv\n",
        "    )\n",
        "\n",
        "    clear_output()\n",
        "\n",
        "    train_scores_mean = np.mean(train_scores, axis=1)\n",
        "    train_scores_std = np.std(train_scores, axis=1)\n",
        "    valid_scores_mean = np.mean(valid_scores, axis=1)\n",
        "    valid_scores_std = np.std(valid_scores, axis=1)\n",
        "\n",
        "    plt.title(title)\n",
        "    plt.xlabel(param_name)\n",
        "    plt.ylabel(\"Score\")\n",
        "\n",
        "    if ylim is not None:\n",
        "        plt.ylim(*ylim)\n",
        "    else:\n",
        "        plt.ylim(0.0, 1.1)\n",
        "\n",
        "    lw = 2\n",
        "\n",
        "    if not use_semilogx:\n",
        "        plt.plot(\n",
        "            param_range, train_scores_mean, label=\"Training score\", color=\"darkorange\", lw=lw\n",
        "        )\n",
        "        plt.plot(\n",
        "            param_range, valid_scores_mean, label=\"Cross-validation score\", color=\"navy\", lw=lw\n",
        "        )\n",
        "    else:\n",
        "        plt.semilogx(\n",
        "            param_range, train_scores_mean, label=\"Training score\", color=\"darkorange\", lw=lw\n",
        "        )\n",
        "        plt.semilogx(\n",
        "            param_range, valid_scores_mean, label=\"Cross-validation score\", color=\"navy\", lw=lw\n",
        "        )\n",
        "\n",
        "    plt.legend(loc=\"best\")\n",
        "\n",
        "    if save_as:\n",
        "        plt.savefig(save_as)\n",
        "\n",
        "    return plt"
      ],
      "metadata": {
        "id": "ZRvuQd6rKb79"
      },
      "execution_count": null,
      "outputs": []
    },
    {
      "cell_type": "code",
      "source": [
        "def find_best_params(estimator, X_train, y_train, param_grid, scoring_metric='accuracy', cv=10):\n",
        "    grid_search = GridSearchCV(estimator, param_grid, scoring=scoring_metric, cv=cv)\n",
        "    grid_search.fit(X_train, y_train)\n",
        "\n",
        "    clf = grid_search.best_estimator_\n",
        "    best_result = grid_search.best_score_\n",
        "\n",
        "    # clear output\n",
        "    from IPython.display import clear_output \n",
        "    clear_output()\n",
        "\n",
        "    print(\"Best parameters\", grid_search.best_params_)\n",
        "    print(\"Training accuracy:\", clf.score(X_train, y_train))\n",
        "    print(\"Cross-validation accuracy:\", best_result)\n",
        "\n",
        "    results_df = pd.DataFrame(grid_search.cv_results_)\n",
        "    results_df = results_df.sort_values(by=[\"rank_test_score\"])\n",
        "    results_df = results_df.set_index(\n",
        "        results_df[\"params\"].apply(lambda x: \"_\".join(str(val) for val in x.values()))\n",
        "    ).rename_axis(\"kernel\")\n",
        "\n",
        "    # print()\n",
        "    # print(results_df[[\"params\", \"rank_test_score\", \"mean_test_score\", \"std_test_score\"]])\n",
        "\n",
        "    return grid_search, results_df"
      ],
      "metadata": {
        "id": "jJyYFbsnnBXv"
      },
      "execution_count": null,
      "outputs": []
    },
    {
      "cell_type": "code",
      "source": [
        "def train_and_test(estimator):\n",
        "    estimator = KNeighborsClassifier(n_neighbors=11, metric='manhattan')\n",
        "\n",
        "    start = time.time()\n",
        "    dtree = estimator.fit(X_train, y_train)\n",
        "    end = time.time()\n",
        "    print(\"training time in seconds\", end - start)\n",
        "\n",
        "    y_pred = estimator.predict(X_test)\n",
        "    acc = accuracy_score(y_test, y_pred)\n",
        "    print(f\"test accuracy: {acc}\")\n",
        "    cm = confusion_matrix(y_test, y_pred, labels=[0, 1])\n",
        "    print(\"Confusion matrix:\")\n",
        "    print(cm)"
      ],
      "metadata": {
        "id": "HDIVlOH8fwTN"
      },
      "execution_count": null,
      "outputs": []
    },
    {
      "cell_type": "markdown",
      "source": [
        "# Support Vector Machine"
      ],
      "metadata": {
        "id": "Y4EHSOhA3qLP"
      }
    },
    {
      "cell_type": "code",
      "source": [
        "# param_grid = [\n",
        "#     {\n",
        "#         'kernel': ['rbf'],\n",
        "#         'C': [0.1, 1, 10, 100, 1000, 10000],\n",
        "#         'gamma': [1, 0.1, 0.01, 0.001, 0.0001]\n",
        "#     },\n",
        "#     {\n",
        "#         'kernel': ['poly'],\n",
        "#         'C': [0.1, 1, 10, 100, 1000, 10000],\n",
        "#         \"degree\": [2, 3, 4]\n",
        "#     }\n",
        "# ]\n",
        "\n",
        "# grid_search, results_df = find_best_params(SVC(), X_train, y_train, param_grid, cv=K_FOLDS)\n",
        "# results_df[[\"params\", \"rank_test_score\", \"mean_test_score\", \"std_test_score\"]]"
      ],
      "metadata": {
        "id": "FTSQgcW6dEDE"
      },
      "execution_count": null,
      "outputs": []
    },
    {
      "cell_type": "markdown",
      "source": [
        "## Poly Kernel"
      ],
      "metadata": {
        "id": "LhNFgOvfNLel"
      }
    },
    {
      "cell_type": "markdown",
      "source": [
        "Tune the hyperparameter C, the regularization parameter"
      ],
      "metadata": {
        "id": "wQRZKth7oMUN"
      }
    },
    {
      "cell_type": "code",
      "source": [
        "plot_validation_curve(\n",
        "    SVC(kernel='poly'), \n",
        "    \"Validation Curve for C with SVM (Poly Kernel)\", \n",
        "    X_train, \n",
        "    y_train, \n",
        "    param_name=\"C\", \n",
        "    param_range=[0.1, 1, 10, 100, 1000, 10000], \n",
        "    ylim=(0.7, 1.01), \n",
        "    cv=K_FOLDS, \n",
        "    use_semilogx=True,\n",
        "    save_as=f\"./plots/{dataset_name}/svc_poly_validation_curve_c.png\"\n",
        ")"
      ],
      "metadata": {
        "colab": {
          "base_uri": "https://localhost:8080/",
          "height": 325
        },
        "id": "APfEWxddoGUC",
        "outputId": "9dd2a7a8-1208-4ccb-bb59-34ba73b4f6b6"
      },
      "execution_count": null,
      "outputs": [
        {
          "output_type": "execute_result",
          "data": {
            "text/plain": [
              "<module 'matplotlib.pyplot' from '/usr/local/lib/python3.7/dist-packages/matplotlib/pyplot.py'>"
            ]
          },
          "metadata": {},
          "execution_count": 37
        },
        {
          "output_type": "display_data",
          "data": {
            "text/plain": [
              "<Figure size 432x288 with 1 Axes>"
            ],
            "image/png": "[encoded data removed]"
          },
          "metadata": {}
        }
      ]
    },
    {
      "cell_type": "markdown",
      "source": [
        "Tune degree"
      ],
      "metadata": {
        "id": "-7_LOBrHKZEb"
      }
    },
    {
      "cell_type": "code",
      "source": [
        "plot_validation_curve(\n",
        "    SVC(kernel='poly'), \n",
        "    \"Validation Curve for degree with SVM (Poly Kernel)\", \n",
        "    X_train, \n",
        "    y_train, \n",
        "    param_name=\"degree\", \n",
        "    param_range=[2, 3, 4], \n",
        "    ylim=(0.7, 1.01), \n",
        "    cv=K_FOLDS, \n",
        "    use_semilogx=False,\n",
        "    save_as=f\"./plots/{dataset_name}/svc_poly_validation_curve_degree.png\"\n",
        ")"
      ],
      "metadata": {
        "colab": {
          "base_uri": "https://localhost:8080/",
          "height": 319
        },
        "id": "Vn9EX7Dbas_X",
        "outputId": "1edbb19a-6fcf-4391-af8e-22bf0f171993"
      },
      "execution_count": null,
      "outputs": [
        {
          "output_type": "execute_result",
          "data": {
            "text/plain": [
              "<module 'matplotlib.pyplot' from '/usr/local/lib/python3.7/dist-packages/matplotlib/pyplot.py'>"
            ]
          },
          "metadata": {},
          "execution_count": 38
        },
        {
          "output_type": "display_data",
          "data": {
            "text/plain": [
              "<Figure size 432x288 with 1 Axes>"
            ],
            "image/png": "[encoded data removed]"
          },
          "metadata": {}
        }
      ]
    },
    {
      "cell_type": "markdown",
      "source": [
        "Plot learning curve"
      ],
      "metadata": {
        "id": "JlmdiedEiOfe"
      }
    },
    {
      "cell_type": "code",
      "source": [
        "plot_learning_curve(\n",
        "    SVC(kernel='poly', C=10, degree=3), \n",
        "    \"Learning Curve for SVM (Poly Kernel)\", \n",
        "    X_train, \n",
        "    y_train, \n",
        "    ylim=(0.7, 1.01), \n",
        "    cv=K_FOLDS, \n",
        "    n_jobs=4,\n",
        "    save_as=f\"./plots/{dataset_name}/svc_poly_learning_curve.png\"\n",
        ")"
      ],
      "metadata": {
        "colab": {
          "base_uri": "https://localhost:8080/",
          "height": 319
        },
        "id": "TlTkwIOLoRSI",
        "outputId": "ce382820-baa8-415e-d29e-2d9c38eb28ff"
      },
      "execution_count": null,
      "outputs": [
        {
          "output_type": "execute_result",
          "data": {
            "text/plain": [
              "<module 'matplotlib.pyplot' from '/usr/local/lib/python3.7/dist-packages/matplotlib/pyplot.py'>"
            ]
          },
          "metadata": {},
          "execution_count": 39
        },
        {
          "output_type": "display_data",
          "data": {
            "text/plain": [
              "<Figure size 432x288 with 1 Axes>"
            ],
            "image/png": "[encoded data removed]"
          },
          "metadata": {}
        }
      ]
    },
    {
      "cell_type": "markdown",
      "source": [
        "Train"
      ],
      "metadata": {
        "id": "YNhaVCxdjTBh"
      }
    },
    {
      "cell_type": "code",
      "source": [
        "svc_poly = SVC(kernel='poly', C=10, degree=3)\n",
        "\n",
        "clear_output()\n",
        "\n",
        "start = time.time()\n",
        "dtree = svc_poly.fit(X_train, y_train)\n",
        "end = time.time()\n",
        "print(end - start)"
      ],
      "metadata": {
        "id": "0dyAaBfHjTsD",
        "colab": {
          "base_uri": "https://localhost:8080/"
        },
        "outputId": "cdb2d4b3-c49f-497f-d249-4a630c40f577"
      },
      "execution_count": null,
      "outputs": [
        {
          "output_type": "stream",
          "name": "stdout",
          "text": [
            "0.026060819625854492\n"
          ]
        }
      ]
    },
    {
      "cell_type": "markdown",
      "source": [
        "## RBF Kernel"
      ],
      "metadata": {
        "id": "FcKpQfBEKCC4"
      }
    },
    {
      "cell_type": "markdown",
      "source": [
        "Tune the hyperparameter C, the regularization parameter"
      ],
      "metadata": {
        "id": "8WF1xaw_iptp"
      }
    },
    {
      "cell_type": "code",
      "source": [
        "plot_validation_curve(\n",
        "    SVC(kernel='rbf'), \n",
        "    \"Validation Curve for C with SVM (RBF Kernel)\", \n",
        "    X_train, \n",
        "    y_train, \n",
        "    param_name=\"C\", \n",
        "    param_range=[0.1, 1, 10, 100, 1000, 10000], \n",
        "    ylim=(0.7, 1.01), \n",
        "    cv=K_FOLDS, \n",
        "    use_semilogx=True,\n",
        "    save_as=f\"./plots/{dataset_name}/svc_rbf_validation_curve_c.png\"\n",
        ")"
      ],
      "metadata": {
        "colab": {
          "base_uri": "https://localhost:8080/",
          "height": 325
        },
        "id": "YZ0sjPLUb0E_",
        "outputId": "ba3703aa-9e8b-4ab7-a2c3-0df25d5ebff6"
      },
      "execution_count": null,
      "outputs": [
        {
          "output_type": "execute_result",
          "data": {
            "text/plain": [
              "<module 'matplotlib.pyplot' from '/usr/local/lib/python3.7/dist-packages/matplotlib/pyplot.py'>"
            ]
          },
          "metadata": {},
          "execution_count": 41
        },
        {
          "output_type": "display_data",
          "data": {
            "text/plain": [
              "<Figure size 432x288 with 1 Axes>"
            ],
            "image/png": "[encoded data removed]"
          },
          "metadata": {}
        }
      ]
    },
    {
      "cell_type": "markdown",
      "source": [
        "Tune the hyperparameter gamma"
      ],
      "metadata": {
        "id": "3E759zIfiyrV"
      }
    },
    {
      "cell_type": "code",
      "source": [
        "plot_validation_curve(\n",
        "    SVC(kernel='rbf'), \n",
        "    \"Validation Curve for gamma with SVM (RBF Kernel)\", \n",
        "    X_train, \n",
        "    y_train, \n",
        "    param_name=\"gamma\", \n",
        "    param_range=[1, 0.1, 0.01, 0.001, 0.0001], \n",
        "    ylim=(0.7, 1.01), \n",
        "    cv=K_FOLDS, \n",
        "    use_semilogx=True,\n",
        "    save_as=f\"./plots/{dataset_name}/svc_rbf_validation_curve_gamma.png\"\n",
        ")"
      ],
      "metadata": {
        "colab": {
          "base_uri": "https://localhost:8080/",
          "height": 325
        },
        "id": "COvtAFzjcJDe",
        "outputId": "e7909b1e-6370-4b47-9b23-fe3099b3d05e"
      },
      "execution_count": null,
      "outputs": [
        {
          "output_type": "execute_result",
          "data": {
            "text/plain": [
              "<module 'matplotlib.pyplot' from '/usr/local/lib/python3.7/dist-packages/matplotlib/pyplot.py'>"
            ]
          },
          "metadata": {},
          "execution_count": 42
        },
        {
          "output_type": "display_data",
          "data": {
            "text/plain": [
              "<Figure size 432x288 with 1 Axes>"
            ],
            "image/png": "[encoded data removed]"
          },
          "metadata": {}
        }
      ]
    },
    {
      "cell_type": "markdown",
      "source": [
        "Plot learning curve"
      ],
      "metadata": {
        "id": "nVpaBVEEjf-g"
      }
    },
    {
      "cell_type": "code",
      "source": [
        "plot_learning_curve(\n",
        "    SVC(kernel='rbf', C=10, gamma=0.01), \n",
        "    \"Learning Curve for SVM (RBF Kernel)\", \n",
        "    X_train, \n",
        "    y_train, \n",
        "    ylim=(0.7, 1.01), \n",
        "    cv=K_FOLDS, \n",
        "    n_jobs=4,\n",
        "    save_as=f\"./plots/{dataset_name}/svc_rbf_learning_curve.png\"\n",
        ")"
      ],
      "metadata": {
        "colab": {
          "base_uri": "https://localhost:8080/",
          "height": 319
        },
        "id": "-gEPo36eccT3",
        "outputId": "7276d15a-c4ae-4a5e-b3c7-0ea6250d0c4e"
      },
      "execution_count": null,
      "outputs": [
        {
          "output_type": "execute_result",
          "data": {
            "text/plain": [
              "<module 'matplotlib.pyplot' from '/usr/local/lib/python3.7/dist-packages/matplotlib/pyplot.py'>"
            ]
          },
          "metadata": {},
          "execution_count": 43
        },
        {
          "output_type": "display_data",
          "data": {
            "text/plain": [
              "<Figure size 432x288 with 1 Axes>"
            ],
            "image/png": "[encoded data removed]"
          },
          "metadata": {}
        }
      ]
    },
    {
      "cell_type": "markdown",
      "source": [
        "Train"
      ],
      "metadata": {
        "id": "RDgeG_F4jo2b"
      }
    },
    {
      "cell_type": "code",
      "source": [
        "svc_rbf = SVC(kernel='rbf', C=100, gamma=0.01)\n",
        "\n",
        "# clear output\n",
        "from IPython.display import clear_output \n",
        "clear_output()\n",
        "\n",
        "start = time.time()\n",
        "dtree = svc_rbf.fit(X_train, y_train)\n",
        "end = time.time()\n",
        "print(end - start)"
      ],
      "metadata": {
        "id": "JyRlaUxhjpVF",
        "colab": {
          "base_uri": "https://localhost:8080/"
        },
        "outputId": "0affed1a-2978-404f-a0aa-d1058e21b0e8"
      },
      "execution_count": null,
      "outputs": [
        {
          "output_type": "stream",
          "name": "stdout",
          "text": [
            "0.02939605712890625\n"
          ]
        }
      ]
    },
    {
      "cell_type": "markdown",
      "source": [
        "## Test"
      ],
      "metadata": {
        "id": "A47lJg6SqnNT"
      }
    },
    {
      "cell_type": "code",
      "source": [
        "for name, clf in zip(['poly', 'rbf'], [svc_poly, svc_rbf]):\n",
        "    y_pred = clf.predict(X_test)\n",
        "    acc = accuracy_score(y_test, y_pred)\n",
        "    print(f\"{name} kernel test accuracy: {acc}\")\n",
        "    cm = confusion_matrix(y_test, y_pred, labels=[0, 1])\n",
        "    print(\"Confusion matrix:\")\n",
        "    print(cm)\n",
        "    print()"
      ],
      "metadata": {
        "colab": {
          "base_uri": "https://localhost:8080/"
        },
        "id": "uZjfs8Igqn8r",
        "outputId": "5e9501e3-8901-411d-ecee-cbf0b228c6f0"
      },
      "execution_count": null,
      "outputs": [
        {
          "output_type": "stream",
          "name": "stdout",
          "text": [
            "poly kernel test accuracy: 0.8059701492537313\n",
            "Confusion matrix:\n",
            "[[143  22]\n",
            " [ 30  73]]\n",
            "\n",
            "rbf kernel test accuracy: 0.8097014925373134\n",
            "Confusion matrix:\n",
            "[[146  19]\n",
            " [ 32  71]]\n",
            "\n"
          ]
        }
      ]
    },
    {
      "cell_type": "markdown",
      "source": [
        "# K-Nearest Neighbors"
      ],
      "metadata": {
        "id": "mHWauRjB3I6j"
      }
    },
    {
      "cell_type": "markdown",
      "source": [
        "## Tune hyperparameters"
      ],
      "metadata": {
        "id": "7ehKD9F_EnfR"
      }
    },
    {
      "cell_type": "markdown",
      "source": [
        "Tune the distance metric"
      ],
      "metadata": {
        "id": "pIMN-JqHeMmO"
      }
    },
    {
      "cell_type": "code",
      "source": [
        "param_grid = {\"metric\": ['euclidean', 'manhattan'], \"n_neighbors\": [3, 5, 7, 11, 19]}\n",
        "grid_search, results_df = find_best_params(KNeighborsClassifier(), X_train, y_train, param_grid, cv=K_FOLDS)\n",
        "results_df[[\"params\", \"rank_test_score\", \"mean_test_score\", \"std_test_score\"]]"
      ],
      "metadata": {
        "colab": {
          "base_uri": "https://localhost:8080/",
          "height": 448
        },
        "id": "tRNv9l6zeG8i",
        "outputId": "f16dcb4e-0940-497d-dc54-26d562c8208f"
      },
      "execution_count": null,
      "outputs": [
        {
          "output_type": "stream",
          "name": "stdout",
          "text": [
            "Best parameters {'metric': 'euclidean', 'n_neighbors': 5}\n",
            "Training accuracy: 0.8491171749598716\n",
            "Cross-validation accuracy: 0.8057603686635945\n"
          ]
        },
        {
          "output_type": "execute_result",
          "data": {
            "text/plain": [
              "                                                  params  rank_test_score  \\\n",
              "kernel                                                                      \n",
              "euclidean_5    {'metric': 'euclidean', 'n_neighbors': 5}                1   \n",
              "manhattan_7    {'metric': 'manhattan', 'n_neighbors': 7}                1   \n",
              "euclidean_7    {'metric': 'euclidean', 'n_neighbors': 7}                3   \n",
              "euclidean_11  {'metric': 'euclidean', 'n_neighbors': 11}                4   \n",
              "manhattan_11  {'metric': 'manhattan', 'n_neighbors': 11}                5   \n",
              "manhattan_5    {'metric': 'manhattan', 'n_neighbors': 5}                6   \n",
              "manhattan_19  {'metric': 'manhattan', 'n_neighbors': 19}                7   \n",
              "euclidean_3    {'metric': 'euclidean', 'n_neighbors': 3}                8   \n",
              "euclidean_19  {'metric': 'euclidean', 'n_neighbors': 19}                8   \n",
              "manhattan_3    {'metric': 'manhattan', 'n_neighbors': 3}               10   \n",
              "\n",
              "              mean_test_score  std_test_score  \n",
              "kernel                                         \n",
              "euclidean_5          0.805760        0.055602  \n",
              "manhattan_7          0.805760        0.059976  \n",
              "euclidean_7          0.802535        0.064051  \n",
              "euclidean_11         0.802458        0.060583  \n",
              "manhattan_11         0.797670        0.056130  \n",
              "manhattan_5          0.794470        0.055484  \n",
              "manhattan_19         0.792883        0.030416  \n",
              "euclidean_3          0.792806        0.063783  \n",
              "euclidean_19         0.792806        0.043451  \n",
              "manhattan_3          0.791167        0.063289  "
            ],
            "text/html": [
              "\n",
              "  <div id=\"df-2b6bd249-6944-4308-bfc0-c8a232e8b80a\">\n",
              "    <div class=\"colab-df-container\">\n",
              "      <div>\n",
              "<style scoped>\n",
              "    .dataframe tbody tr th:only-of-type {\n",
              "        vertical-align: middle;\n",
              "    }\n",
              "\n",
              "    .dataframe tbody tr th {\n",
              "        vertical-align: top;\n",
              "    }\n",
              "\n",
              "    .dataframe thead th {\n",
              "        text-align: right;\n",
              "    }\n",
              "</style>\n",
              "<table border=\"1\" class=\"dataframe\">\n",
              "  <thead>\n",
              "    <tr style=\"text-align: right;\">\n",
              "      <th></th>\n",
              "      <th>params</th>\n",
              "      <th>rank_test_score</th>\n",
              "      <th>mean_test_score</th>\n",
              "      <th>std_test_score</th>\n",
              "    </tr>\n",
              "    <tr>\n",
              "      <th>kernel</th>\n",
              "      <th></th>\n",
              "      <th></th>\n",
              "      <th></th>\n",
              "      <th></th>\n",
              "    </tr>\n",
              "  </thead>\n",
              "  <tbody>\n",
              "    <tr>\n",
              "      <th>euclidean_5</th>\n",
              "      <td>{'metric': 'euclidean', 'n_neighbors': 5}</td>\n",
              "      <td>1</td>\n",
              "      <td>0.805760</td>\n",
              "      <td>0.055602</td>\n",
              "    </tr>\n",
              "    <tr>\n",
              "      <th>manhattan_7</th>\n",
              "      <td>{'metric': 'manhattan', 'n_neighbors': 7}</td>\n",
              "      <td>1</td>\n",
              "      <td>0.805760</td>\n",
              "      <td>0.059976</td>\n",
              "    </tr>\n",
              "    <tr>\n",
              "      <th>euclidean_7</th>\n",
              "      <td>{'metric': 'euclidean', 'n_neighbors': 7}</td>\n",
              "      <td>3</td>\n",
              "      <td>0.802535</td>\n",
              "      <td>0.064051</td>\n",
              "    </tr>\n",
              "    <tr>\n",
              "      <th>euclidean_11</th>\n",
              "      <td>{'metric': 'euclidean', 'n_neighbors': 11}</td>\n",
              "      <td>4</td>\n",
              "      <td>0.802458</td>\n",
              "      <td>0.060583</td>\n",
              "    </tr>\n",
              "    <tr>\n",
              "      <th>manhattan_11</th>\n",
              "      <td>{'metric': 'manhattan', 'n_neighbors': 11}</td>\n",
              "      <td>5</td>\n",
              "      <td>0.797670</td>\n",
              "      <td>0.056130</td>\n",
              "    </tr>\n",
              "    <tr>\n",
              "      <th>manhattan_5</th>\n",
              "      <td>{'metric': 'manhattan', 'n_neighbors': 5}</td>\n",
              "      <td>6</td>\n",
              "      <td>0.794470</td>\n",
              "      <td>0.055484</td>\n",
              "    </tr>\n",
              "    <tr>\n",
              "      <th>manhattan_19</th>\n",
              "      <td>{'metric': 'manhattan', 'n_neighbors': 19}</td>\n",
              "      <td>7</td>\n",
              "      <td>0.792883</td>\n",
              "      <td>0.030416</td>\n",
              "    </tr>\n",
              "    <tr>\n",
              "      <th>euclidean_3</th>\n",
              "      <td>{'metric': 'euclidean', 'n_neighbors': 3}</td>\n",
              "      <td>8</td>\n",
              "      <td>0.792806</td>\n",
              "      <td>0.063783</td>\n",
              "    </tr>\n",
              "    <tr>\n",
              "      <th>euclidean_19</th>\n",
              "      <td>{'metric': 'euclidean', 'n_neighbors': 19}</td>\n",
              "      <td>8</td>\n",
              "      <td>0.792806</td>\n",
              "      <td>0.043451</td>\n",
              "    </tr>\n",
              "    <tr>\n",
              "      <th>manhattan_3</th>\n",
              "      <td>{'metric': 'manhattan', 'n_neighbors': 3}</td>\n",
              "      <td>10</td>\n",
              "      <td>0.791167</td>\n",
              "      <td>0.063289</td>\n",
              "    </tr>\n",
              "  </tbody>\n",
              "</table>\n",
              "</div>\n",
              "      <button class=\"colab-df-convert\" onclick=\"convertToInteractive('df-2b6bd249-6944-4308-bfc0-c8a232e8b80a')\"\n",
              "              title=\"Convert this dataframe to an interactive table.\"\n",
              "              style=\"display:none;\">\n",
              "        \n",
              "  <svg xmlns=\"http://www.w3.org/2000/svg\" height=\"24px\"viewBox=\"0 0 24 24\"\n",
              "       width=\"24px\">\n",
              "    <path d=\"M0 0h24v24H0V0z\" fill=\"none\"/>\n",
              "    <path d=\"M18.56 5.44l.94 2.06.94-2.06 2.06-.94-2.06-.94-.94-2.06-.94 2.06-2.06.94zm-11 1L8.5 8.5l.94-2.06 2.06-.94-2.06-.94L8.5 2.5l-.94 2.06-2.06.94zm10 10l.94 2.06.94-2.06 2.06-.94-2.06-.94-.94-2.06-.94 2.06-2.06.94z\"/><path d=\"M17.41 7.96l-1.37-1.37c-.4-.4-.92-.59-1.43-.59-.52 0-1.04.2-1.43.59L10.3 9.45l-7.72 7.72c-.78.78-.78 2.05 0 2.83L4 21.41c.39.39.9.59 1.41.59.51 0 1.02-.2 1.41-.59l7.78-7.78 2.81-2.81c.8-.78.8-2.07 0-2.86zM5.41 20L4 18.59l7.72-7.72 1.47 1.35L5.41 20z\"/>\n",
              "  </svg>\n",
              "      </button>\n",
              "      \n",
              "  <style>\n",
              "    .colab-df-container {\n",
              "      display:flex;\n",
              "      flex-wrap:wrap;\n",
              "      gap: 12px;\n",
              "    }\n",
              "\n",
              "    .colab-df-convert {\n",
              "      background-color: #E8F0FE;\n",
              "      border: none;\n",
              "      border-radius: 50%;\n",
              "      cursor: pointer;\n",
              "      display: none;\n",
              "      fill: #1967D2;\n",
              "      height: 32px;\n",
              "      padding: 0 0 0 0;\n",
              "      width: 32px;\n",
              "    }\n",
              "\n",
              "    .colab-df-convert:hover {\n",
              "      background-color: #E2EBFA;\n",
              "      box-shadow: 0px 1px 2px rgba(60, 64, 67, 0.3), 0px 1px 3px 1px rgba(60, 64, 67, 0.15);\n",
              "      fill: #174EA6;\n",
              "    }\n",
              "\n",
              "    [theme=dark] .colab-df-convert {\n",
              "      background-color: #3B4455;\n",
              "      fill: #D2E3FC;\n",
              "    }\n",
              "\n",
              "    [theme=dark] .colab-df-convert:hover {\n",
              "      background-color: #434B5C;\n",
              "      box-shadow: 0px 1px 3px 1px rgba(0, 0, 0, 0.15);\n",
              "      filter: drop-shadow(0px 1px 2px rgba(0, 0, 0, 0.3));\n",
              "      fill: #FFFFFF;\n",
              "    }\n",
              "  </style>\n",
              "\n",
              "      <script>\n",
              "        const buttonEl =\n",
              "          document.querySelector('#df-2b6bd249-6944-4308-bfc0-c8a232e8b80a button.colab-df-convert');\n",
              "        buttonEl.style.display =\n",
              "          google.colab.kernel.accessAllowed ? 'block' : 'none';\n",
              "\n",
              "        async function convertToInteractive(key) {\n",
              "          const element = document.querySelector('#df-2b6bd249-6944-4308-bfc0-c8a232e8b80a');\n",
              "          const dataTable =\n",
              "            await google.colab.kernel.invokeFunction('convertToInteractive',\n",
              "                                                     [key], {});\n",
              "          if (!dataTable) return;\n",
              "\n",
              "          const docLinkHtml = 'Like what you see? Visit the ' +\n",
              "            '<a target=\"_blank\" href=https://colab.research.google.com/notebooks/data_table.ipynb>data table notebook</a>'\n",
              "            + ' to learn more about interactive tables.';\n",
              "          element.innerHTML = '';\n",
              "          dataTable['output_type'] = 'display_data';\n",
              "          await google.colab.output.renderOutput(dataTable, element);\n",
              "          const docLink = document.createElement('div');\n",
              "          docLink.innerHTML = docLinkHtml;\n",
              "          element.appendChild(docLink);\n",
              "        }\n",
              "      </script>\n",
              "    </div>\n",
              "  </div>\n",
              "  "
            ]
          },
          "metadata": {},
          "execution_count": 46
        }
      ]
    },
    {
      "cell_type": "markdown",
      "source": [
        "Tune the hyperparameter k, the number of nearest neighbors"
      ],
      "metadata": {
        "id": "musyMM6JsNK5"
      }
    },
    {
      "cell_type": "code",
      "source": [
        "plot_validation_curve(\n",
        "    KNeighborsClassifier(), \n",
        "    \"Validation Curve with K-Nearest Neighbors\", \n",
        "    X_train, \n",
        "    y_train, \n",
        "    param_name=\"n_neighbors\", \n",
        "    param_range=[3, 5, 7, 11, 15, 19], \n",
        "    ylim=(0.7, 1.01), \n",
        "    cv=K_FOLDS, \n",
        "    use_semilogx=False,\n",
        "    save_as=f\"./plots/{dataset_name}/knn_validation_curve_k.png\"\n",
        ")"
      ],
      "metadata": {
        "colab": {
          "base_uri": "https://localhost:8080/",
          "height": 319
        },
        "id": "tNJJ8ngHd3P7",
        "outputId": "9cdb45a0-affd-4b0f-9bd3-a127e4fcc311"
      },
      "execution_count": null,
      "outputs": [
        {
          "output_type": "execute_result",
          "data": {
            "text/plain": [
              "<module 'matplotlib.pyplot' from '/usr/local/lib/python3.7/dist-packages/matplotlib/pyplot.py'>"
            ]
          },
          "metadata": {},
          "execution_count": 47
        },
        {
          "output_type": "display_data",
          "data": {
            "text/plain": [
              "<Figure size 432x288 with 1 Axes>"
            ],
            "image/png": "[encoded data removed]"
          },
          "metadata": {}
        }
      ]
    },
    {
      "cell_type": "markdown",
      "source": [
        "## Plot learning curve"
      ],
      "metadata": {
        "id": "OU5Wb-1As0eF"
      }
    },
    {
      "cell_type": "code",
      "source": [
        "plot_learning_curve(\n",
        "    KNeighborsClassifier(n_neighbors=7, metric='euclidean'), \n",
        "    \"Learning Curve for KNN\", \n",
        "    X_train, \n",
        "    y_train, \n",
        "    ylim=(0.7, 1.01), \n",
        "    cv=K_FOLDS, \n",
        "    n_jobs=4,\n",
        "    save_as=f\"./plots/{dataset_name}/knn_learning_curve.png\"\n",
        ")"
      ],
      "metadata": {
        "colab": {
          "base_uri": "https://localhost:8080/",
          "height": 319
        },
        "id": "ov_UqFizeTqi",
        "outputId": "befd50fb-bcd1-4a35-c99e-9233d201d783"
      },
      "execution_count": null,
      "outputs": [
        {
          "output_type": "execute_result",
          "data": {
            "text/plain": [
              "<module 'matplotlib.pyplot' from '/usr/local/lib/python3.7/dist-packages/matplotlib/pyplot.py'>"
            ]
          },
          "metadata": {},
          "execution_count": 48
        },
        {
          "output_type": "display_data",
          "data": {
            "text/plain": [
              "<Figure size 432x288 with 1 Axes>"
            ],
            "image/png": "[encoded data removed]"
          },
          "metadata": {}
        }
      ]
    },
    {
      "cell_type": "code",
      "source": [
        "# title = \"Performance of KNN\"\n",
        "# plot_fit_time_vs_score(\n",
        "#     estimator, X_train, y_train, title=title, ylim=(0.7, 1.01), cv=n_folds, n_jobs=4\n",
        "# )"
      ],
      "metadata": {
        "id": "3qJqxzKLIcJO"
      },
      "execution_count": null,
      "outputs": []
    },
    {
      "cell_type": "markdown",
      "source": [
        "## Train and test"
      ],
      "metadata": {
        "id": "MnfZpXfZubWd"
      }
    },
    {
      "cell_type": "code",
      "source": [
        "train_and_test(KNeighborsClassifier(n_neighbors=7, metric='euclidean'))"
      ],
      "metadata": {
        "colab": {
          "base_uri": "https://localhost:8080/"
        },
        "id": "KLPhowxff5EY",
        "outputId": "d2b81d24-74fa-4276-e4b5-f04c9f27753d"
      },
      "execution_count": null,
      "outputs": [
        {
          "output_type": "stream",
          "name": "stdout",
          "text": [
            "training time in seconds 0.007283926010131836\n",
            "test accuracy: 0.8134328358208955\n",
            "Confusion matrix:\n",
            "[[144  21]\n",
            " [ 29  74]]\n"
          ]
        }
      ]
    },
    {
      "cell_type": "markdown",
      "source": [
        "# Decision Tree"
      ],
      "metadata": {
        "id": "VfoXX9o642s2"
      }
    },
    {
      "cell_type": "code",
      "source": [
        "# param_grid = {\"max_depth\": [2, 3, 5, 7, 10, 14], \"min_samples_leaf\": list(range(1, 15))}\n",
        "# grid_search, results_df = find_best_params(DecisionTreeClassifier(), X_train, y_train, param_grid, cv=K_FOLDS)\n",
        "# results_df[[\"params\", \"rank_test_score\", \"mean_test_score\", \"std_test_score\"]]"
      ],
      "metadata": {
        "id": "gCUHZOySe3kf"
      },
      "execution_count": null,
      "outputs": []
    },
    {
      "cell_type": "markdown",
      "source": [
        "## Tune hyperparameters"
      ],
      "metadata": {
        "id": "yhsRTnm0FF8s"
      }
    },
    {
      "cell_type": "markdown",
      "source": [
        "Tune max_depth"
      ],
      "metadata": {
        "id": "p95Pfe7g4tPj"
      }
    },
    {
      "cell_type": "code",
      "source": [
        "plot_validation_curve(\n",
        "    DecisionTreeClassifier(),\n",
        "    \"Validation Curve for max_depth with Decision Tree\", \n",
        "    X_train, \n",
        "    y_train, \n",
        "    param_name=\"max_depth\", \n",
        "    param_range=[2, 3, 5, 7, 10, 14], \n",
        "    ylim=(0.7, 1.01), \n",
        "    cv=K_FOLDS, \n",
        "    use_semilogx=False,\n",
        "    save_as=f\"./plots/{dataset_name}/dtree_validation_curve_max_depth.png\"\n",
        ")"
      ],
      "metadata": {
        "colab": {
          "base_uri": "https://localhost:8080/",
          "height": 319
        },
        "id": "CntTd-bfe2Um",
        "outputId": "4233fa39-65b2-4230-ab41-d2ce47e5fcd8"
      },
      "execution_count": null,
      "outputs": [
        {
          "output_type": "execute_result",
          "data": {
            "text/plain": [
              "<module 'matplotlib.pyplot' from '/usr/local/lib/python3.7/dist-packages/matplotlib/pyplot.py'>"
            ]
          },
          "metadata": {},
          "execution_count": 52
        },
        {
          "output_type": "display_data",
          "data": {
            "text/plain": [
              "<Figure size 432x288 with 1 Axes>"
            ],
            "image/png": "[encoded data removed]"
          },
          "metadata": {}
        }
      ]
    },
    {
      "cell_type": "markdown",
      "source": [
        "Tune min_samples_leaf"
      ],
      "metadata": {
        "id": "vuBUv0u67qEQ"
      }
    },
    {
      "cell_type": "code",
      "source": [
        "plot_validation_curve(\n",
        "    DecisionTreeClassifier(),\n",
        "    \"Validation Curve min_samples_leaf with Decision Tree\", \n",
        "    X_train, \n",
        "    y_train, \n",
        "    param_name=\"min_samples_leaf\", \n",
        "    param_range=list(range(1, 16)), \n",
        "    ylim=(0.7, 1.01), \n",
        "    cv=K_FOLDS, \n",
        "    use_semilogx=False,\n",
        "    save_as=f\"./plots/{dataset_name}/dtree_validation_curve_min_samples_leaf.png\"\n",
        ")"
      ],
      "metadata": {
        "colab": {
          "base_uri": "https://localhost:8080/",
          "height": 319
        },
        "id": "ungBUXFJ6HME",
        "outputId": "e5fb394f-03a8-4656-ebbf-dbd84eeb8b38"
      },
      "execution_count": null,
      "outputs": [
        {
          "output_type": "execute_result",
          "data": {
            "text/plain": [
              "<module 'matplotlib.pyplot' from '/usr/local/lib/python3.7/dist-packages/matplotlib/pyplot.py'>"
            ]
          },
          "metadata": {},
          "execution_count": 72
        },
        {
          "output_type": "display_data",
          "data": {
            "text/plain": [
              "<Figure size 432x288 with 1 Axes>"
            ],
            "image/png": "[encoded data removed]"
          },
          "metadata": {}
        }
      ]
    },
    {
      "cell_type": "markdown",
      "source": [
        "## Plot learning curve"
      ],
      "metadata": {
        "id": "LXU17NgdGXtB"
      }
    },
    {
      "cell_type": "code",
      "source": [
        "plot_learning_curve(\n",
        "    DecisionTreeClassifier(max_depth=3, min_samples_leaf=1), \n",
        "    \"Learning Curve for Decision Tree\", \n",
        "    X_train, \n",
        "    y_train, \n",
        "    ylim=(0.7, 1.01), \n",
        "    cv=K_FOLDS, \n",
        "    n_jobs=4,\n",
        "    save_as=f\"./plots/{dataset_name}/dtree_learning_curve.png\"\n",
        ")"
      ],
      "metadata": {
        "colab": {
          "base_uri": "https://localhost:8080/",
          "height": 319
        },
        "id": "au4MuK37fb_q",
        "outputId": "7cc16adc-4382-49c2-cf8f-065b46f90efd"
      },
      "execution_count": null,
      "outputs": [
        {
          "output_type": "execute_result",
          "data": {
            "text/plain": [
              "<module 'matplotlib.pyplot' from '/usr/local/lib/python3.7/dist-packages/matplotlib/pyplot.py'>"
            ]
          },
          "metadata": {},
          "execution_count": 54
        },
        {
          "output_type": "display_data",
          "data": {
            "text/plain": [
              "<Figure size 432x288 with 1 Axes>"
            ],
            "image/png": "[encoded data removed]"
          },
          "metadata": {}
        }
      ]
    },
    {
      "cell_type": "code",
      "source": [
        "# estimator = DecisionTreeClassifier(max_depth=5, min_samples_leaf=1)\n",
        "# title = \"Performance of Decision Tree\"\n",
        "# plot_fit_time_vs_score(\n",
        "#     estimator, X_train, y_train, title=title, ylim=(0.7, 1.01), cv=K_FOLDS, n_jobs=4\n",
        "# )"
      ],
      "metadata": {
        "id": "jIFpqEpmOpV7"
      },
      "execution_count": null,
      "outputs": []
    },
    {
      "cell_type": "markdown",
      "source": [
        "## Train and test"
      ],
      "metadata": {
        "id": "KjsW76sZGg6Q"
      }
    },
    {
      "cell_type": "code",
      "source": [
        "train_and_test(DecisionTreeClassifier(max_depth=5, min_samples_leaf=1))"
      ],
      "metadata": {
        "colab": {
          "base_uri": "https://localhost:8080/"
        },
        "id": "dkRy3Ll1f7tG",
        "outputId": "ef1047a0-7052-4e4f-fa2a-7de096d34729"
      },
      "execution_count": null,
      "outputs": [
        {
          "output_type": "stream",
          "name": "stdout",
          "text": [
            "training time in seconds 0.006344795227050781\n",
            "test accuracy: 0.8134328358208955\n",
            "Confusion matrix:\n",
            "[[144  21]\n",
            " [ 29  74]]\n"
          ]
        }
      ]
    },
    {
      "cell_type": "markdown",
      "source": [
        "# Decision Tree with AdaBoost"
      ],
      "metadata": {
        "id": "TwQfQ2YJ66Ke"
      }
    },
    {
      "cell_type": "markdown",
      "source": [
        "## Tune hyperparameters"
      ],
      "metadata": {
        "id": "VvjWupyFH_X3"
      }
    },
    {
      "cell_type": "markdown",
      "source": [
        "Tune learning rate"
      ],
      "metadata": {
        "id": "-jNxj4Tx7R5N"
      }
    },
    {
      "cell_type": "code",
      "source": [
        "plot_validation_curve(\n",
        "    AdaBoostClassifier(),\n",
        "    \"Validation Curve for learning rate with Adaboost DTree\", \n",
        "    X_train, \n",
        "    y_train, \n",
        "    param_name=\"learning_rate\", \n",
        "    param_range=np.arange(0.1, 1, 0.1).tolist(), \n",
        "    ylim=(0.7, 1.01), \n",
        "    cv=K_FOLDS, \n",
        "    use_semilogx=False,\n",
        "    save_as=f\"./plots/{dataset_name}/boosting_validation_curve_learning_rate.png\"\n",
        ")"
      ],
      "metadata": {
        "colab": {
          "base_uri": "https://localhost:8080/",
          "height": 319
        },
        "id": "BOOdKTkpgEOV",
        "outputId": "d4db86f9-1d87-4201-e600-0d1be34a4090"
      },
      "execution_count": null,
      "outputs": [
        {
          "output_type": "execute_result",
          "data": {
            "text/plain": [
              "<module 'matplotlib.pyplot' from '/usr/local/lib/python3.7/dist-packages/matplotlib/pyplot.py'>"
            ]
          },
          "metadata": {},
          "execution_count": 57
        },
        {
          "output_type": "display_data",
          "data": {
            "text/plain": [
              "<Figure size 432x288 with 1 Axes>"
            ],
            "image/png": "[encoded data removed]"
          },
          "metadata": {}
        }
      ]
    },
    {
      "cell_type": "markdown",
      "source": [
        "Tune n_estimators"
      ],
      "metadata": {
        "id": "tf-EQULN7TYZ"
      }
    },
    {
      "cell_type": "code",
      "source": [
        "plot_validation_curve(\n",
        "    AdaBoostClassifier(learning_rate=0.2), \n",
        "    \"Validation Curve for n estimators with Adaboost DTree\", \n",
        "    X_train, \n",
        "    y_train, \n",
        "    param_name=\"n_estimators\", \n",
        "    param_range=list(range(25, 100)), \n",
        "    ylim=(0.7, 1.01), \n",
        "    cv=K_FOLDS, \n",
        "    use_semilogx=False,\n",
        "    save_as=f\"./plots/{dataset_name}/boosting_validation_curve_n_estimators.png\"\n",
        ")"
      ],
      "metadata": {
        "colab": {
          "base_uri": "https://localhost:8080/",
          "height": 319
        },
        "id": "HPirgUQ_gUus",
        "outputId": "dbdd58a3-b653-42e0-fff0-d128af918435"
      },
      "execution_count": null,
      "outputs": [
        {
          "output_type": "execute_result",
          "data": {
            "text/plain": [
              "<module 'matplotlib.pyplot' from '/usr/local/lib/python3.7/dist-packages/matplotlib/pyplot.py'>"
            ]
          },
          "metadata": {},
          "execution_count": 58
        },
        {
          "output_type": "display_data",
          "data": {
            "text/plain": [
              "<Figure size 432x288 with 1 Axes>"
            ],
            "image/png": "[encoded data removed]"
          },
          "metadata": {}
        }
      ]
    },
    {
      "cell_type": "markdown",
      "source": [
        "## Plot learning curve"
      ],
      "metadata": {
        "id": "aU1EI2G2IHoA"
      }
    },
    {
      "cell_type": "code",
      "source": [
        "plot_learning_curve(\n",
        "    AdaBoostClassifier(learning_rate=0.2, n_estimators=30), \n",
        "    \"Learning Curve for Adaboost DTree\", \n",
        "    X_train, \n",
        "    y_train, \n",
        "    ylim=(0.7, 1.01), \n",
        "    cv=K_FOLDS, \n",
        "    n_jobs=4,\n",
        "    save_as=f\"./plots/{dataset_name}/boosting_learning_curve.png\"\n",
        ")"
      ],
      "metadata": {
        "colab": {
          "base_uri": "https://localhost:8080/",
          "height": 319
        },
        "id": "8-rFW_44gZsS",
        "outputId": "5dc6c222-b3fc-40cb-f3f3-5ab8579552cf"
      },
      "execution_count": null,
      "outputs": [
        {
          "output_type": "execute_result",
          "data": {
            "text/plain": [
              "<module 'matplotlib.pyplot' from '/usr/local/lib/python3.7/dist-packages/matplotlib/pyplot.py'>"
            ]
          },
          "metadata": {},
          "execution_count": 59
        },
        {
          "output_type": "display_data",
          "data": {
            "text/plain": [
              "<Figure size 432x288 with 1 Axes>"
            ],
            "image/png": "[encoded data removed]"
          },
          "metadata": {}
        }
      ]
    },
    {
      "cell_type": "code",
      "source": [
        "# title = \"Performance of Decision Tree\"\n",
        "# plot_fit_time_vs_score(\n",
        "#     estimator, X_train, y_train, title=title, ylim=(0.7, 1.01), cv=n_folds, n_jobs=4\n",
        "# )"
      ],
      "metadata": {
        "id": "YT2adApWOyFE"
      },
      "execution_count": null,
      "outputs": []
    },
    {
      "cell_type": "markdown",
      "source": [
        "## Train and test"
      ],
      "metadata": {
        "id": "fdhDzP8X6_Ej"
      }
    },
    {
      "cell_type": "code",
      "source": [
        "train_and_test(AdaBoostClassifier(learning_rate=0.3, n_estimators=50))"
      ],
      "metadata": {
        "colab": {
          "base_uri": "https://localhost:8080/"
        },
        "id": "foHedbt0goT6",
        "outputId": "d776b51b-e7a5-4c52-eefb-6e0d35013ca5"
      },
      "execution_count": null,
      "outputs": [
        {
          "output_type": "stream",
          "name": "stdout",
          "text": [
            "training time in seconds 0.00446009635925293\n",
            "test accuracy: 0.8134328358208955\n",
            "Confusion matrix:\n",
            "[[144  21]\n",
            " [ 29  74]]\n"
          ]
        }
      ]
    },
    {
      "cell_type": "markdown",
      "source": [
        "# Multilayer Perceptron"
      ],
      "metadata": {
        "id": "GJGsxm1eIKwZ"
      }
    },
    {
      "cell_type": "markdown",
      "source": [
        "## Tune hyperparameters"
      ],
      "metadata": {
        "id": "rYpCsZKZ985S"
      }
    },
    {
      "cell_type": "markdown",
      "source": [
        "Tune learning_rate"
      ],
      "metadata": {
        "id": "ujF_LAmgBi0R"
      }
    },
    {
      "cell_type": "code",
      "source": [
        "estimator = MLPClassifier(random_state=1, solver='sgd')\n",
        "\n",
        "title = \"Validation Curve with Multilayer Perceptron\"\n",
        "param_name = \"learning_rate_init\"\n",
        "# param_range = np.arange(0.001, 0.01, 0.001).tolist()\n",
        "param_range = [0.001, 0.005, 0.01, 0.05, 0.1, 0.2, 0.4, 0.7]\n",
        "\n",
        "fig = None\n",
        "\n",
        "with warnings.catch_warnings():\n",
        "    warnings.filterwarnings(\n",
        "        \"ignore\", category=ConvergenceWarning, module=\"sklearn\"\n",
        "    )\n",
        "    fig = plot_validation_curve(\n",
        "        estimator, title, X_train, y_train, param_name, param_range, ylim=(0.7, 1.01), cv=K_FOLDS, use_semilogx=True\n",
        "    )\n",
        "    plt.savefig(f\"./plots/{dataset_name}/mlp_validation_curve_lr.png\")\n",
        "\n",
        "fig"
      ],
      "metadata": {
        "colab": {
          "base_uri": "https://localhost:8080/",
          "height": 325
        },
        "id": "TePBNoQD9_L6",
        "outputId": "490f3b08-2fe8-483c-da0b-50de2cec6996"
      },
      "execution_count": null,
      "outputs": [
        {
          "output_type": "execute_result",
          "data": {
            "text/plain": [
              "<module 'matplotlib.pyplot' from '/usr/local/lib/python3.7/dist-packages/matplotlib/pyplot.py'>"
            ]
          },
          "metadata": {},
          "execution_count": 62
        },
        {
          "output_type": "display_data",
          "data": {
            "text/plain": [
              "<Figure size 432x288 with 1 Axes>"
            ],
            "image/png": "[encoded data removed]"
          },
          "metadata": {}
        }
      ]
    },
    {
      "cell_type": "markdown",
      "source": [
        "Tune hidden_layer_sizes"
      ],
      "metadata": {
        "id": "z5mYzkODBg4O"
      }
    },
    {
      "cell_type": "code",
      "source": [
        "estimator = MLPClassifier(random_state=1, learning_rate_init=0.001, solver='sgd')\n",
        "\n",
        "title = \"Validation Curve with Multilayer Perceptron\"\n",
        "param_name = \"hidden_layer_sizes\"\n",
        "param_range = [(n,) for n in range(40, 161, 20)]\n",
        "\n",
        "fig = None\n",
        "\n",
        "with warnings.catch_warnings():\n",
        "    warnings.filterwarnings(\n",
        "        \"ignore\", category=ConvergenceWarning, module=\"sklearn\"\n",
        "    )\n",
        "    fig = plot_validation_curve(\n",
        "        estimator, title, X_train, y_train, param_name, param_range, ylim=(0.7, 1.01)\n",
        "    )\n",
        "    plt.savefig(f\"./plots/{dataset_name}/mlp_validation_curve_hidden_layers.png\")\n",
        "\n",
        "fig"
      ],
      "metadata": {
        "colab": {
          "base_uri": "https://localhost:8080/",
          "height": 319
        },
        "id": "8Fh29kBg-paK",
        "outputId": "59d8d4d6-234e-46c8-c418-38bf17c24941"
      },
      "execution_count": null,
      "outputs": [
        {
          "output_type": "execute_result",
          "data": {
            "text/plain": [
              "<module 'matplotlib.pyplot' from '/usr/local/lib/python3.7/dist-packages/matplotlib/pyplot.py'>"
            ]
          },
          "metadata": {},
          "execution_count": 63
        },
        {
          "output_type": "display_data",
          "data": {
            "text/plain": [
              "<Figure size 432x288 with 1 Axes>"
            ],
            "image/png": "[encoded data removed]"
          },
          "metadata": {}
        }
      ]
    },
    {
      "cell_type": "markdown",
      "source": [
        "## Plot learning curve"
      ],
      "metadata": {
        "id": "dxObIa52FrYo"
      }
    },
    {
      "cell_type": "code",
      "source": [
        "mlp = MLPClassifier(random_state=1, hidden_layer_sizes=(120,), learning_rate_init=0.01, solver='sgd')\n",
        "\n",
        "title = \"Learning Curve for MLP\"\n",
        "fig = plot_learning_curve(\n",
        "    mlp, title, X_train, y_train, ylim=(0.7, 1.01), cv=K_FOLDS, n_jobs=4\n",
        ")\n",
        "plt.savefig(f\"./plots/{dataset_name}/mlp_learning_curve.png\")\n",
        "fig"
      ],
      "metadata": {
        "colab": {
          "base_uri": "https://localhost:8080/",
          "height": 319
        },
        "id": "zJFKAgfMFsz4",
        "outputId": "370aa2fc-0254-464f-cdf0-d7e88339bf63"
      },
      "execution_count": null,
      "outputs": [
        {
          "output_type": "execute_result",
          "data": {
            "text/plain": [
              "<module 'matplotlib.pyplot' from '/usr/local/lib/python3.7/dist-packages/matplotlib/pyplot.py'>"
            ]
          },
          "metadata": {},
          "execution_count": 64
        },
        {
          "output_type": "display_data",
          "data": {
            "text/plain": [
              "<Figure size 432x288 with 1 Axes>"
            ],
            "image/png": "[encoded data removed]"
          },
          "metadata": {}
        }
      ]
    },
    {
      "cell_type": "code",
      "source": [
        "# title = \"Performance of MLP\"\n",
        "# plot_fit_time_vs_score(\n",
        "#     mlp, X_train, y_train, title=title, ylim=(0.7, 1.01), cv=K_FOLDS, n_jobs=4\n",
        "# )"
      ],
      "metadata": {
        "id": "1L5VpN3zGMlN"
      },
      "execution_count": null,
      "outputs": []
    },
    {
      "cell_type": "markdown",
      "source": [
        "## Plot loss curve"
      ],
      "metadata": {
        "id": "7h4kaRH79_hK"
      }
    },
    {
      "cell_type": "code",
      "source": [
        "# mlp = MLPClassifier(random_state=1, hidden_layer_sizes=(100,), learning_rate_init=0.001)\n",
        "\n",
        "# with warnings.catch_warnings():\n",
        "#     warnings.filterwarnings(\n",
        "#         \"ignore\", category=ConvergenceWarning, module=\"sklearn\"\n",
        "#     )\n",
        "#     mlp.fit(X_train, y_train)\n",
        "#     # cv_results = cross_validate(mlp, X_train, y_train, cv=n_folds)\n",
        "#     # print(sorted(cv_results.keys()))\n",
        "\n",
        "# plt.title(\"Loss Curve for Multilayer Perceptron\")\n",
        "# plt.plot(mlp.loss_curve_)"
      ],
      "metadata": {
        "id": "A0c_f0zG9_6c"
      },
      "execution_count": null,
      "outputs": []
    },
    {
      "cell_type": "code",
      "source": [
        "# lrs = [0.001, 0.005, 0.1, 0.2]\n",
        "# mlps = []\n",
        "# for lr in lrs:\n",
        "#     mlp = MLPClassifier(random_state=1, hidden_layer_sizes=(100,), learning_rate_init=lr)\n",
        "#     with warnings.catch_warnings():\n",
        "#         warnings.filterwarnings(\n",
        "#             \"ignore\", category=ConvergenceWarning, module=\"sklearn\"\n",
        "#         )\n",
        "#         mlp.fit(X_train, y_train)\n",
        "#     mlps.append(mlp)\n",
        "\n",
        "\n",
        "# fig, ax = plt.subplots()\n",
        "# plt.title(\"Loss Curve for Multilayer Perceptron\")\n",
        "# for mlp, lr in zip(mlps, lrs):\n",
        "#     ax.plot(mlp.loss_curve_, label=f\"learning_rate_init = {lr}\")\n",
        "# ax.legend(loc=\"best\")"
      ],
      "metadata": {
        "id": "DoVBvM4Alhkv"
      },
      "execution_count": null,
      "outputs": []
    },
    {
      "cell_type": "code",
      "source": [
        "# n_hidden_layers = list(range(50, 151, 20))\n",
        "# mlps = []\n",
        "# for n in n_hidden_layers:\n",
        "#     mlp = MLPClassifier(random_state=1, hidden_layer_sizes=(n,), learning_rate_init=0.005)\n",
        "#     with warnings.catch_warnings():\n",
        "#         warnings.filterwarnings(\n",
        "#             \"ignore\", category=ConvergenceWarning, module=\"sklearn\"\n",
        "#         )\n",
        "#         mlp.fit(X_train, y_train)\n",
        "#     mlps.append(mlp)\n",
        "\n",
        "\n",
        "# fig, ax = plt.subplots()\n",
        "# plt.title(\"Loss Curve for Multilayer Perceptron\")\n",
        "# for mlp, n in zip(mlps, n_hidden_layers):\n",
        "#     ax.plot(mlp.loss_curve_, label=f\"hidden_layers = {n}\")\n",
        "# ax.legend(loc=\"best\")"
      ],
      "metadata": {
        "id": "0yICHIGenDmK"
      },
      "execution_count": null,
      "outputs": []
    },
    {
      "cell_type": "markdown",
      "source": [
        "## Train and test"
      ],
      "metadata": {
        "id": "I5SSHf_7-Bcs"
      }
    },
    {
      "cell_type": "code",
      "source": [
        "mlp = MLPClassifier(random_state=1, hidden_layer_sizes=(120,), learning_rate_init=0.01, solver='sgd')\n",
        "with warnings.catch_warnings():\n",
        "    warnings.filterwarnings(\n",
        "        \"ignore\", category=ConvergenceWarning, module=\"sklearn\"\n",
        "    )\n",
        "    mlp.fit(X_train, y_train)\n",
        "\n",
        "y_pred = mlp.predict(X_test)\n",
        "acc = accuracy_score(y_test, y_pred)\n",
        "print(f\"test accuracy: {acc}\")\n",
        "cm = confusion_matrix(y_test, y_pred, labels=[0, 1])\n",
        "cm"
      ],
      "metadata": {
        "colab": {
          "base_uri": "https://localhost:8080/"
        },
        "id": "2OA715N1jqi2",
        "outputId": "30da18cb-ec34-4fe7-e3f5-daf53cfbaddb"
      },
      "execution_count": null,
      "outputs": [
        {
          "output_type": "stream",
          "name": "stdout",
          "text": [
            "test accuracy: 0.8171641791044776\n"
          ]
        },
        {
          "output_type": "execute_result",
          "data": {
            "text/plain": [
              "array([[149,  16],\n",
              "       [ 33,  70]])"
            ]
          },
          "metadata": {},
          "execution_count": 69
        }
      ]
    },
    {
      "cell_type": "code",
      "source": [
        "# !cp -r plots/$dataset_name/*.png /content/gdrive/MyDrive/plots/$dataset_name"
      ],
      "metadata": {
        "id": "mUEET_U0jpTf"
      },
      "execution_count": null,
      "outputs": []
    }
  ]
}